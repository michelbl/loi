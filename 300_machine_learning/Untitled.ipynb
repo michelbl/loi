{
 "cells": [
  {
   "cell_type": "code",
   "execution_count": 10,
   "metadata": {
    "collapsed": true
   },
   "outputs": [],
   "source": [
    "import psycopg2\n",
    "\n",
    "import jetons\n",
    "\n",
    "connection = psycopg2.connect(dbname='loi', user='loi', password='baba')\n",
    "curseur = connection.cursor()\n",
    "\n",
    "curseur.execute(\"select id_, titre, titrefull from texte_version;\")\n",
    "resultats = curseur.fetchall()\n",
    "\n",
    "curseur.close()\n",
    "connection.close()\n",
    "\n",
    "liste_id_ = [r[0] for r in resultats]\n",
    "titres = [r[1] for r in resultats]\n",
    "titres_entiers = [r[2] for r in resultats]\n",
    "\n",
    "contenu_brut = ''.join([t + '\\n' for t in titres_entiers])\n",
    "\n"
   ]
  },
  {
   "cell_type": "code",
   "execution_count": 13,
   "metadata": {
    "collapsed": false
   },
   "outputs": [],
   "source": [
    "concat = ''.join(titres_entiers)"
   ]
  },
  {
   "cell_type": "code",
   "execution_count": 14,
   "metadata": {
    "collapsed": false
   },
   "outputs": [
    {
     "data": {
      "text/plain": [
       "142671"
      ]
     },
     "execution_count": 14,
     "metadata": {},
     "output_type": "execute_result"
    }
   ],
   "source": [
    "concat.index('\\n')"
   ]
  },
  {
   "cell_type": "code",
   "execution_count": 16,
   "metadata": {
    "collapsed": false
   },
   "outputs": [
    {
     "data": {
      "text/plain": [
       "\"e du 28 juin 1983 portant dénonciation de l'Accord relatif aux signaux maritimes. adopté à Lisbonne\\r\\nle 23 octobre 1930 (1)Arrêté du 13 février 2001 autorisant au titre de l'année 2001 l'ouverture d'u\""
      ]
     },
     "execution_count": 16,
     "metadata": {},
     "output_type": "execute_result"
    }
   ],
   "source": [
    "concat[142571:142771]"
   ]
  },
  {
   "cell_type": "code",
   "execution_count": null,
   "metadata": {
    "collapsed": true
   },
   "outputs": [],
   "source": []
  },
  {
   "cell_type": "code",
   "execution_count": null,
   "metadata": {
    "collapsed": true
   },
   "outputs": [],
   "source": []
  },
  {
   "cell_type": "code",
   "execution_count": null,
   "metadata": {
    "collapsed": true
   },
   "outputs": [],
   "source": [
    "titres_entiers"
   ]
  },
  {
   "cell_type": "code",
   "execution_count": 11,
   "metadata": {
    "collapsed": true
   },
   "outputs": [],
   "source": [
    "position_mots, contenu_mots = jetons.transformation_jetons(contenu_brut)"
   ]
  },
  {
   "cell_type": "code",
   "execution_count": null,
   "metadata": {
    "collapsed": true
   },
   "outputs": [],
   "source": [
    "len(contenu_brut)"
   ]
  }
 ],
 "metadata": {
  "kernelspec": {
   "display_name": "Python 3",
   "language": "python",
   "name": "python3"
  },
  "language_info": {
   "codemirror_mode": {
    "name": "ipython",
    "version": 3
   },
   "file_extension": ".py",
   "mimetype": "text/x-python",
   "name": "python",
   "nbconvert_exporter": "python",
   "pygments_lexer": "ipython3",
   "version": "3.5.2"
  }
 },
 "nbformat": 4,
 "nbformat_minor": 2
}
