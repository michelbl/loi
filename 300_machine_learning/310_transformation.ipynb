{
 "cells": [
  {
   "cell_type": "code",
   "execution_count": 15,
   "metadata": {
    "collapsed": true
   },
   "outputs": [],
   "source": [
    "import xml.etree.ElementTree as ElementTree\n",
    "import re\n",
    "\n",
    "import psycopg2\n"
   ]
  },
  {
   "cell_type": "markdown",
   "metadata": {},
   "source": [
    "## Trouve le contenu d'un article"
   ]
  },
  {
   "cell_type": "code",
   "execution_count": 4,
   "metadata": {
    "collapsed": true
   },
   "outputs": [],
   "source": [
    "def charge_contenu_article(id_):\n",
    "    connection = psycopg2.connect(dbname='loi', user='loi', password='baba')\n",
    "    curseur = connection.cursor()\n",
    "\n",
    "    curseur.execute(\"select bloc_textuel from article_2 where id_ = %s;\", (id_,))\n",
    "    liste_contenu = curseur.fetchall()\n",
    "\n",
    "    curseur.close()\n",
    "    connection.close()\n",
    "\n",
    "    assert(len(liste_contenu) == 1)\n",
    "\n",
    "    bloc_textuel = liste_contenu[0][0]\n",
    "    \n",
    "    return bloc_textuel"
   ]
  },
  {
   "cell_type": "code",
   "execution_count": 44,
   "metadata": {
    "collapsed": false
   },
   "outputs": [
    {
     "data": {
      "text/plain": [
       "\"<CONTENU>\\n<p>\\n<br />\\n<br /> Par arrêté de la garde des sceaux, ministre de la justice, en date du 29 décembre 2008 :<br /> Les dispositions de l'arrêté du 14 mai 1996 instituant des régies d'avances et des régies de recettes auprès des secrétariats-greffes des juridictions civiles et pénales et fixant le montant de l'avance consentie à chaque régisseur en tant qu'il institue une régie d'avances et une régie de recettes auprès du tribunal d'instance de Neufchâteau sont abrogées.<br /> La régie d'avances et la régie de recettes instituées auprès du tribunal d'instance d'Epinal sont compétentes pour le ressort du tribunal d'instance de Neufchâteau.<br /> Les dispositions de l'arrêté du 18 avril 2008 nommant M. Michel Sion régisseur intérimaire de la régie d'avances et la régie de recettes du tribunal d'instance de Neufchâteau sont abrogées.<br />Le présent arrêté prend effet à compter du 1er janvier 2009.</p>\\n</CONTENU>\\n\""
      ]
     },
     "execution_count": 44,
     "metadata": {},
     "output_type": "execute_result"
    }
   ],
   "source": [
    "contenu_brut = charge_contenu_article('JORFARTI000020103526')\n",
    "contenu_brut"
   ]
  },
  {
   "cell_type": "markdown",
   "metadata": {},
   "source": [
    "## Enlève les balises HTML"
   ]
  },
  {
   "cell_type": "code",
   "execution_count": 48,
   "metadata": {
    "collapsed": true
   },
   "outputs": [],
   "source": [
    "def separation(contenu_brut, patron):\n",
    "    liste_debut = []\n",
    "    liste_fin = [0]\n",
    "    for balise_match in re.finditer(patron, contenu_brut):\n",
    "        debut, fin = balise_match.span()\n",
    "        liste_debut.append(debut)\n",
    "        liste_fin.append(fin)\n",
    "    liste_debut.append(len(contenu_brut))\n",
    "\n",
    "    position_paragraphes = []\n",
    "    liste_paragraphe = []\n",
    "    for debut, fin in zip(liste_fin, liste_debut):\n",
    "        position_paragraphes.append((debut, fin))\n",
    "        liste_paragraphe.append(contenu_brut[debut:fin])\n",
    "        \n",
    "    return position_paragraphes, liste_paragraphe"
   ]
  },
  {
   "cell_type": "code",
   "execution_count": 49,
   "metadata": {
    "collapsed": true
   },
   "outputs": [],
   "source": [
    "def suppression_HTML(contenu_brut):\n",
    "    return separation(contenu_brut, '<[^<]+?>')"
   ]
  },
  {
   "cell_type": "code",
   "execution_count": 50,
   "metadata": {
    "collapsed": false
   },
   "outputs": [],
   "source": [
    "position_paragraphes, _ = suppression_HTML(contenu_avec_balises)"
   ]
  },
  {
   "cell_type": "code",
   "execution_count": 51,
   "metadata": {
    "collapsed": false
   },
   "outputs": [
    {
     "data": {
      "text/plain": [
       "[(0, 0),\n",
       " (9, 10),\n",
       " (13, 14),\n",
       " (20, 21),\n",
       " (27, 116),\n",
       " (122, 482),\n",
       " (488, 653),\n",
       " (659, 849),\n",
       " (855, 915),\n",
       " (919, 920),\n",
       " (930, 931)]"
      ]
     },
     "execution_count": 51,
     "metadata": {},
     "output_type": "execute_result"
    }
   ],
   "source": [
    "position_paragraphes"
   ]
  },
  {
   "cell_type": "markdown",
   "metadata": {},
   "source": [
    "## Séparation en paragraphes"
   ]
  },
  {
   "cell_type": "code",
   "execution_count": 66,
   "metadata": {
    "collapsed": true
   },
   "outputs": [],
   "source": [
    "def separation_paragraphe(contenu_brut, position_paragraphes):\n",
    "    position_paragraphes_nouveau = []\n",
    "    \n",
    "    for debut, fin in position_paragraphes:\n",
    "        paragraphe = contenu_brut[debut:fin]\n",
    "        position_sous_paragraphes, _ = separation(paragraphe, '\\n')\n",
    "        position_sous_paragraphes = [(d + debut, f + debut) for d, f in position_sous_paragraphes if d!=f]\n",
    "        position_paragraphes_nouveau += position_sous_paragraphes\n",
    "        \n",
    "    return position_paragraphes_nouveau"
   ]
  },
  {
   "cell_type": "code",
   "execution_count": 67,
   "metadata": {
    "collapsed": true
   },
   "outputs": [],
   "source": [
    "position_paragraphes_2 = separation_paragraphe(contenu_brut, position_paragraphes)"
   ]
  },
  {
   "cell_type": "code",
   "execution_count": 68,
   "metadata": {
    "collapsed": false
   },
   "outputs": [
    {
     "data": {
      "text/plain": [
       "[(27, 116), (122, 482), (488, 653), (659, 849), (855, 915)]"
      ]
     },
     "execution_count": 68,
     "metadata": {},
     "output_type": "execute_result"
    }
   ],
   "source": [
    "position_paragraphes_2"
   ]
  },
  {
   "cell_type": "markdown",
   "metadata": {},
   "source": [
    "## Séparation en mots"
   ]
  },
  {
   "cell_type": "code",
   "execution_count": 73,
   "metadata": {
    "collapsed": true
   },
   "outputs": [],
   "source": [
    "def separation_paragraphe_en_mots(contenu_brut, position_paragraphes):\n",
    "    position_mots = []\n",
    "    \n",
    "    for debut, fin in position_paragraphes:\n",
    "        paragraphe = contenu_brut[debut:fin]\n",
    "        position_mots_dans_paragraphe, _ = separation(paragraphe, '[ \\t\\r\\n\\xa0]+')\n",
    "        position_mots_dans_paragraphe = [(d + debut, f + debut) for d, f in position_mots_dans_paragraphe if d!=f]\n",
    "        if len(position_mots_dans_paragraphe) > 0:\n",
    "            position_mots.append(position_mots_dans_paragraphe)\n",
    "        \n",
    "    return position_mots"
   ]
  },
  {
   "cell_type": "code",
   "execution_count": 74,
   "metadata": {
    "collapsed": true
   },
   "outputs": [],
   "source": [
    "position_mots = separation_paragraphe_en_mots(contenu_brut, position_paragraphes)"
   ]
  },
  {
   "cell_type": "code",
   "execution_count": 76,
   "metadata": {
    "collapsed": false
   },
   "outputs": [
    {
     "name": "stdout",
     "output_type": "stream",
     "text": [
      "Par arrêté de la garde des sceaux, ministre de la justice, en date du 29 décembre 2008 :\n",
      "Les dispositions de l'arrêté du 14 mai 1996 instituant des régies d'avances et des régies de recettes auprès des secrétariats-greffes des juridictions civiles et pénales et fixant le montant de l'avance consentie à chaque régisseur en tant qu'il institue une régie d'avances et une régie de recettes auprès du tribunal d'instance de Neufchâteau sont abrogées.\n",
      "La régie d'avances et la régie de recettes instituées auprès du tribunal d'instance d'Epinal sont compétentes pour le ressort du tribunal d'instance de Neufchâteau.\n",
      "Les dispositions de l'arrêté du 18 avril 2008 nommant M. Michel Sion régisseur intérimaire de la régie d'avances et la régie de recettes du tribunal d'instance de Neufchâteau sont abrogées.\n",
      "Le présent arrêté prend effet à compter du 1er janvier 2009.\n"
     ]
    }
   ],
   "source": [
    "for position_mots_dans_paragraphe in position_mots:\n",
    "    print(' '.join([contenu_brut[d:f] for d, f in position_mots_dans_paragraphe]))"
   ]
  },
  {
   "cell_type": "markdown",
   "metadata": {},
   "source": [
    "## Séparation par les apostrophes, en gardant les apostrophes"
   ]
  },
  {
   "cell_type": "code",
   "execution_count": 78,
   "metadata": {
    "collapsed": true
   },
   "outputs": [],
   "source": [
    "liste_apostrophe = [\"'\", '’']"
   ]
  },
  {
   "cell_type": "code",
   "execution_count": 90,
   "metadata": {
    "collapsed": true
   },
   "outputs": [],
   "source": [
    "# invariant : separe_apostrophe_mot n'est jamais appelé sur un mot vide\n",
    "def separe_apostrophe_mot(contenu_brut, debut, fin, apostrophe):\n",
    "    nouveaux_mots = []\n",
    "    index = contenu_brut.find(apostrophe, debut, fin)\n",
    "    if index == -1:\n",
    "        nouveaux_mots.append((debut, fin))\n",
    "    else:\n",
    "        if debut < index:\n",
    "            nouveaux_mots.append((debut, index))\n",
    "        nouveaux_mots.append((index, index + 1))\n",
    "        if index + 1 < fin:\n",
    "            nouveaux_mots += separe_apostrophe_mot(contenu_brut, index + 1, fin, apostrophe)\n",
    "    return nouveaux_mots"
   ]
  },
  {
   "cell_type": "code",
   "execution_count": 101,
   "metadata": {
    "collapsed": false
   },
   "outputs": [],
   "source": [
    "def separe_apostrophe_paragraphe(contenu_brut, position_mots_dans_paragraphe, apostrophe):\n",
    "    nouveaux_mots = []\n",
    "    for debut, fin in position_mots_dans_paragraphe:\n",
    "        nouveaux_mots += separe_apostrophe_mot(contenu_brut, debut, fin, apostrophe)\n",
    "        \n",
    "    return nouveaux_mots"
   ]
  },
  {
   "cell_type": "code",
   "execution_count": 104,
   "metadata": {
    "collapsed": true
   },
   "outputs": [],
   "source": [
    "def separe_apostrophe(contenu_brut, position_mots, apostrophe):\n",
    "    nouveau_position_mots = []\n",
    "    for position_mots_dans_paragraphe in position_mots:\n",
    "        nouveau_position_mots.append(\n",
    "            separe_apostrophe_paragraphe(contenu_brut, position_mots_dans_paragraphe, apostrophe))\n",
    "        \n",
    "    return nouveau_position_mots"
   ]
  },
  {
   "cell_type": "code",
   "execution_count": 108,
   "metadata": {
    "collapsed": false
   },
   "outputs": [],
   "source": [
    "for apostrophe in liste_apostrophe:\n",
    "    position_mots = separe_apostrophe(contenu_brut, position_mots, apostrophe)"
   ]
  },
  {
   "cell_type": "code",
   "execution_count": 109,
   "metadata": {
    "collapsed": false
   },
   "outputs": [
    {
     "name": "stdout",
     "output_type": "stream",
     "text": [
      "Par arrêté de la garde des sceaux, ministre de la justice, en date du 29 décembre 2008 :\n",
      "Les dispositions de l ' arrêté du 14 mai 1996 instituant des régies d ' avances et des régies de recettes auprès des secrétariats-greffes des juridictions civiles et pénales et fixant le montant de l ' avance consentie à chaque régisseur en tant qu ' il institue une régie d ' avances et une régie de recettes auprès du tribunal d ' instance de Neufchâteau sont abrogées.\n",
      "La régie d ' avances et la régie de recettes instituées auprès du tribunal d ' instance d ' Epinal sont compétentes pour le ressort du tribunal d ' instance de Neufchâteau.\n",
      "Les dispositions de l ' arrêté du 18 avril 2008 nommant M. Michel Sion régisseur intérimaire de la régie d ' avances et la régie de recettes du tribunal d ' instance de Neufchâteau sont abrogées.\n",
      "Le présent arrêté prend effet à compter du 1er janvier 2009.\n"
     ]
    }
   ],
   "source": [
    "for position_mots_dans_paragraphe in position_mots:\n",
    "    print(' '.join([contenu_brut[d:f] for d, f in position_mots_dans_paragraphe]))"
   ]
  },
  {
   "cell_type": "markdown",
   "metadata": {},
   "source": [
    "## Séparation de la ponctuation"
   ]
  },
  {
   "cell_type": "code",
   "execution_count": 77,
   "metadata": {
    "collapsed": true
   },
   "outputs": [],
   "source": [
    "liste_ponctuation = ['.', ',', ';', ':', '!', '?', \"'\", '\"', '(', ')', '[', ']', '«', '»']"
   ]
  },
  {
   "cell_type": "code",
   "execution_count": 134,
   "metadata": {
    "collapsed": true
   },
   "outputs": [],
   "source": [
    "def separe_ponctuation_mot(contenu_brut, debut, fin):\n",
    "    nouveaux_mots = []\n",
    "    while (debut < fin) and (contenu_brut[debut] in liste_ponctuation):\n",
    "        nouveaux_mots.append((debut, debut + 1))\n",
    "        debut += 1\n",
    "        \n",
    "    nouveaux_mots_inverse = []\n",
    "    while (debut < fin) and (contenu_brut[fin - 1] in liste_ponctuation):\n",
    "        nouveaux_mots_inverse.append((fin - 1, fin))\n",
    "        fin -= 1\n",
    "        \n",
    "    if debut < fin:\n",
    "        nouveaux_mots.append((debut, fin))\n",
    "\n",
    "    nouveaux_mots += nouveaux_mots_inverse[::-1]\n",
    "\n",
    "    return nouveaux_mots"
   ]
  },
  {
   "cell_type": "code",
   "execution_count": 135,
   "metadata": {
    "collapsed": false
   },
   "outputs": [],
   "source": [
    "def separe_ponctuation_paragraphe(contenu_brut, position_mots_dans_paragraphe):\n",
    "    nouveaux_mots = []\n",
    "    for debut, fin in position_mots_dans_paragraphe:\n",
    "        nouveaux_mots += separe_ponctuation_mot(contenu_brut, debut, fin)\n",
    "        \n",
    "    return nouveaux_mots"
   ]
  },
  {
   "cell_type": "code",
   "execution_count": 136,
   "metadata": {
    "collapsed": true
   },
   "outputs": [],
   "source": [
    "def separe_ponctuation(contenu_brut, position_mots):\n",
    "    nouveau_position_mots = []\n",
    "    for position_mots_dans_paragraphe in position_mots:\n",
    "        nouveau_position_mots.append(\n",
    "            separe_ponctuation_paragraphe(contenu_brut, position_mots_dans_paragraphe))\n",
    "        \n",
    "    return nouveau_position_mots"
   ]
  },
  {
   "cell_type": "code",
   "execution_count": 137,
   "metadata": {
    "collapsed": false
   },
   "outputs": [],
   "source": [
    "position_mots_2 = separe_ponctuation(contenu_brut, position_mots)"
   ]
  },
  {
   "cell_type": "code",
   "execution_count": 138,
   "metadata": {
    "collapsed": false
   },
   "outputs": [
    {
     "name": "stdout",
     "output_type": "stream",
     "text": [
      "Par arrêté de la garde des sceaux , ministre de la justice , en date du 29 décembre 2008 :\n",
      "Les dispositions de l ' arrêté du 14 mai 1996 instituant des régies d ' avances et des régies de recettes auprès des secrétariats-greffes des juridictions civiles et pénales et fixant le montant de l ' avance consentie à chaque régisseur en tant qu ' il institue une régie d ' avances et une régie de recettes auprès du tribunal d ' instance de Neufchâteau sont abrogées .\n",
      "La régie d ' avances et la régie de recettes instituées auprès du tribunal d ' instance d ' Epinal sont compétentes pour le ressort du tribunal d ' instance de Neufchâteau .\n",
      "Les dispositions de l ' arrêté du 18 avril 2008 nommant M . Michel Sion régisseur intérimaire de la régie d ' avances et la régie de recettes du tribunal d ' instance de Neufchâteau sont abrogées .\n",
      "Le présent arrêté prend effet à compter du 1er janvier 2009 .\n"
     ]
    }
   ],
   "source": [
    "for position_mots_dans_paragraphe in position_mots_2:\n",
    "    print(' '.join([contenu_brut[d:f] for d, f in position_mots_dans_paragraphe]))"
   ]
  },
  {
   "cell_type": "code",
   "execution_count": 166,
   "metadata": {
    "collapsed": true
   },
   "outputs": [],
   "source": [
    "position_mots = position_mots_2"
   ]
  },
  {
   "cell_type": "markdown",
   "metadata": {},
   "source": [
    "## Transforme les numéros en jetons\n",
    "Ceci permet de réduire la taille du vocabulaire en regroupant les nombres de même type."
   ]
  },
  {
   "cell_type": "markdown",
   "metadata": {},
   "source": [
    "### Fonction auxilliaires"
   ]
  },
  {
   "cell_type": "code",
   "execution_count": 168,
   "metadata": {
    "collapsed": true
   },
   "outputs": [],
   "source": [
    "def est_entier(v):\n",
    "    for c in v:\n",
    "        if c not in ['0', '1', '2', '3', '4', '5', '6', '7', '8', '9']:\n",
    "            return False\n",
    "    if not v:\n",
    "        return False\n",
    "    if v[0] == '0':\n",
    "        return False\n",
    "    return True"
   ]
  },
  {
   "cell_type": "code",
   "execution_count": 169,
   "metadata": {
    "collapsed": true
   },
   "outputs": [],
   "source": [
    "def passe_paragraphe(\n",
    "        contenu_brut,\n",
    "        position_mots_dans_paragraphe, contenu_mots_dans_paragraphe,\n",
    "        nb_mots, est_numero, jeton\n",
    "        ):\n",
    "    nouvelles_positions = []\n",
    "    nouveaux_contenus = []\n",
    "    \n",
    "    i = 0\n",
    "    while i < len(position_mots_dans_paragraphe):\n",
    "        if (i + nb_mots <= len(position_mots_dans_paragraphe)) and (est_numero(contenu_brut, position_mots_dans_paragraphe[i:i+nb_mots])):\n",
    "            nouvelles_positions.append((position_mots_dans_paragraphe[i][0], position_mots_dans_paragraphe[i+nb_mots-1][1]))\n",
    "            nouveaux_contenus.append(jeton)\n",
    "            i += nb_mots\n",
    "        else:\n",
    "            nouvelles_positions.append(position_mots_dans_paragraphe[i])\n",
    "            nouveaux_contenus.append(contenu_mots_dans_paragraphe[i])\n",
    "            i += 1\n",
    "\n",
    "    return nouvelles_positions, nouveaux_contenus"
   ]
  },
  {
   "cell_type": "code",
   "execution_count": 170,
   "metadata": {
    "collapsed": true
   },
   "outputs": [],
   "source": [
    "def passe(contenu_brut, position_mots, contenu_mots, nb_mots, est_numero, jeton):\n",
    "    nouvelles_positions = []\n",
    "    nouveaux_contenus = []\n",
    "    for position_mots_dans_paragraphe, contenu_mots_dans_paragraphe in zip(position_mots, contenu_mots):\n",
    "        nouvelles_positions_dans_paragraphe, nouveaux_contenus_dans_paragraphe = passe_paragraphe(\n",
    "            contenu_brut,\n",
    "            position_mots_dans_paragraphe, contenu_mots_dans_paragraphe,\n",
    "            nb_mots, est_numero, jeton)\n",
    "        \n",
    "        nouvelles_positions.append(nouvelles_positions_dans_paragraphe)\n",
    "        nouveaux_contenus.append(nouveaux_contenus_dans_paragraphe)\n",
    "        \n",
    "    return nouvelles_positions, nouveaux_contenus"
   ]
  },
  {
   "cell_type": "code",
   "execution_count": 186,
   "metadata": {
    "collapsed": true
   },
   "outputs": [],
   "source": [
    "# passe_paragraphe avec nb_mots = 1\n",
    "def passe_paragraphe_bijective(\n",
    "        contenu_brut,\n",
    "        position_mots_dans_paragraphe, contenu_mots_dans_paragraphe,\n",
    "        liste_est_numero, jetons\n",
    "        ):\n",
    "    nouveaux_contenus = []\n",
    "    \n",
    "    for i in range(len(position_mots_dans_paragraphe)):\n",
    "        debut, fin = position_mots_dans_paragraphe[i]\n",
    "        for est_numero, jeton in zip(liste_est_numero, jetons):\n",
    "            if est_numero(contenu_brut, debut, fin):\n",
    "                nouveaux_contenus.append(jeton)\n",
    "                continue\n",
    "        nouveaux_contenus.append(contenu_mots_dans_paragraphe[i])\n",
    "\n",
    "    return nouveaux_contenus"
   ]
  },
  {
   "cell_type": "code",
   "execution_count": 204,
   "metadata": {
    "collapsed": true
   },
   "outputs": [],
   "source": [
    "# passe avec nb_mots = 1 mais avec plusieurs tests\n",
    "def passe_bijective(contenu_brut, position_mots, contenu_mots, liste_est_numero, jetons):\n",
    "    nouveaux_contenus = []\n",
    "    for position_mots_dans_paragraphe, contenu_mots_dans_paragraphe in zip(position_mots, contenu_mots):\n",
    "        nouveaux_contenus_dans_paragraphe = passe_paragraphe_bijective(\n",
    "            contenu_brut,\n",
    "            position_mots_dans_paragraphe, contenu_mots_dans_paragraphe,\n",
    "            liste_est_numero, jetons)\n",
    "        \n",
    "        nouveaux_contenus.append(nouveaux_contenus_dans_paragraphe)\n",
    "        \n",
    "    return nouveaux_contenus"
   ]
  },
  {
   "cell_type": "code",
   "execution_count": 194,
   "metadata": {
    "collapsed": true
   },
   "outputs": [],
   "source": [
    "def est_regex(contenu_brut, debut, fin, regex):\n",
    "    mot = contenu_brut[debut:fin]\n",
    "    return bool(re.match(regex, mot))"
   ]
  },
  {
   "cell_type": "markdown",
   "metadata": {},
   "source": [
    "### Différents types de numérotations"
   ]
  },
  {
   "cell_type": "code",
   "execution_count": 207,
   "metadata": {
    "collapsed": true
   },
   "outputs": [],
   "source": [
    "liste_est_numero = []\n",
    "jetons = []"
   ]
  },
  {
   "cell_type": "code",
   "execution_count": 208,
   "metadata": {
    "collapsed": true
   },
   "outputs": [],
   "source": [
    "# Dates\n",
    "\n",
    "jeton_date = '__date'\n",
    "\n",
    "def est_date(contenu_brut, mots):\n",
    "    d, f = mots[0]\n",
    "    mot_jour = contenu_brut[d:f]\n",
    "    if est_entier(mot_jour) or mot_jour == '1er':\n",
    "        if mot_jour == '1er':\n",
    "            num_jour = 1\n",
    "        else:\n",
    "            num_jour = int(mot_jour)\n",
    "        if num_jour >= 1 and num_jour <= 31:\n",
    "            d, f = mots[1]\n",
    "            mot_mois = contenu_brut[d:f]\n",
    "            if mot_mois in ['janvier', 'février', 'mars', 'avril',\n",
    "                            'mai', 'juin', 'juillet', 'août',\n",
    "                            'septembre', 'octobre', 'novembre', 'décembre']:\n",
    "                d, f = mots[2]\n",
    "                mot_annee = contenu_brut[d:f]\n",
    "                if est_entier(mot_annee):\n",
    "                    num_annee = int(mot_annee)\n",
    "                    if num_annee >= 1000 and num_annee <= 2500:\n",
    "                        return True\n",
    "    return False\n"
   ]
  },
  {
   "cell_type": "code",
   "execution_count": 209,
   "metadata": {
    "collapsed": true
   },
   "outputs": [],
   "source": [
    "# Nombres arabes\n",
    "\n",
    "jeton_arabe = '__arabe'\n",
    "\n",
    "def est_arabe(contenu_brut, debut, fin):\n",
    "    mot = contenu_brut[debut:fin]\n",
    "    return est_entier(mot)\n",
    "\n",
    "liste_est_numero.append(est_arabe)\n",
    "jetons.append(jeton_arabe)"
   ]
  },
  {
   "cell_type": "code",
   "execution_count": 210,
   "metadata": {
    "collapsed": true
   },
   "outputs": [],
   "source": [
    "# Nombres romains\n",
    "\n",
    "regex_romain_minuscule = r'^(x{0,3})(ix|iv|v?i{0,4})$'\n",
    "regex_romain_majuscule = r'^(X{0,3})(IX|IV|V?I{0,4})$'\n",
    "\n",
    "jeton_romain_minuscule = '__romain_min'\n",
    "jeton_romain_majuscule = '__romain_maj'\n",
    "\n",
    "def est_romain_min(contenu_brut, debut, fin):\n",
    "    return est_regex(contenu_brut, debut, fin, regex_romain_minuscule)\n",
    "\n",
    "def est_romain_maj(contenu_brut, debut, fin):\n",
    "    return est_regex(contenu_brut, debut, fin, regex_romain_majuscule)\n",
    "\n",
    "liste_est_numero.append(est_romain_min)\n",
    "jetons.append(jeton_romain_minuscule)\n",
    "\n",
    "liste_est_numero.append(est_romain_maj)\n",
    "jetons.append(jeton_romain_majuscule)"
   ]
  },
  {
   "cell_type": "code",
   "execution_count": 211,
   "metadata": {
    "collapsed": true
   },
   "outputs": [],
   "source": [
    "# Nombres arabes composés (ex: loi 2008-243, article L. 1223-6)\n",
    "\n",
    "regex_arabe_comp = r'^\\d+-\\d+$'\n",
    "\n",
    "jeton_arabe_comp = '__arabe_comp'\n",
    "\n",
    "def est_arabe_comp(contenu_brut, debut, fin):\n",
    "    return est_regex(contenu_brut, debut, fin, regex_arabe_comp)\n",
    "\n",
    "liste_est_numero.append(est_arabe_comp)\n",
    "jetons.append(jeton_arabe_comp)"
   ]
  },
  {
   "cell_type": "code",
   "execution_count": 212,
   "metadata": {
    "collapsed": true
   },
   "outputs": [],
   "source": [
    "# Numérotation code (ex: L. 1223-6, R. 1223-7, L1223-6, R1223-6)\n",
    "# Pour l'instant, la manière longue (X. DDD-DDD) n'est pas traitée (déjà __arabe_comp pour réduire la cardinalité)\n",
    "\n",
    "regex_num_article = r'^(L|R)\\d+-\\d+$'\n",
    "\n",
    "jeton_num_article = '__num_article'\n",
    "\n",
    "def est_num_article(contenu_brut, debut, fin):\n",
    "    return est_regex(contenu_brut, debut, fin, regex_num_article)\n",
    "\n",
    "liste_est_numero.append(est_num_article)\n",
    "jetons.append(jeton_num_article)"
   ]
  },
  {
   "cell_type": "code",
   "execution_count": 213,
   "metadata": {
    "collapsed": true
   },
   "outputs": [],
   "source": [
    "# Adverbes multiplicatifs latins (bit, ter...)\n",
    "\n",
    "latins = [\n",
    "    'bis',\n",
    "    'ter',\n",
    "    'quater',\n",
    "    'quinquies',\n",
    "    'sexies',\n",
    "    'septies',\n",
    "    'octies',\n",
    "    'nonies',\n",
    "    'decies',\n",
    "    'undecies',\n",
    "    'duodecies',\n",
    "    'terdecies',\n",
    "    'quaterdecies',\n",
    "    'quindecies',\n",
    "    'sedecies',\n",
    "    'sexdecies',\n",
    "    'septdecies',\n",
    "    'duodevicies',\n",
    "    'octodecies',\n",
    "    'undevicies',\n",
    "    'novodecies',\n",
    "    'vicies',\n",
    "]\n",
    "\n",
    "jeton_latin = '__latin'\n",
    "\n",
    "def est_latin(contenu_brut, debut, fin):\n",
    "    mot = contenu_brut[debut:fin]\n",
    "    return mot in latins\n",
    "\n",
    "liste_est_numero.append(est_latin)\n",
    "jetons.append(jeton_latin)"
   ]
  },
  {
   "cell_type": "code",
   "execution_count": 214,
   "metadata": {
    "collapsed": true
   },
   "outputs": [],
   "source": [
    "# Ordinaux ° (ex: 2°)\n",
    "\n",
    "regex_ordinal_o = r'^\\d+°$'\n",
    "jeton_ordinal_o = '__ordinal_o'\n",
    "\n",
    "def est_ordinal_o(contenu_brut, debut, fin):\n",
    "    return est_regex(contenu_brut, debut, fin, regex_ordinal_o)\n",
    "\n",
    "liste_est_numero.append(est_ordinal_o)\n",
    "jetons.append(jeton_ordinal_o)"
   ]
  },
  {
   "cell_type": "markdown",
   "metadata": {},
   "source": [
    "### Exécution"
   ]
  },
  {
   "cell_type": "code",
   "execution_count": 219,
   "metadata": {
    "collapsed": true
   },
   "outputs": [],
   "source": [
    "contenu_mots = [[None] * len(l) for l in position_mots]"
   ]
  },
  {
   "cell_type": "code",
   "execution_count": 220,
   "metadata": {
    "collapsed": false
   },
   "outputs": [],
   "source": [
    "nouvelles_positions, nouveaux_contenus = passe(contenu_brut, position_mots, contenu_mots, 3, est_date, jeton_date)"
   ]
  },
  {
   "cell_type": "code",
   "execution_count": 221,
   "metadata": {
    "collapsed": false
   },
   "outputs": [],
   "source": [
    "nouveaux_contenus = passe_bijective(contenu_brut, nouvelles_positions, nouveaux_contenus, liste_est_numero, jetons)"
   ]
  },
  {
   "cell_type": "code",
   "execution_count": 222,
   "metadata": {
    "collapsed": false
   },
   "outputs": [
    {
     "name": "stdout",
     "output_type": "stream",
     "text": [
      "Par | arrêté | de | la | garde | des | sceaux | , | ministre | de | la | justice | , | en | date | du | 29 décembre 2008 | :\n",
      "Les | dispositions | de | l | ' | arrêté | du | 14 mai 1996 | instituant | des | régies | d | ' | avances | et | des | régies | de | recettes | auprès | des | secrétariats-greffes | des | juridictions | civiles | et | pénales | et | fixant | le | montant | de | l | ' | avance | consentie | à | chaque | régisseur | en | tant | qu | ' | il | institue | une | régie | d | ' | avances | et | une | régie | de | recettes | auprès | du | tribunal | d | ' | instance | de | Neufchâteau | sont | abrogées | .\n",
      "La | régie | d | ' | avances | et | la | régie | de | recettes | instituées | auprès | du | tribunal | d | ' | instance | d | ' | Epinal | sont | compétentes | pour | le | ressort | du | tribunal | d | ' | instance | de | Neufchâteau | .\n",
      "Les | dispositions | de | l | ' | arrêté | du | 18 avril 2008 | nommant | M | . | Michel | Sion | régisseur | intérimaire | de | la | régie | d | ' | avances | et | la | régie | de | recettes | du | tribunal | d | ' | instance | de | Neufchâteau | sont | abrogées | .\n",
      "Le | présent | arrêté | prend | effet | à | compter | du | 1er janvier 2009 | .\n"
     ]
    }
   ],
   "source": [
    "for position_mots_dans_paragraphe in nouvelles_positions:\n",
    "    print(' | '.join([contenu_brut[d:f] for d, f in position_mots_dans_paragraphe]))"
   ]
  },
  {
   "cell_type": "code",
   "execution_count": null,
   "metadata": {
    "collapsed": true
   },
   "outputs": [],
   "source": []
  },
  {
   "cell_type": "code",
   "execution_count": null,
   "metadata": {
    "collapsed": true
   },
   "outputs": [],
   "source": []
  },
  {
   "cell_type": "code",
   "execution_count": null,
   "metadata": {
    "collapsed": true
   },
   "outputs": [],
   "source": []
  },
  {
   "cell_type": "code",
   "execution_count": null,
   "metadata": {
    "collapsed": true
   },
   "outputs": [],
   "source": []
  },
  {
   "cell_type": "code",
   "execution_count": null,
   "metadata": {
    "collapsed": true
   },
   "outputs": [],
   "source": []
  }
 ],
 "metadata": {
  "kernelspec": {
   "display_name": "Python 3",
   "language": "python",
   "name": "python3"
  },
  "language_info": {
   "codemirror_mode": {
    "name": "ipython",
    "version": 3
   },
   "file_extension": ".py",
   "mimetype": "text/x-python",
   "name": "python",
   "nbconvert_exporter": "python",
   "pygments_lexer": "ipython3",
   "version": "3.5.2"
  }
 },
 "nbformat": 4,
 "nbformat_minor": 2
}
