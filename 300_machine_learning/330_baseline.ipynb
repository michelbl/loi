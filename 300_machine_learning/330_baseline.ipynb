{
 "cells": [
  {
   "cell_type": "code",
   "execution_count": 1,
   "metadata": {
    "collapsed": false
   },
   "outputs": [],
   "source": [
    "import psycopg2\n",
    "import pickle\n",
    "import os\n",
    "from collections import Counter\n",
    "from matplotlib import pyplot as plt\n",
    "import numpy as np\n",
    "\n",
    "import jetons\n",
    "import liens\n",
    "\n",
    "%matplotlib inline"
   ]
  },
  {
   "cell_type": "markdown",
   "metadata": {},
   "source": [
    "## Un exemple"
   ]
  },
  {
   "cell_type": "code",
   "execution_count": null,
   "metadata": {
    "collapsed": false
   },
   "outputs": [],
   "source": [
    "contenu_brut = jetons.charge_contenu_article('JORFARTI000017765080')\n",
    "position_mots, contenu_mots = jetons.transformation_jetons(contenu_brut)\n",
    "jetons.joli_affichage(contenu_brut, position_mots, contenu_mots)"
   ]
  },
  {
   "cell_type": "code",
   "execution_count": null,
   "metadata": {
    "collapsed": false
   },
   "outputs": [],
   "source": [
    "liste_liens = liens.trouve_liens(contenu_brut, position_mots, contenu_mots)\n",
    "liens.joli_affichage_liens(contenu_brut, liste_liens)"
   ]
  },
  {
   "cell_type": "markdown",
   "metadata": {},
   "source": [
    "## Des exemples"
   ]
  },
  {
   "cell_type": "code",
   "execution_count": null,
   "metadata": {
    "collapsed": false
   },
   "outputs": [],
   "source": [
    "connection = psycopg2.connect(dbname='loi', user='loi', password='baba')\n",
    "curseur = connection.cursor()\n",
    "\n",
    "curseur.execute(\"select id_ from article_2 limit 100;\")\n",
    "liste_id_ = curseur.fetchall()\n",
    "\n",
    "curseur.close()\n",
    "connection.close()"
   ]
  },
  {
   "cell_type": "code",
   "execution_count": null,
   "metadata": {
    "collapsed": false
   },
   "outputs": [],
   "source": [
    "liste_contenu_brut = []\n",
    "liste_position_mots = []\n",
    "liste_contenu_mots = []\n",
    "liste_liens_par_article = []\n",
    "for id_, in liste_id_:\n",
    "    contenu_brut = jetons.charge_contenu_article(id_)\n",
    "    position_mots, contenu_mots = jetons.transformation_jetons(contenu_brut)\n",
    "    liste_liens = liens.trouve_liens(contenu_brut, position_mots, contenu_mots)\n",
    "    \n",
    "    liste_contenu_brut.append(contenu_brut)\n",
    "    liste_position_mots.append(position_mots)\n",
    "    liste_contenu_mots.append(contenu_mots)\n",
    "    liste_liens_par_article.append(liste_liens)"
   ]
  },
  {
   "cell_type": "code",
   "execution_count": null,
   "metadata": {
    "collapsed": false
   },
   "outputs": [],
   "source": [
    "for i in range(len(liste_liens_par_article)):\n",
    "    id_ = liste_id_[i][0]\n",
    "    contenu_brut = liste_contenu_brut[i]\n",
    "    position_mots = liste_position_mots[i]\n",
    "    contenu_mots = liste_contenu_mots[i]\n",
    "    liste_liens = liste_liens_par_article[i]\n",
    "    \n",
    "    print(id_)\n",
    "    jetons.joli_affichage(contenu_brut, position_mots, contenu_mots)\n",
    "    print('liens :')\n",
    "    liens.joli_affichage_liens(contenu_brut, liste_liens)\n",
    "    print('représentation liens :')\n",
    "    print(liens.representation_liens(contenu_brut, liste_liens))\n",
    "    print()"
   ]
  },
  {
   "cell_type": "markdown",
   "metadata": {},
   "source": [
    "## Tous les liens candidats\n",
    "```\n",
    "cd /home/michel/loi/data\n",
    "cat representation_lien/* > representation_lien.txt\n",
    "```"
   ]
  },
  {
   "cell_type": "code",
   "execution_count": 2,
   "metadata": {
    "collapsed": true
   },
   "outputs": [],
   "source": [
    "dossier_data = '/home/michel/loi/data/'\n",
    "with open(os.path.join(dossier_data, 'representation_lien.txt'), 'r') as f:\n",
    "    tous_les_liens = f.read()"
   ]
  },
  {
   "cell_type": "code",
   "execution_count": 3,
   "metadata": {
    "collapsed": true
   },
   "outputs": [],
   "source": [
    "liste_repr_lien = tous_les_liens.split('\\n')"
   ]
  },
  {
   "cell_type": "code",
   "execution_count": 4,
   "metadata": {
    "collapsed": false
   },
   "outputs": [
    {
     "data": {
      "text/plain": [
       "9663626"
      ]
     },
     "execution_count": 4,
     "metadata": {},
     "output_type": "execute_result"
    }
   ],
   "source": [
    "len(liste_repr_lien)"
   ]
  },
  {
   "cell_type": "code",
   "execution_count": 5,
   "metadata": {
    "collapsed": true
   },
   "outputs": [],
   "source": [
    "compteur_repr = Counter(liste_repr_lien)"
   ]
  },
  {
   "cell_type": "code",
   "execution_count": 6,
   "metadata": {
    "collapsed": false
   },
   "outputs": [
    {
     "data": {
      "text/plain": [
       "565759"
      ]
     },
     "execution_count": 6,
     "metadata": {},
     "output_type": "execute_result"
    }
   ],
   "source": [
    "len(compteur_repr)"
   ]
  },
  {
   "cell_type": "code",
   "execution_count": 11,
   "metadata": {
    "collapsed": false,
    "scrolled": true
   },
   "outputs": [
    {
     "data": {
      "text/plain": [
       "[('__arabe __arabe', 441286),\n",
       " ('article __arabe', 333706),\n",
       " ('present arrete', 313645),\n",
       " ('article __num_longue', 298268),\n",
       " ('article __num_longue code', 212852),\n",
       " ('present decret', 158822),\n",
       " ('arrete __date', 95518),\n",
       " ('__lettre_min modifie dispositions suivantes', 78981),\n",
       " ('ndeg __arabe', 74858),\n",
       " ('__arabe __arabe __arabe __arabe __arabe', 71263),\n",
       " ('__lettre_maj modifie dispositions suivantes', 69421),\n",
       " ('__arabe , __arabe', 69276),\n",
       " ('__arabe __lettre_maj', 68574),\n",
       " ('__arabe __arabe __arabe', 62185),\n",
       " ('__lettre_maj __arabe', 55920),\n",
       " ('__ordinal_fr alinea', 55884),\n",
       " ('article __ordinal_fr', 53972),\n",
       " ('__arabe a __arabe', 49933),\n",
       " ('present article', 49097),\n",
       " ('__lettre_min absence ou __lettre_min', 49016),\n",
       " ('article __arabe_comp', 45947),\n",
       " ('__arabe ans __lettre_min', 42777),\n",
       " ('decret en conseil __lettre_min', 41795),\n",
       " ('article __arabe decret __date susvise', 39181),\n",
       " ('alinea precedent', 36817),\n",
       " ('__ordinal_fr alinea article __num_longue', 34129),\n",
       " ('section __arabe', 33107),\n",
       " ('articles __num_longue et __num_longue', 32620),\n",
       " ('__lettre_maj n n __lettre_maj __romain_maj __lettre_maj', 32392),\n",
       " ('__arabe __lettre_min', 31892),\n",
       " ('chapitre __romain_maj', 30946),\n",
       " ('decret ndeg __arabe_comp __date', 28831),\n",
       " ('__ordinal_o __lettre_maj', 28517),\n",
       " ('article __arabe present arrete', 27625),\n",
       " ('__arabe p . __arabe', 27598),\n",
       " ('decret __date susvise', 27142),\n",
       " ('__arabe et __arabe', 26355),\n",
       " ('articles __num_longue et __num_longue code', 24695),\n",
       " ('no __arabe', 24685),\n",
       " ('titre __romain_maj', 24573),\n",
       " ('__arabe paris cedex __arabe', 24106),\n",
       " ('__arabe __arabe __arabe __arabe', 23149),\n",
       " ('annexe __romain_maj', 23033),\n",
       " ('__arabe __arabe_comp', 21684),\n",
       " ('articles __arabe et __arabe', 21291),\n",
       " ('__arabe __arabe_comp ou __arabe __arabe __arabe __arabe __arabe ( __arabe',\n",
       "  21154),\n",
       " ('annexe present arrete', 20887),\n",
       " ('articles __num_longue a __num_longue', 20509),\n",
       " ('__ordinal_fr alinea article __arabe', 19196),\n",
       " ('article __arabe code', 19150),\n",
       " ('__date __date', 19020),\n",
       " ('__ordinal_fr alinea article __num_longue code', 18653),\n",
       " ('__lettre_maj compter __date', 18355),\n",
       " ('__ordinal_o article __num_longue', 18254),\n",
       " ('presente loi', 18063),\n",
       " ('article __num_longue meme code', 18014),\n",
       " ('titre annee __arabe', 17589),\n",
       " ('partie __arabe', 17432),\n",
       " ('__ordinal_fr section', 17423),\n",
       " ('annexe __lettre_maj', 17318),\n",
       " ('__arabe __lettre_min __arabe', 16985),\n",
       " ('decret ndeg __arabe_comp __date relatif', 16894),\n",
       " ('arrete __date susvise', 16717),\n",
       " ('article __arabe loi __date susvisee', 16317),\n",
       " ('__arabe w ( __arabe', 15973),\n",
       " ('article __arabe decret ndeg __arabe_comp __date', 15698),\n",
       " ('present chapitre', 15413),\n",
       " ('article __arabe_comp code', 15153),\n",
       " ('__arabe ) par __arabe', 15151),\n",
       " ('titre __lettre_min', 14754),\n",
       " ('arrete ministre __lettre_min', 14585),\n",
       " ('loi ndeg __arabe_comp __date', 14548),\n",
       " ('__arabe ( __arabe', 14474),\n",
       " ('__arabe __arabe_comp ou __arabe __arabe __arabe __arabe __arabe : __arabe',\n",
       "  14264),\n",
       " ('ndeg __arabe_comp __date', 14133),\n",
       " ('article __arabe loi ndeg __arabe_comp __date', 13577),\n",
       " ('annexe __arabe', 13423),\n",
       " ('article __arabe arrete __date susvise', 13163),\n",
       " ('article __arabe present decret', 13074),\n",
       " ('arrete __date relatif', 13009),\n",
       " ('articles __num_longue a __num_longue code', 12917),\n",
       " ('titre __arabe', 12560),\n",
       " ('__lettre_min delai __cardinal_fr', 12348),\n",
       " ('__lettre_min ) __lettre_maj', 12071),\n",
       " ('annexe __romain_maj present arrete', 11272),\n",
       " ('__arabe . __arabe', 11164),\n",
       " ('__lettre_min moins __cardinal_fr', 11064),\n",
       " ('__arabe sur __arabe', 11032),\n",
       " ('__lettre_min antenne : __arabe', 10958),\n",
       " ('decret __date', 10929),\n",
       " ('__ordinal_o __arabe', 10346),\n",
       " ('__lettre_maj n n __lettre_maj __romain_maj __lettre_maj __lettre_maj',\n",
       "  10241),\n",
       " ('__arabe ) , __arabe_comp', 9972),\n",
       " ('__lettre_min arrete', 9923),\n",
       " ('__lettre_maj ce titre', 9806),\n",
       " ('presente section', 9788),\n",
       " ('__lettre_min application present article', 9781),\n",
       " ('present titre', 9696),\n",
       " ('__arabe __arabe __lettre_maj', 9590),\n",
       " ('__ordinal_o __lettre_maj article __num_longue', 9456),\n",
       " ('__ordinal_fr alinea present article', 9437),\n",
       " ('__arabe ans __arabe', 9386),\n",
       " ('decret en date __date', 9206),\n",
       " ('loi __date', 8990),\n",
       " ('__lettre_maj n n __lettre_maj __romain_maj __lettre_maj __lettre_maj __lettre_maj',\n",
       "  8893),\n",
       " ('__lettre_maj annexe present arrete', 8818),\n",
       " ('article __arabe __lettre_maj', 8746),\n",
       " ('__ordinal_o au __ordinal_fr alinea', 8683),\n",
       " ('__arabe ) , __arabe', 8678),\n",
       " ('__lettre_maj abroge dispositions suivantes', 8646),\n",
       " ('__romain_maj article __num_longue', 8636),\n",
       " ('__date et __date', 8606),\n",
       " ('__arabe 000 __lettre_maj', 8603),\n",
       " ('avenant ndeg __arabe __date', 8573),\n",
       " ('decret ndeg __arabe_comp __date modifie', 8508),\n",
       " ('__ordinal_fr et __ordinal_fr', 8508),\n",
       " ('articles __arabe a __arabe', 8422),\n",
       " ('__arabe __date', 8351),\n",
       " ('__date relatif', 8287),\n",
       " ('ndeg __arabe_comp', 8279),\n",
       " ('ndeg candidature __arabe', 8247),\n",
       " ('article precedent', 8089),\n",
       " ('__ordinal_o article __num_longue code', 7915),\n",
       " ('__date , a __arabe', 7910),\n",
       " ('__arabe __arabe __arabe 0 __arabe', 7901),\n",
       " ('__lettre_maj titre', 7859),\n",
       " ('__arabe . - __lettre_maj', 7777),\n",
       " ('__cardinal_fr parties', 7736),\n",
       " ('__ordinal_o article __arabe', 7692),\n",
       " ('loi ndeg __arabe_comp __date relative', 7659),\n",
       " ('__lettre_min moins __arabe', 7536),\n",
       " ('article __arabe loi __date', 7487),\n",
       " ('__lettre_maj article __num_longue', 7161),\n",
       " ('article __ordinal_fr present arrete', 7145),\n",
       " ('article __arabe reglement', 7080),\n",
       " ('__arabe . __lettre_maj', 7064),\n",
       " ('__lettre_min ) au __ordinal_fr alinea', 6992),\n",
       " ('__lettre_maj . , __lettre_maj', 6982),\n",
       " ('__lettre_min appel __lettre_min', 6909),\n",
       " ('articles __num_longue , __num_longue et __num_longue', 6907),\n",
       " ('__lettre_maj + __lettre_maj', 6806),\n",
       " ('article __ordinal_fr decret __date susvise', 6764),\n",
       " ('arrete __date modifie', 6693),\n",
       " ('partie __lettre_min', 6680),\n",
       " ('__lettre_maj article __arabe', 6528),\n",
       " ('present code', 6525),\n",
       " ('__ordinal_o et __ordinal_o', 6500),\n",
       " ('__lettre_min titre', 6480),\n",
       " ('decret ndeg __arabe_comp __date modifie relatif', 6425),\n",
       " ('__cardinal_fr mois suivant', 6293),\n",
       " ('arrete __lettre_min', 6119),\n",
       " ('__ordinal_o __arabe __arabe', 6117),\n",
       " ('__arabe article __arabe', 6065),\n",
       " ('__arabe an __arabe', 6057),\n",
       " ('__lettre_maj et __romain_maj', 6031),\n",
       " ('__lettre_maj cree dispositions suivantes', 5967),\n",
       " ('__arabe millions __lettre_min', 5940),\n",
       " ('__ordinal_o sont modifiees', 5925),\n",
       " ('__ordinal_o le titulaire presente', 5917),\n",
       " ('chapitre __arabe', 5888),\n",
       " ('article __num_longue present code', 5827),\n",
       " ('__ordinal_fr partie', 5750),\n",
       " ('__lettre_maj __arabe_comp', 5745),\n",
       " ('__arabe : __arabe', 5680),\n",
       " ('article __arabe decret ndeg __arabe_comp __date modifie', 5680),\n",
       " ('__romain_maj article __arabe', 5674),\n",
       " ('article __arabe meme decret', 5672),\n",
       " ('annexe __lettre_maj present arrete', 5612),\n",
       " ('__date __lettre_min', 5611),\n",
       " ('no __arabe_comp en date __date', 5514),\n",
       " ('__romain_maj article __num_longue code', 5509),\n",
       " ('titres pour recrutement __lettre_min', 5509),\n",
       " ('__lettre_min partie', 5383),\n",
       " ('__lettre_min azimut __ordinal_o', 5362),\n",
       " ('__lettre_min autorisation __lettre_min', 5350),\n",
       " ('__cardinal_fr alineas', 5342),\n",
       " ('__ordinal_o l article __num_longue', 5329),\n",
       " ('__arabe . __arabe . __arabe', 5325),\n",
       " ('code pensions militaires __lettre_min', 5243),\n",
       " ('avenant susvise', 5212),\n",
       " ('__lettre_min azimuts __ordinal_o et __ordinal_o', 5206),\n",
       " ('__lettre_min duree __cardinal_fr', 5138),\n",
       " ('article __arabe decret ndeg __arabe_comp __date relatif', 5068),\n",
       " ('__ordinal_o le __ordinal_fr alinea', 5036),\n",
       " ('__arabe __romain_maj', 5007),\n",
       " ('__arabe ) __arabe', 4992),\n",
       " ('article __arabe loi ndeg __arabe_comp __date relative', 4981),\n",
       " ('__arabe ( __arabe __arabe', 4978),\n",
       " ('articles __num_longue et suivants code', 4977),\n",
       " ('present reglement', 4976),\n",
       " ('titre annee __arabe ouverture __lettre_min', 4964),\n",
       " ('__lettre_maj et __lettre_maj', 4931),\n",
       " ('article __arabe loi', 4923),\n",
       " ('presente annexe', 4921),\n",
       " ('__cardinal_fr jours suivant', 4891),\n",
       " ('avenant __lettre_min', 4891),\n",
       " ('alineas precedents', 4849),\n",
       " ('__arabe __arabe_comp ( __arabe', 4834),\n",
       " ('__arabe et __date', 4826),\n",
       " ('lois et reglements', 4813)]"
      ]
     },
     "execution_count": 11,
     "metadata": {},
     "output_type": "execute_result"
    }
   ],
   "source": [
    "compteur_repr.most_common(200)"
   ]
  },
  {
   "cell_type": "code",
   "execution_count": 8,
   "metadata": {
    "collapsed": true
   },
   "outputs": [],
   "source": [
    "frequences = np.array(sorted(compteur_repr.values())[::-1])"
   ]
  },
  {
   "cell_type": "code",
   "execution_count": 9,
   "metadata": {
    "collapsed": true
   },
   "outputs": [],
   "source": [
    "cumul = np.cumsum(frequences)"
   ]
  },
  {
   "cell_type": "code",
   "execution_count": 12,
   "metadata": {
    "collapsed": false
   },
   "outputs": [
    {
     "data": {
      "text/plain": [
       "[<matplotlib.lines.Line2D at 0x7fb097bbe278>,\n",
       " <matplotlib.lines.Line2D at 0x7fb097b5e780>,\n",
       " <matplotlib.lines.Line2D at 0x7fb097b4ecc0>]"
      ]
     },
     "execution_count": 12,
     "metadata": {},
     "output_type": "execute_result"
    },
    {
     "data": {
      "image/png": "[encoded data removed]",
      "text/plain": [
       "<matplotlib.figure.Figure at 0x7fb097bf5b00>"
      ]
     },
     "metadata": {},
     "output_type": "display_data"
    }
   ],
   "source": [
    "n = 1000\n",
    "plt.plot(range(n), frequences[:n], range(n), cumul[:n], range(n), cumul[-1]*np.ones(n))"
   ]
  },
  {
   "cell_type": "markdown",
   "metadata": {
    "collapsed": true
   },
   "source": [
    "## Patrons de début"
   ]
  },
  {
   "cell_type": "code",
   "execution_count": null,
   "metadata": {
    "collapsed": true
   },
   "outputs": [],
   "source": [
    "patrons = {\n",
    "    'article __arabe': {\n",
    "        'num_article': 1,\n",
    "\n",
    "    },\n",
    "    'article __num_longue': {\n",
    "        'num_article': 1,\n",
    "\n",
    "    },\n",
    "    'article __num_longue code': {\n",
    "        'nature': 'code',\n",
    "        'date': 1,\n",
    "    },\n",
    "    'arrete __date': {\n",
    "        'nature': 'arrete',\n",
    "        'date': 1,\n",
    "    },\n",
    "    'article __ordinal_fr': {\n",
    "        'num_article': 1,\n",
    "    },\n",
    "    'article __arabe_comp': {\n",
    "        'num_article': 1,\n",
    "    },\n",
    "    'article __arabe decret __date susvise': {\n",
    "        'nature': 'decret',\n",
    "        'num_article': 1,\n",
    "        'date': 3\n",
    "    },\n",
    "    \n",
    "}\n",
    "\n",
    "\n",
    "\n",
    "    'article __arabe': {\n",
    "    'article __num_longue': {\n",
    "    'article __num_longue code': {\n",
    "    'arrete __date': {\n",
    "    'article __ordinal_fr': {\n",
    "    'article __arabe_comp': {\n",
    "    'article __arabe decret __date susvise': {\n",
    " ('__ordinal_fr alinea article __num_longue', 34129),\n",
    " ('articles __num_longue et __num_longue', 32620),\n",
    " ('decret ndeg __arabe_comp __date', 28831),\n",
    " ('article __arabe present arrete', 27625),\n",
    " ('decret __date susvise', 27142),\n",
    " ('articles __num_longue et __num_longue code', 24695),\n",
    " ('annexe __romain_maj', 23033),\n",
    " ('articles __arabe et __arabe', 21291),\n",
    " ('annexe present arrete', 20887),\n",
    " ('articles __num_longue a __num_longue', 20509),\n",
    " ('__ordinal_fr alinea article __arabe', 19196),\n",
    " ('article __arabe code', 19150),\n",
    " ('__ordinal_fr alinea article __num_longue code', 18653),\n",
    " ('__ordinal_o article __num_longue', 18254),\n",
    " ('article __num_longue meme code', 18014),\n",
    " ('annexe __lettre_maj', 17318),\n",
    " ('decret ndeg __arabe_comp __date relatif', 16894),\n",
    " ('arrete __date susvise', 16717),\n",
    " ('article __arabe loi __date susvisee', 16317),\n",
    " ('article __arabe decret ndeg __arabe_comp __date', 15698),\n",
    " ('article __arabe_comp code', 15153),\n",
    " ('loi ndeg __arabe_comp __date', 14548),\n",
    " ('ndeg __arabe_comp __date', 14133),\n",
    " ('article __arabe loi ndeg __arabe_comp __date', 13577),\n",
    " ('annexe __arabe', 13423),\n",
    " ('article __arabe arrete __date susvise', 13163),\n",
    " ('article __arabe present decret', 13074),\n",
    " ('arrete __date relatif', 13009),\n",
    " ('articles __num_longue a __num_longue code', 12917),\n",
    " ('annexe __romain_maj present arrete', 11272),\n",
    " ('decret __date', 10929),\n",
    " ('__ordinal_o __lettre_maj article __num_longue', 9456)\n",
    "    \n",
    "    \n",
    " ('decret en date __date', 9206),\n",
    " ('loi __date', 8990),\n",
    " ('article __arabe __lettre_maj', 8746),\n",
    " ('__romain_maj article __num_longue', 8636),\n",
    " ('avenant ndeg __arabe __date', 8573),\n",
    " ('decret ndeg __arabe_comp __date modifie', 8508),\n",
    " ('articles __arabe a __arabe', 8422),\n",
    " ('__date relatif', 8287),\n",
    " ('ndeg __arabe_comp', 8279),\n",
    " ('__ordinal_o article __num_longue code', 7915),\n",
    " ('__ordinal_o article __arabe', 7692),\n",
    " ('loi ndeg __arabe_comp __date relative', 7659),\n",
    " ('article __arabe loi __date', 7487),\n",
    " ('__lettre_maj article __num_longue', 7161),\n",
    " ('article __ordinal_fr present arrete', 7145),\n",
    " ('article __arabe reglement', 7080),\n",
    " ('articles __num_longue , __num_longue et __num_longue', 6907),\n",
    " ('article __ordinal_fr decret __date susvise', 6764),\n",
    " ('arrete __date modifie', 6693),\n",
    " ('__lettre_maj article __arabe', 6528),\n",
    " ('decret ndeg __arabe_comp __date modifie relatif', 6425),\n",
    " ('__arabe article __arabe', 6065),\n",
    " ('article __num_longue present code', 5827),\n",
    " ('__lettre_maj __arabe_comp', 5745),\n",
    " ('article __arabe decret ndeg __arabe_comp __date modifie', 5680),\n",
    " ('__romain_maj article __arabe', 5674),\n",
    " ('article __arabe meme decret', 5672),\n",
    " ('annexe __lettre_maj present arrete', 5612),\n",
    " ('no __arabe_comp en date __date', 5514),\n",
    " ('__romain_maj article __num_longue code', 5509),\n",
    " ('__ordinal_o l article __num_longue', 5329),\n",
    " ('article __arabe decret ndeg __arabe_comp __date relatif', 5068),\n",
    " ('article __arabe loi ndeg __arabe_comp __date relative', 4981),\n",
    " ('articles __num_longue et suivants code', 4977),\n",
    " ('article __arabe loi', 4923),\n",
    "\n"
   ]
  }
 ],
 "metadata": {
  "kernelspec": {
   "display_name": "Python 3",
   "language": "python",
   "name": "python3"
  },
  "language_info": {
   "codemirror_mode": {
    "name": "ipython",
    "version": 3
   },
   "file_extension": ".py",
   "mimetype": "text/x-python",
   "name": "python",
   "nbconvert_exporter": "python",
   "pygments_lexer": "ipython3",
   "version": "3.5.2"
  }
 },
 "nbformat": 4,
 "nbformat_minor": 2
}
