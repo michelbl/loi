{
 "cells": [
  {
   "cell_type": "code",
   "execution_count": 1,
   "metadata": {
    "collapsed": true
   },
   "outputs": [],
   "source": [
    "import jetons"
   ]
  },
  {
   "cell_type": "code",
   "execution_count": 3,
   "metadata": {
    "collapsed": false
   },
   "outputs": [
    {
     "name": "stdout",
     "output_type": "stream",
     "text": [
      "Après | le | c | du | 1° (__ordinal_o) | de | l | ' | article | 39 (__arabe) | de | l | ' | annexe | III (__romain_maj) | au | code | général | des | impôts | , | sont | insérés | un | d | et | un | e | ainsi | rédigés | :\n",
      "« | d | ) | Pour | les | employeurs | assujettis | à | la | taxe | d | ' | apprentissage | et | à | la | contribution | au | développement | de | l | ' | apprentissage | conformément | , | respectivement | , | aux | articles | 224 (__arabe) | et | 1599 (__arabe) | quinquies (__latin) | A | du | code | général | des | impôts | , | le | montant | des | rémunérations | défini | aux | articles | 225 (__arabe) | et | 225 (__arabe) | A | du | code | général | des | impôts | ;\n",
      "« | e | ) | Pour | les | employeurs | assujettis | à | la | participation | au | développement | de | la | formation | professionnelle | continue | conformément | à | l | ' | article | L | . | 952-1 (__arabe_comp) | du | code | du | travail | , | le | montant | des | rémunérations | défini | au | premier | alinéa | de | l | ' | article | L | . | 952-1 (__arabe_comp) | précité | ainsi | que | , | le | cas | échéant | , | le | montant | des | rémunérations | versées | aux | titulaires | d | ' | un | contrat | à | durée | déterminée | défini | au | premier | alinéa | de | l | ' | article | L | . | 931-20 (__arabe_comp) | du | même | code | ; | » | .\n"
     ]
    }
   ],
   "source": [
    "contenu_brut = jetons.charge_contenu_article('JORFARTI000017765080')\n",
    "position_mots, contenu_mots = jetons.transformation_jetons(contenu_brut)\n",
    "jetons.joli_affichage(contenu_brut, position_mots, contenu_mots)"
   ]
  },
  {
   "cell_type": "code",
   "execution_count": null,
   "metadata": {
    "collapsed": true
   },
   "outputs": [],
   "source": []
  }
 ],
 "metadata": {
  "kernelspec": {
   "display_name": "Python 3",
   "language": "python",
   "name": "python3"
  },
  "language_info": {
   "codemirror_mode": {
    "name": "ipython",
    "version": 3
   },
   "file_extension": ".py",
   "mimetype": "text/x-python",
   "name": "python",
   "nbconvert_exporter": "python",
   "pygments_lexer": "ipython3",
   "version": "3.5.2"
  }
 },
 "nbformat": 4,
 "nbformat_minor": 2
}
