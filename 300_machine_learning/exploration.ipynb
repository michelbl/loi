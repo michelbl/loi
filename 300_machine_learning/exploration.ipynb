{
 "cells": [
  {
   "cell_type": "code",
   "execution_count": 1,
   "metadata": {
    "collapsed": true
   },
   "outputs": [],
   "source": [
    "import pickle\n",
    "from collections import Counter\n"
   ]
  },
  {
   "cell_type": "code",
   "execution_count": 2,
   "metadata": {
    "collapsed": true
   },
   "outputs": [],
   "source": [
    "repertoire_racine = '/home/michel/jorf_plat/'"
   ]
  },
  {
   "cell_type": "code",
   "execution_count": 3,
   "metadata": {
    "collapsed": true
   },
   "outputs": [],
   "source": [
    "with open(repertoire_racine + 'liste_mots_article.txt', 'rb') as f:\n",
    "    document = pickle.load(f)"
   ]
  },
  {
   "cell_type": "code",
   "execution_count": 24,
   "metadata": {
    "collapsed": false
   },
   "outputs": [],
   "source": [
    "indices = [i for i, mot in enumerate(document) if mot == 'mg']"
   ]
  },
  {
   "cell_type": "code",
   "execution_count": 25,
   "metadata": {
    "collapsed": false
   },
   "outputs": [
    {
     "name": "stdout",
     "output_type": "stream",
     "text": [
      "['voie', 'orale', 'groupe', 'générique', 'domperidone', 'mg', 'motilium', 'mg', 'comprimé', 'pelliculé']\n",
      "['groupe', 'générique', 'domperidone', 'mg', 'motilium', 'mg', 'comprimé', 'pelliculé', 'dénomination', 'commune']\n",
      "['voie', 'orale', 'groupe', 'générique', 'furosemide', 'mg', 'lasilix', 'faible', 'comprimé', 'groupe']\n",
      "['faible', 'comprimé', 'groupe', 'générique', 'furosemide', 'mg', 'lasilix', 'mg', 'comprimé', 'sécable']\n",
      "['groupe', 'générique', 'furosemide', 'mg', 'lasilix', 'mg', 'comprimé', 'sécable', 'ii', 'les']\n",
      "['voie', 'orale', 'groupe', 'générique', 'naproxene', 'mg', 'naprosyne', 'mg', 'comprimé', 'groupe']\n",
      "['groupe', 'générique', 'naproxene', 'mg', 'naprosyne', 'mg', 'comprimé', 'groupe', 'générique', 'naproxene']\n",
      "['mg', 'comprimé', 'groupe', 'générique', 'naproxene', 'mg', 'naprosyne', 'mg', 'comprimé', 'iii']\n",
      "['groupe', 'générique', 'naproxene', 'mg', 'naprosyne', 'mg', 'comprimé', 'iii', 'les', 'spécialités']\n",
      "['chlorhydrate', 'd', 'équivalent', 'à', 'acebutolol', 'mg', 'sectral', 'mg', 'comprimé', 'pelliculé']\n",
      "['équivalent', 'à', 'acebutolol', 'mg', 'sectral', 'mg', 'comprimé', 'pelliculé', 'groupe', 'générique']\n",
      "['chlorhydrate', 'd', 'équivalent', 'à', 'acebutolol', 'mg', 'sectral', 'mg', 'comprimé', 'pelliculé']\n",
      "['équivalent', 'à', 'acebutolol', 'mg', 'sectral', 'mg', 'comprimé', 'pelliculé', 'dénomination', 'commune']\n",
      "['voie', 'orale', 'groupe', 'générique', 'aciclovir', 'mg', 'zovirax', 'mg', 'comprimé', 'dénomination']\n",
      "['groupe', 'générique', 'aciclovir', 'mg', 'zovirax', 'mg', 'comprimé', 'dénomination', 'commune', 'acide']\n",
      "['orale', 'groupe', 'générique', 'acide', 'tiaprofenique', 'mg', 'surgam', 'mg', 'comprimé', 'sécable']\n",
      "['générique', 'acide', 'tiaprofenique', 'mg', 'surgam', 'mg', 'comprimé', 'sécable', 'dénomination', 'commune']\n",
      "['voie', 'orale', 'groupe', 'générique', 'allopurinol', 'mg', 'zyloric', 'mg', 'comprimé', 'groupe']\n",
      "['groupe', 'générique', 'allopurinol', 'mg', 'zyloric', 'mg', 'comprimé', 'groupe', 'générique', 'allopurinol']\n",
      "['mg', 'comprimé', 'groupe', 'générique', 'allopurinol', 'mg', 'zyloric', 'mg', 'comprimé', 'groupe']\n",
      "['groupe', 'générique', 'allopurinol', 'mg', 'zyloric', 'mg', 'comprimé', 'groupe', 'générique', 'allopurinol']\n",
      "['mg', 'comprimé', 'groupe', 'générique', 'allopurinol', 'mg', 'zyloric', 'mg', 'comprimé', 'dénomination']\n",
      "['groupe', 'générique', 'allopurinol', 'mg', 'zyloric', 'mg', 'comprimé', 'dénomination', 'commune', 'ambroxol']\n",
      "['groupe', 'générique', 'ambroxol', 'chlorhydrate', 'd', 'mg', 'surbronc', 'mg', 'comprimé', 'sécable']\n",
      "['ambroxol', 'chlorhydrate', 'd', 'mg', 'surbronc', 'mg', 'comprimé', 'sécable', 'dénomination', 'commune']\n",
      "['groupe', 'générique', 'amiodarone', 'chlorhydrate', 'd', 'mg', 'cordarone', 'mg', 'comprimé', 'sécable']\n",
      "['amiodarone', 'chlorhydrate', 'd', 'mg', 'cordarone', 'mg', 'comprimé', 'sécable', 'dénomination', 'commune']\n",
      "['voie', 'orale', 'groupe', 'générique', 'amoxicilline', 'mg', 'ml', 'clamoxyl', 'mg', 'poudre']\n",
      "['générique', 'amoxicilline', 'mg', 'ml', 'clamoxyl', 'mg', 'poudre', 'pour', 'sirop', 'groupe']\n",
      "['pour', 'sirop', 'groupe', 'générique', 'amoxicilline', 'mg', 'ml', 'clamoxyl', 'mg', 'poudre']\n",
      "['générique', 'amoxicilline', 'mg', 'ml', 'clamoxyl', 'mg', 'poudre', 'pour', 'sirop', 'groupe']\n",
      "['pour', 'sirop', 'groupe', 'générique', 'amoxicilline', 'mg', 'ml', 'clamoxyl', 'mg', 'poudre']\n",
      "['générique', 'amoxicilline', 'mg', 'ml', 'clamoxyl', 'mg', 'poudre', 'pour', 'sirop', 'groupe']\n",
      "['pour', 'sirop', 'groupe', 'générique', 'amoxicilline', 'mg', 'clamoxyl', 'mg', 'gélule', 'groupe']\n",
      "['groupe', 'générique', 'amoxicilline', 'mg', 'clamoxyl', 'mg', 'gélule', 'groupe', 'générique', 'amoxicilline']\n",
      "['voie', 'orale', 'groupe', 'générique', 'atenolol', 'mg', 'tenormine', 'mg', 'comprimé', 'pelliculé']\n",
      "['groupe', 'générique', 'atenolol', 'mg', 'tenormine', 'mg', 'comprimé', 'pelliculé', 'sécable', 'groupe']\n",
      "['pelliculé', 'sécable', 'groupe', 'générique', 'atenolol', 'mg', 'tenormine', 'mg', 'comprimé', 'pelliculé']\n",
      "['groupe', 'générique', 'atenolol', 'mg', 'tenormine', 'mg', 'comprimé', 'pelliculé', 'sécable', 'dénomination']\n",
      "['groupe', 'générique', 'betahistine', 'dichlorhydrate', 'de', 'mg', 'serc', 'mg', 'comprimé', 'dénomination']\n",
      "['betahistine', 'dichlorhydrate', 'de', 'mg', 'serc', 'mg', 'comprimé', 'dénomination', 'commune', 'bromazepam']\n",
      "['voie', 'orale', 'groupe', 'générique', 'bromazepam', 'mg', 'lexomil', 'comprimé', 'baguette', 'quadrisécable']\n",
      "['groupe', 'générique', 'buflomedil', 'chlorhydrate', 'de', 'mg', 'fonzylane', 'mg', 'comprimé', 'pelliculé']\n",
      "['buflomedil', 'chlorhydrate', 'de', 'mg', 'fonzylane', 'mg', 'comprimé', 'pelliculé', 'groupe', 'générique']\n",
      "['groupe', 'générique', 'buflomedil', 'chlorhydrate', 'de', 'mg', 'fonzylane', 'mg', 'comprimé', 'pelliculé']\n",
      "['buflomedil', 'chlorhydrate', 'de', 'mg', 'fonzylane', 'mg', 'comprimé', 'pelliculé', 'dénomination', 'commune']\n",
      "['voie', 'orale', 'groupe', 'générique', 'captopril', 'mg', 'captolane', 'mg', 'comprimé', 'sécable']\n",
      "['groupe', 'générique', 'captopril', 'mg', 'captolane', 'mg', 'comprimé', 'sécable', 'lopril', 'mg']\n",
      "['captolane', 'mg', 'comprimé', 'sécable', 'lopril', 'mg', 'comprimé', 'sécable', 'groupe', 'générique']\n",
      "['comprimé', 'sécable', 'groupe', 'générique', 'captopril', 'mg', 'captolane', 'mg', 'comprimé', 'sécable']\n",
      "['groupe', 'générique', 'captopril', 'mg', 'captolane', 'mg', 'comprimé', 'sécable', 'lopril', 'mg']\n",
      "['captolane', 'mg', 'comprimé', 'sécable', 'lopril', 'mg', 'comprimé', 'sécable', 'dénomination', 'commune']\n",
      "['voie', 'orale', 'groupe', 'générique', 'cefadroxil', 'mg', 'ml', 'oracefal', 'mg', 'ml']\n",
      "['générique', 'cefadroxil', 'mg', 'ml', 'oracefal', 'mg', 'ml', 'poudre', 'pour', 'suspension']\n",
      "['suspension', 'buvable', 'groupe', 'générique', 'cefadroxil', 'mg', 'ml', 'oracefal', 'mg', 'ml']\n",
      "['générique', 'cefadroxil', 'mg', 'ml', 'oracefal', 'mg', 'ml', 'poudre', 'pour', 'suspension']\n",
      "['suspension', 'buvable', 'groupe', 'générique', 'cefadroxil', 'mg', 'oracefal', 'mg', 'gélule', 'groupe']\n",
      "['groupe', 'générique', 'cefadroxil', 'mg', 'oracefal', 'mg', 'gélule', 'groupe', 'générique', 'cefadroxil']\n",
      "['cefatrizine', 'propyleneglycol', 'équivalent', 'à', 'cefatrizine', 'mg', 'cefaperos', 'mg', 'gélule', 'dénomination']\n",
      "['équivalent', 'à', 'cefatrizine', 'mg', 'cefaperos', 'mg', 'gélule', 'dénomination', 'commune', 'ceftriaxone']\n",
      "['ceftriaxone', 'sodique', 'équivalent', 'à', 'ceftriaxone', 'mg', 'ml', 'rocephine', 'mg', 'ml']\n",
      "['à', 'ceftriaxone', 'mg', 'ml', 'rocephine', 'mg', 'ml', 'poudre', 'et', 'solvant']\n",
      "['groupe', 'générique', 'celiprolol', 'chlorhydrate', 'de', 'mg', 'celectol', 'mg', 'comprimé', 'pelliculé']\n",
      "['celiprolol', 'chlorhydrate', 'de', 'mg', 'celectol', 'mg', 'comprimé', 'pelliculé', 'dénominations', 'communes']\n",
      "['groupe', 'générique', 'dextropropoxyphene', 'chlorhydrate', 'de', 'mg', 'paracetamol', 'mg', 'di', 'antalvic']\n",
      "['dextropropoxyphene', 'chlorhydrate', 'de', 'mg', 'paracetamol', 'mg', 'di', 'antalvic', 'gélule', 'dénomination']\n",
      "['groupe', 'générique', 'diltiazem', 'chlorhydrate', 'de', 'mg', 'tildiem', 'mg', 'comprimé', 'groupes']\n",
      "['diltiazem', 'chlorhydrate', 'de', 'mg', 'tildiem', 'mg', 'comprimé', 'groupes', 'génériques', 'diacor']\n",
      "['groupe', 'générique', 'diltiazem', 'chlorhydrate', 'de', 'mg', 'diacor', 'lp', 'mg', 'gélule']\n",
      "['chlorhydrate', 'de', 'mg', 'diacor', 'lp', 'mg', 'gélule', 'à', 'libération', 'prolongée']\n",
      "['groupe', 'générique', 'diltiazem', 'chlorhydrate', 'de', 'mg', 'diacor', 'lp', 'mg', 'gélule']\n",
      "['chlorhydrate', 'de', 'mg', 'diacor', 'lp', 'mg', 'gélule', 'à', 'libération', 'prolongée']\n",
      "['groupe', 'générique', 'diltiazem', 'chlorhydrate', 'de', 'mg', 'dilrene', 'lp', 'mg', 'gélule']\n",
      "['chlorhydrate', 'de', 'mg', 'dilrene', 'lp', 'mg', 'gélule', 'à', 'libération', 'prolongée']\n",
      "['voie', 'orale', 'groupe', 'générique', 'diosmine', 'mg', 'diovenor', 'mg', 'comprimé', 'pelliculé']\n",
      "['groupe', 'générique', 'diosmine', 'mg', 'diovenor', 'mg', 'comprimé', 'pelliculé', 'groupe', 'générique']\n",
      "['comprimé', 'pelliculé', 'groupe', 'générique', 'diosmine', 'mg', 'diovenor', 'mg', 'comprimé', 'pelliculé']\n",
      "['groupe', 'générique', 'diosmine', 'mg', 'diovenor', 'mg', 'comprimé', 'pelliculé', 'dénomination', 'commune']\n",
      "['groupe', 'générique', 'enalapril', 'maleate', 'd', 'mg', 'renitec', 'mg', 'comprimé', 'sécable']\n",
      "['enalapril', 'maleate', 'd', 'mg', 'renitec', 'mg', 'comprimé', 'sécable', 'groupe', 'générique']\n",
      "['groupe', 'générique', 'enalapril', 'maleate', 'd', 'mg', 'renitec', 'mg', 'comprimé', 'sécable']\n",
      "['enalapril', 'maleate', 'd', 'mg', 'renitec', 'mg', 'comprimé', 'sécable', 'dénomination', 'commune']\n",
      "['génériques', 'fenox', 'groupe', 'générique', 'fenofibrate', 'mg', 'fenox', 'mg', 'gélule', 'cette']\n",
      "['groupe', 'générique', 'fenofibrate', 'mg', 'fenox', 'mg', 'gélule', 'cette', 'spécialité', 'anciennement']\n",
      "['cette', 'spécialité', 'anciennement', 'dénommée', 'lipanthyl', 'mg', 'gélule', 'n', 'est', 'plus']\n",
      "['plus', 'commercialisée', 'groupe', 'générique', 'fenofibrate', 'mg', 'fenox', 'mg', 'gélule', 'cette']\n",
      "['groupe', 'générique', 'fenofibrate', 'mg', 'fenox', 'mg', 'gélule', 'cette', 'spécialité', 'anciennement']\n",
      "['cette', 'spécialité', 'anciennement', 'dénommée', 'lipanthyl', 'mg', 'gélule', 'n', 'est', 'plus']\n",
      "['génériques', 'lipanthyl', 'groupe', 'générique', 'fenofibrate', 'mg', 'lipanthyl', 'micronisé', 'gélule', 'groupe']\n",
      "['micronisé', 'gélule', 'groupe', 'générique', 'fenofibrate', 'mg', 'lipanthyl', 'micronisé', 'gélule', 'dénomination']\n",
      "['chlorhydrate', 'de', 'équivalent', 'à', 'fluoxetine', 'mg', 'prozac', 'mg', 'gélule', 'dénomination']\n",
      "['équivalent', 'à', 'fluoxetine', 'mg', 'prozac', 'mg', 'gélule', 'dénomination', 'commune', 'flutamide']\n",
      "['voie', 'orale', 'groupe', 'générique', 'flutamide', 'mg', 'eulexine', 'mg', 'comprimé', 'dénomination']\n",
      "['groupe', 'générique', 'flutamide', 'mg', 'eulexine', 'mg', 'comprimé', 'dénomination', 'commune', 'furosemide']\n",
      "['voie', 'orale', 'groupe', 'générique', 'furosemide', 'mg', 'lasilix', 'mg', 'comprimé', 'sécable']\n",
      "['groupe', 'générique', 'furosemide', 'mg', 'lasilix', 'mg', 'comprimé', 'sécable', 'dénomination', 'commune']\n",
      "['voie', 'orale', 'groupe', 'générique', 'gliclazide', 'mg', 'diamicron', 'mg', 'comprimé', 'sécable']\n",
      "['groupe', 'générique', 'gliclazide', 'mg', 'diamicron', 'mg', 'comprimé', 'sécable', 'dénomination', 'commune']\n",
      "['groupe', 'générique', 'isosorbide', 'dinitrate', 'd', 'mg', 'langoran', 'lp', 'mg', 'gélule']\n",
      "['dinitrate', 'd', 'mg', 'langoran', 'lp', 'mg', 'gélule', 'à', 'libération', 'prolongée']\n"
     ]
    }
   ],
   "source": [
    "for i in range(100):\n",
    "    indice = indices[i]\n",
    "    print(document[indice-5:indice+5])"
   ]
  },
  {
   "cell_type": "code",
   "execution_count": 15,
   "metadata": {
    "collapsed": false
   },
   "outputs": [
    {
     "data": {
      "text/plain": [
       "['a', 'b', 'c']"
      ]
     },
     "execution_count": 15,
     "metadata": {},
     "output_type": "execute_result"
    }
   ],
   "source": [
    "list('abc')"
   ]
  },
  {
   "cell_type": "code",
   "execution_count": null,
   "metadata": {
    "collapsed": true
   },
   "outputs": [],
   "source": []
  }
 ],
 "metadata": {
  "kernelspec": {
   "display_name": "Python 3",
   "language": "python",
   "name": "python3"
  },
  "language_info": {
   "codemirror_mode": {
    "name": "ipython",
    "version": 3
   },
   "file_extension": ".py",
   "mimetype": "text/x-python",
   "name": "python",
   "nbconvert_exporter": "python",
   "pygments_lexer": "ipython3",
   "version": "3.5.2"
  }
 },
 "nbformat": 4,
 "nbformat_minor": 2
}
