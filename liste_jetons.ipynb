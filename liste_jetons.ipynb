{
 "cells": [
  {
   "cell_type": "code",
   "execution_count": 1,
   "metadata": {
    "collapsed": true
   },
   "outputs": [],
   "source": [
    "import pickle\n",
    "import re"
   ]
  },
  {
   "cell_type": "code",
   "execution_count": 2,
   "metadata": {
    "collapsed": false
   },
   "outputs": [],
   "source": [
    "repertoire_racine = '/home/michel/jorf_plat/'\n",
    "with open(repertoire_racine + 'liste_paragraphe.txt', 'rb') as f:\n",
    "    liste_paragraphe = pickle.load(f)"
   ]
  },
  {
   "cell_type": "markdown",
   "metadata": {},
   "source": [
    "## Sépare en mots"
   ]
  },
  {
   "cell_type": "code",
   "execution_count": 54,
   "metadata": {
    "collapsed": false
   },
   "outputs": [],
   "source": [
    "mots_pp = [p.split() for p in liste_paragraphe]  # pp = par paragraphe"
   ]
  },
  {
   "cell_type": "code",
   "execution_count": 59,
   "metadata": {
    "collapsed": false,
    "scrolled": true
   },
   "outputs": [
    {
     "name": "stdout",
     "output_type": "stream",
     "text": [
      "0\n",
      "1000000\n",
      "2000000\n",
      "3000000\n",
      "4000000\n",
      "5000000\n",
      "6000000\n",
      "7000000\n",
      "8000000\n",
      "9000000\n",
      "10000000\n",
      "11000000\n",
      "12000000\n",
      "13000000\n",
      "14000000\n",
      "15000000\n",
      "16000000\n",
      "17000000\n",
      "18000000\n",
      "19000000\n",
      "20000000\n"
     ]
    }
   ],
   "source": [
    "# caractères de ponctuation aux extrémités\n",
    "liste_ponctuation = ['.', ',', ';', ':', '!', '?', \"'\", '\"', '(', ')', '[', ']', '«', '»']\n",
    "\n",
    "nouveau_mots_pp = []\n",
    "nb_modification_pp = []\n",
    "for i_mots, mots in enumerate(mots_pp):\n",
    "    \n",
    "    modification = True\n",
    "    nb_modification = 0\n",
    "    while modification:\n",
    "        modification = False\n",
    "\n",
    "        nouveau_mots = []\n",
    "        for mot in mots:\n",
    "            if mot[0] in liste_ponctuation:\n",
    "                nouveau_mots.append(mot[0])\n",
    "                mot = mot[1:]\n",
    "            if not mot:\n",
    "                continue\n",
    "            a_ajouter = ''\n",
    "            if mot[-1] in liste_ponctuation:\n",
    "                a_ajouter = mot[-1]\n",
    "                mot = mot[:-1]\n",
    "            if mot:\n",
    "                nouveau_mots.append(mot)\n",
    "            if a_ajouter:\n",
    "                nouveau_mots.append(a_ajouter)\n",
    "            \n",
    "        if len(nouveau_mots) > len(mots):\n",
    "            modification = True\n",
    "        mots = nouveau_mots\n",
    "        nb_modification += 1    \n",
    "            \n",
    "    nouveau_mots_pp.append(mots)\n",
    "    nb_modification_pp.append(nb_modification)\n",
    "    \n",
    "    if i_mots % 1000000 == 0:\n",
    "        print(i_mots)"
   ]
  },
  {
   "cell_type": "code",
   "execution_count": 81,
   "metadata": {
    "collapsed": true
   },
   "outputs": [],
   "source": [
    "mots_pp = nouveau_mots_pp"
   ]
  },
  {
   "cell_type": "code",
   "execution_count": 82,
   "metadata": {
    "collapsed": true
   },
   "outputs": [],
   "source": [
    "with open(repertoire_racine + 'mots_pp_1.txt', 'wb') as f:\n",
    "    pickle.dump(mots_pp, f)"
   ]
  },
  {
   "cell_type": "code",
   "execution_count": 83,
   "metadata": {
    "collapsed": true
   },
   "outputs": [],
   "source": [
    "# apostrophe\n",
    "liste_apostrophe = [\"'\", '’']\n",
    "nouveau_mots_pp = []\n",
    "for mots in mots_pp:\n",
    "    nouveau_mots = []\n",
    "    for mot in mots:\n",
    "        for apostrophe in liste_apostrophe[1:]:\n",
    "            mot = mot.replace(apostrophe, \"'\")\n",
    "        nouveau_mots += mot.split(liste_apostrophe[0])\n",
    "    nouveau_mots_pp.append(nouveau_mots)\n",
    "mots_pp = nouveau_mots_pp"
   ]
  },
  {
   "cell_type": "code",
   "execution_count": 84,
   "metadata": {
    "collapsed": true
   },
   "outputs": [],
   "source": [
    "with open(repertoire_racine + 'mots_pp_2.txt', 'wb') as f:\n",
    "    pickle.dump(mots_pp, f)"
   ]
  },
  {
   "cell_type": "code",
   "execution_count": 3,
   "metadata": {
    "collapsed": true
   },
   "outputs": [],
   "source": [
    "with open(repertoire_racine + 'mots_pp_2.txt', 'rb') as f:\n",
    "    mots_pp = pickle.load(f)"
   ]
  },
  {
   "cell_type": "markdown",
   "metadata": {},
   "source": [
    "## Repère les numéros (dates, nombres, chiffres romains...)\n",
    "Ceci permet de réduire la taille du vocabulaire en regroupant les nombres de même type."
   ]
  },
  {
   "cell_type": "markdown",
   "metadata": {},
   "source": [
    "### Dates"
   ]
  },
  {
   "cell_type": "code",
   "execution_count": 92,
   "metadata": {
    "collapsed": false,
    "scrolled": false
   },
   "outputs": [
    {
     "name": "stdout",
     "output_type": "stream",
     "text": [
      "0\n",
      "1000000\n",
      "2000000\n",
      "3000000\n",
      "4000000\n",
      "5000000\n",
      "6000000\n",
      "7000000\n",
      "8000000\n",
      "9000000\n",
      "10000000\n",
      "11000000\n",
      "12000000\n",
      "13000000\n",
      "14000000\n",
      "15000000\n",
      "16000000\n",
      "17000000\n",
      "18000000\n",
      "19000000\n",
      "20000000\n"
     ]
    }
   ],
   "source": [
    "jeton_date = '__date'\n",
    "\n",
    "def est_entier(v):\n",
    "    for c in v:\n",
    "        if c not in ['0', '1', '2', '3', '4', '5', '6', '7', '8', '9']:\n",
    "            return False\n",
    "    if not v:\n",
    "        return False\n",
    "    if v[0] == '0':\n",
    "        return False\n",
    "    return True\n",
    "\n",
    "nouveau_mots_pp = []\n",
    "for i_mots, mots in enumerate(mots_pp):\n",
    "    nouveau_mots = []\n",
    "    i = 0\n",
    "    while i < len(mots):\n",
    "        est_date = False\n",
    "        \n",
    "        if i <= len(mots) - 3:\n",
    "            mot_jour = mots[i]\n",
    "            if est_entier(mot_jour) or mot_jour == '1er':\n",
    "                if mot_jour == '1er':\n",
    "                    num_jour = 1\n",
    "                else:\n",
    "                    num_jour = int(mot_jour)\n",
    "                if num_jour >= 1 and num_jour <= 31:\n",
    "                    mot_mois = mots[i+1]\n",
    "                    if mot_mois in ['janvier', 'février', 'mars', 'avril',\n",
    "                                    'mai', 'juin', 'juillet', 'août',\n",
    "                                    'septembre', 'octobre', 'novembre', 'décembre']:\n",
    "                        mot_annee = mots[i+2]\n",
    "                        if est_entier(mot_annee):\n",
    "                            num_annee = int(mot_annee)\n",
    "                            if num_annee >= 1000 and num_annee <= 2500:\n",
    "                                est_date = True\n",
    "                            \n",
    "        if est_date:\n",
    "            nouveau_mots.append(jeton_date)\n",
    "            i += 3\n",
    "        else:\n",
    "            nouveau_mots.append(mots[i])\n",
    "            i += 1\n",
    "            \n",
    "    if i_mots % 1000000 == 0:\n",
    "        print(i_mots)\n",
    "\n",
    "    nouveau_mots_pp.append(nouveau_mots)\n"
   ]
  },
  {
   "cell_type": "code",
   "execution_count": 94,
   "metadata": {
    "collapsed": true
   },
   "outputs": [],
   "source": [
    "mots_pp = nouveau_mots_pp"
   ]
  },
  {
   "cell_type": "code",
   "execution_count": 95,
   "metadata": {
    "collapsed": true
   },
   "outputs": [],
   "source": [
    "with open(repertoire_racine + 'mots_pp_3.txt', 'wb') as f:\n",
    "    pickle.dump(mots_pp, f)"
   ]
  },
  {
   "cell_type": "markdown",
   "metadata": {},
   "source": [
    "### Chiffres arabes"
   ]
  },
  {
   "cell_type": "code",
   "execution_count": 99,
   "metadata": {
    "collapsed": false
   },
   "outputs": [
    {
     "name": "stdout",
     "output_type": "stream",
     "text": [
      "0\n",
      "1000000\n",
      "2000000\n",
      "3000000\n",
      "4000000\n",
      "5000000\n",
      "6000000\n",
      "7000000\n",
      "8000000\n",
      "9000000\n",
      "10000000\n",
      "11000000\n",
      "12000000\n",
      "13000000\n",
      "14000000\n",
      "15000000\n",
      "16000000\n",
      "17000000\n",
      "18000000\n",
      "19000000\n",
      "20000000\n"
     ]
    }
   ],
   "source": [
    "jeton_arabe = '__arabe'\n",
    "\n",
    "def est_entier(v):\n",
    "    for c in v:\n",
    "        if c not in ['0', '1', '2', '3', '4', '5', '6', '7', '8', '9']:\n",
    "            return False\n",
    "    if not v:\n",
    "        return False\n",
    "    if v[0] == '0':\n",
    "        return False\n",
    "    return True\n",
    "\n",
    "nouveau_mots_pp = []\n",
    "for i_mots, mots in enumerate(mots_pp):\n",
    "    nouveau_mots = []\n",
    "    for mot in mots:\n",
    "        if est_entier(mot):\n",
    "            nouveau_mots.append(jeton_arabe)\n",
    "        else:\n",
    "            nouveau_mots.append(mot)\n",
    "            \n",
    "    if i_mots % 1000000 == 0:\n",
    "        print(i_mots)\n",
    "\n",
    "    nouveau_mots_pp.append(nouveau_mots)\n"
   ]
  },
  {
   "cell_type": "code",
   "execution_count": 100,
   "metadata": {
    "collapsed": false
   },
   "outputs": [],
   "source": [
    "mots_pp = nouveau_mots_pp"
   ]
  },
  {
   "cell_type": "code",
   "execution_count": 101,
   "metadata": {
    "collapsed": true
   },
   "outputs": [],
   "source": [
    "with open(repertoire_racine + 'mots_pp_4.txt', 'wb') as f:\n",
    "    pickle.dump(mots_pp, f)"
   ]
  },
  {
   "cell_type": "markdown",
   "metadata": {},
   "source": [
    "### Chiffres romains"
   ]
  },
  {
   "cell_type": "code",
   "execution_count": 106,
   "metadata": {
    "collapsed": false
   },
   "outputs": [
    {
     "name": "stdout",
     "output_type": "stream",
     "text": [
      "0\n",
      "1000000\n",
      "2000000\n",
      "3000000\n",
      "4000000\n",
      "5000000\n",
      "6000000\n",
      "7000000\n",
      "8000000\n",
      "9000000\n",
      "10000000\n",
      "11000000\n",
      "12000000\n",
      "13000000\n",
      "14000000\n",
      "15000000\n",
      "16000000\n",
      "17000000\n",
      "18000000\n",
      "19000000\n",
      "20000000\n"
     ]
    }
   ],
   "source": [
    "regex_romain_minuscule = r'^(x{0,3})(ix|iv|v?i{0,4})$'\n",
    "regex_romain_majuscule = r'^(X{0,3})(IX|IV|V?I{0,4})$'\n",
    "jeton_romain_minuscule = '__romain_min'\n",
    "jeton_romain_majuscule = '__romain_maj'\n",
    "\n",
    "nouveau_mots_pp = []\n",
    "for i_mots, mots in enumerate(mots_pp):\n",
    "    nouveau_mots = []\n",
    "    for mot in mots:\n",
    "        if re.match(regex_romain_minuscule, mot):\n",
    "            nouveau_mots.append(jeton_romain_minuscule)\n",
    "        elif re.match(regex_romain_majuscule, mot):\n",
    "            nouveau_mots.append(jeton_romain_majuscule)\n",
    "        else:\n",
    "            nouveau_mots.append(mot)\n",
    "            \n",
    "    if i_mots % 1000000 == 0:\n",
    "        print(i_mots)\n",
    "\n",
    "    nouveau_mots_pp.append(nouveau_mots)\n"
   ]
  },
  {
   "cell_type": "code",
   "execution_count": 107,
   "metadata": {
    "collapsed": true
   },
   "outputs": [],
   "source": [
    "mots_pp = nouveau_mots_pp"
   ]
  },
  {
   "cell_type": "code",
   "execution_count": 108,
   "metadata": {
    "collapsed": true
   },
   "outputs": [],
   "source": [
    "with open(repertoire_racine + 'mots_pp_5.txt', 'wb') as f:\n",
    "    pickle.dump(mots_pp, f)"
   ]
  },
  {
   "cell_type": "markdown",
   "metadata": {},
   "source": [
    "### Nombres arabes composés (ex: loi 2008-243, article L. 1223-6)"
   ]
  },
  {
   "cell_type": "code",
   "execution_count": 111,
   "metadata": {
    "collapsed": false
   },
   "outputs": [
    {
     "name": "stdout",
     "output_type": "stream",
     "text": [
      "0\n",
      "1000000\n",
      "2000000\n",
      "3000000\n",
      "4000000\n",
      "5000000\n",
      "6000000\n",
      "7000000\n",
      "8000000\n",
      "9000000\n",
      "10000000\n",
      "11000000\n",
      "12000000\n",
      "13000000\n",
      "14000000\n",
      "15000000\n",
      "16000000\n",
      "17000000\n",
      "18000000\n",
      "19000000\n",
      "20000000\n"
     ]
    }
   ],
   "source": [
    "regex_arabe_comp = r'^\\d+-\\d+$'\n",
    "jeton_arabe_comp = '__arabe_comp'\n",
    "\n",
    "nouveau_mots_pp = []\n",
    "for i_mots, mots in enumerate(mots_pp):\n",
    "    nouveau_mots = []\n",
    "    for mot in mots:\n",
    "        if re.match(regex_arabe_comp, mot):\n",
    "            nouveau_mots.append(jeton_arabe_comp)\n",
    "        else:\n",
    "            nouveau_mots.append(mot)\n",
    "            \n",
    "    if i_mots % 1000000 == 0:\n",
    "        print(i_mots)\n",
    "\n",
    "    nouveau_mots_pp.append(nouveau_mots)\n"
   ]
  },
  {
   "cell_type": "code",
   "execution_count": 112,
   "metadata": {
    "collapsed": false
   },
   "outputs": [],
   "source": [
    "mots_pp = nouveau_mots_pp"
   ]
  },
  {
   "cell_type": "code",
   "execution_count": 113,
   "metadata": {
    "collapsed": true
   },
   "outputs": [],
   "source": [
    "with open(repertoire_racine + 'mots_pp_6.txt', 'wb') as f:\n",
    "    pickle.dump(mots_pp, f)"
   ]
  },
  {
   "cell_type": "markdown",
   "metadata": {},
   "source": [
    "### Numérotation code (ex: L. 1223-6, R. 1223-7, L1223-6, R1223-6)\n",
    "Pour l'instant, la manière longue (X. DDD-DDD) n'est pas traitée (déjà __arabe_comp pour réduire la cardinalité)"
   ]
  },
  {
   "cell_type": "code",
   "execution_count": 116,
   "metadata": {
    "collapsed": false,
    "scrolled": true
   },
   "outputs": [
    {
     "name": "stdout",
     "output_type": "stream",
     "text": [
      "0\n",
      "1000000\n",
      "2000000\n",
      "3000000\n",
      "4000000\n",
      "5000000\n",
      "6000000\n",
      "7000000\n",
      "8000000\n",
      "9000000\n",
      "10000000\n",
      "11000000\n",
      "12000000\n",
      "13000000\n",
      "14000000\n",
      "15000000\n",
      "16000000\n",
      "17000000\n",
      "18000000\n",
      "19000000\n",
      "20000000\n"
     ]
    }
   ],
   "source": [
    "regex_num_article = r'^(L|R)\\d+-\\d+$'\n",
    "jeton_num_article = '__num_article'\n",
    "\n",
    "nouveau_mots_pp = []\n",
    "for i_mots, mots in enumerate(mots_pp):\n",
    "    nouveau_mots = []\n",
    "    for mot in mots:\n",
    "        if re.match(regex_num_article, mot):\n",
    "            nouveau_mots.append(jeton_num_article)\n",
    "        else:\n",
    "            nouveau_mots.append(mot)\n",
    "            \n",
    "    if i_mots % 1000000 == 0:\n",
    "        print(i_mots)\n",
    "\n",
    "    nouveau_mots_pp.append(nouveau_mots)\n"
   ]
  },
  {
   "cell_type": "code",
   "execution_count": 118,
   "metadata": {
    "collapsed": false
   },
   "outputs": [],
   "source": [
    "mots_pp = nouveau_mots_pp"
   ]
  },
  {
   "cell_type": "code",
   "execution_count": 119,
   "metadata": {
    "collapsed": true
   },
   "outputs": [],
   "source": [
    "with open(repertoire_racine + 'mots_pp_7.txt', 'wb') as f:\n",
    "    pickle.dump(mots_pp, f)"
   ]
  },
  {
   "cell_type": "markdown",
   "metadata": {},
   "source": [
    "###  Adverbes multiplicatifs latins (bit, ter...)"
   ]
  },
  {
   "cell_type": "code",
   "execution_count": 123,
   "metadata": {
    "collapsed": false
   },
   "outputs": [
    {
     "name": "stdout",
     "output_type": "stream",
     "text": [
      "0\n",
      "1000000\n",
      "2000000\n",
      "3000000\n",
      "4000000\n",
      "5000000\n",
      "6000000\n",
      "7000000\n",
      "8000000\n",
      "9000000\n",
      "10000000\n",
      "11000000\n",
      "12000000\n",
      "13000000\n",
      "14000000\n",
      "15000000\n",
      "16000000\n",
      "17000000\n",
      "18000000\n",
      "19000000\n",
      "20000000\n"
     ]
    }
   ],
   "source": [
    "latins = [\n",
    "    'bis',\n",
    "    'ter',\n",
    "    'quater',\n",
    "    'quinquies',\n",
    "    'sexies',\n",
    "    'septies',\n",
    "    'octies',\n",
    "    'nonies',\n",
    "    'decies',\n",
    "    'undecies',\n",
    "    'duodecies',\n",
    "    'terdecies',\n",
    "    'quaterdecies',\n",
    "    'quindecies',\n",
    "    'sedecies',\n",
    "    'sexdecies',\n",
    "    'septdecies',\n",
    "    'duodevicies',\n",
    "    'octodecies',\n",
    "    'undevicies',\n",
    "    'novodecies',\n",
    "    'vicies',\n",
    "]\n",
    "\n",
    "jeton_latin = '__latin'\n",
    "\n",
    "nouveau_mots_pp = []\n",
    "for i_mots, mots in enumerate(mots_pp):\n",
    "    nouveau_mots = []\n",
    "    for mot in mots:\n",
    "        if mot in latins:\n",
    "            nouveau_mots.append(jeton_latin)\n",
    "        else:\n",
    "            nouveau_mots.append(mot)\n",
    "            \n",
    "    if i_mots % 1000000 == 0:\n",
    "        print(i_mots)\n",
    "\n",
    "    nouveau_mots_pp.append(nouveau_mots)\n"
   ]
  },
  {
   "cell_type": "code",
   "execution_count": 124,
   "metadata": {
    "collapsed": false
   },
   "outputs": [],
   "source": [
    "mots_pp = nouveau_mots_pp"
   ]
  },
  {
   "cell_type": "code",
   "execution_count": 125,
   "metadata": {
    "collapsed": true
   },
   "outputs": [],
   "source": [
    "with open(repertoire_racine + 'mots_pp_8.txt', 'wb') as f:\n",
    "    pickle.dump(mots_pp, f)"
   ]
  },
  {
   "cell_type": "markdown",
   "metadata": {},
   "source": [
    "### Ordinaux ° (ex: 2°)"
   ]
  },
  {
   "cell_type": "code",
   "execution_count": 139,
   "metadata": {
    "collapsed": false
   },
   "outputs": [
    {
     "name": "stdout",
     "output_type": "stream",
     "text": [
      "0\n",
      "1000000\n",
      "2000000\n",
      "3000000\n",
      "4000000\n",
      "5000000\n",
      "6000000\n",
      "7000000\n",
      "8000000\n",
      "9000000\n",
      "10000000\n",
      "11000000\n",
      "12000000\n",
      "13000000\n",
      "14000000\n",
      "15000000\n",
      "16000000\n",
      "17000000\n",
      "18000000\n",
      "19000000\n",
      "20000000\n"
     ]
    }
   ],
   "source": [
    "regex_ordinal_o = r'^\\d+°$'\n",
    "jeton_ordinal_o = '__ordinal_o'\n",
    "\n",
    "nouveau_mots_pp = []\n",
    "for i_mots, mots in enumerate(mots_pp):\n",
    "    nouveau_mots = []\n",
    "    for mot in mots:\n",
    "        if re.match(regex_ordinal_o, mot):\n",
    "            nouveau_mots.append(jeton_ordinal_o)\n",
    "        else:\n",
    "            nouveau_mots.append(mot)\n",
    "            \n",
    "    if i_mots % 1000000 == 0:\n",
    "        print(i_mots)\n",
    "\n",
    "    nouveau_mots_pp.append(nouveau_mots)\n"
   ]
  },
  {
   "cell_type": "code",
   "execution_count": 140,
   "metadata": {
    "collapsed": false
   },
   "outputs": [],
   "source": [
    "mots_pp = nouveau_mots_pp"
   ]
  },
  {
   "cell_type": "code",
   "execution_count": 141,
   "metadata": {
    "collapsed": true
   },
   "outputs": [],
   "source": [
    "with open(repertoire_racine + 'mots_pp_9.txt', 'wb') as f:\n",
    "    pickle.dump(mots_pp, f)"
   ]
  },
  {
   "cell_type": "code",
   "execution_count": null,
   "metadata": {
    "collapsed": true
   },
   "outputs": [],
   "source": []
  }
 ],
 "metadata": {
  "kernelspec": {
   "display_name": "Python 3",
   "language": "python",
   "name": "python3"
  },
  "language_info": {
   "codemirror_mode": {
    "name": "ipython",
    "version": 3
   },
   "file_extension": ".py",
   "mimetype": "text/x-python",
   "name": "python",
   "nbconvert_exporter": "python",
   "pygments_lexer": "ipython3",
   "version": "3.5.2"
  }
 },
 "nbformat": 4,
 "nbformat_minor": 2
}
