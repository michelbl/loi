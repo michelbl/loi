{
 "cells": [
  {
   "cell_type": "code",
   "execution_count": 1,
   "metadata": {
    "collapsed": false
   },
   "outputs": [],
   "source": [
    "import os\n",
    "import sys\n",
    "import xml.etree.ElementTree as ElementTree\n",
    "import collections\n",
    "from collections import Counter\n",
    "import pickle\n",
    "\n",
    "import psycopg2\n",
    "\n",
    "import parse_texte"
   ]
  },
  {
   "cell_type": "code",
   "execution_count": 2,
   "metadata": {
    "collapsed": true
   },
   "outputs": [],
   "source": [
    "dossier_data = '/home/michel/loi/data/'"
   ]
  },
  {
   "cell_type": "code",
   "execution_count": 3,
   "metadata": {
    "collapsed": true
   },
   "outputs": [],
   "source": [
    "connection = psycopg2.connect(dbname='loi', user='loi', password='baba')\n",
    "curseur = connection.cursor()"
   ]
  },
  {
   "cell_type": "markdown",
   "metadata": {},
   "source": [
    "## Vérifie que la liste des champs est cohérente"
   ]
  },
  {
   "cell_type": "code",
   "execution_count": 4,
   "metadata": {
    "collapsed": false
   },
   "outputs": [],
   "source": [
    "cid, categorie = 'JORFTEXT000021979777', 'TNC_en_vigueur_JORF'\n",
    "liste_id_, valeurs_struct_par_id_, valeurs_version_par_id_ = parse_texte.parse_cid(cid, curseur)\n",
    "id_ = liste_id_[0]\n",
    "\n",
    "a = set(valeurs_struct_par_id_[id_].keys())\n",
    "b = set(parse_texte.infos_communes + parse_texte.infos_communes_struct + parse_texte.infos_particulieres + parse_texte.infos_particulieres_struct)\n",
    "assert (a == b), ((a - b) | (b - a))\n",
    "\n",
    "a = set(valeurs_version_par_id_[id_].keys())\n",
    "b = set(parse_texte.infos_communes + parse_texte.infos_communes_version + parse_texte.infos_particulieres + parse_texte.infos_particulieres_version)\n",
    "assert (a == b), ((a - b) | (b - a))\n"
   ]
  },
  {
   "cell_type": "markdown",
   "metadata": {},
   "source": [
    "## Sauvegarde la liste des textes valides"
   ]
  },
  {
   "cell_type": "code",
   "execution_count": null,
   "metadata": {
    "collapsed": true
   },
   "outputs": [],
   "source": [
    "curseur.execute(\"select base_origine, categorie, cid from texte where valide = True;\")\n",
    "liste_texte = curseur.fetchall()"
   ]
  },
  {
   "cell_type": "code",
   "execution_count": null,
   "metadata": {
    "collapsed": false
   },
   "outputs": [],
   "source": [
    "with open(dossier_data + 'liste_texte.pickle', 'wb') as f:\n",
    "    pickle.dump(liste_texte, f)"
   ]
  },
  {
   "cell_type": "code",
   "execution_count": null,
   "metadata": {
    "collapsed": true
   },
   "outputs": [],
   "source": [
    "curseur.close()\n",
    "connection.close()"
   ]
  },
  {
   "cell_type": "code",
   "execution_count": null,
   "metadata": {
    "collapsed": true
   },
   "outputs": [],
   "source": []
  },
  {
   "cell_type": "code",
   "execution_count": null,
   "metadata": {
    "collapsed": true
   },
   "outputs": [],
   "source": []
  },
  {
   "cell_type": "code",
   "execution_count": null,
   "metadata": {
    "collapsed": true
   },
   "outputs": [],
   "source": []
  },
  {
   "cell_type": "code",
   "execution_count": null,
   "metadata": {
    "collapsed": true
   },
   "outputs": [],
   "source": []
  },
  {
   "cell_type": "code",
   "execution_count": null,
   "metadata": {
    "collapsed": true
   },
   "outputs": [],
   "source": []
  },
  {
   "cell_type": "code",
   "execution_count": 5,
   "metadata": {
    "collapsed": false
   },
   "outputs": [],
   "source": [
    "cid = 'LEGITEXT000006071318'\n",
    "liste_id_, valeurs_struct_par_id_, valeurs_version_par_id_ = parse_texte.parse_cid(cid, curseur)"
   ]
  },
  {
   "cell_type": "code",
   "execution_count": null,
   "metadata": {
    "collapsed": true
   },
   "outputs": [],
   "source": []
  }
 ],
 "metadata": {
  "kernelspec": {
   "display_name": "Python 3",
   "language": "python",
   "name": "python3"
  },
  "language_info": {
   "codemirror_mode": {
    "name": "ipython",
    "version": 3
   },
   "file_extension": ".py",
   "mimetype": "text/x-python",
   "name": "python",
   "nbconvert_exporter": "python",
   "pygments_lexer": "ipython3",
   "version": "3.5.2"
  }
 },
 "nbformat": 4,
 "nbformat_minor": 2
}
