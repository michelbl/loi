{
 "cells": [
  {
   "cell_type": "markdown",
   "metadata": {},
   "source": [
    "## Unicité de la catégorie pour un cid"
   ]
  },
  {
   "cell_type": "markdown",
   "metadata": {
    "collapsed": true
   },
   "source": [
    "* trouver les cid qui apparaissent dans plusieurs catégories :\n",
    "```\n",
    "select * from (select cid, count(distinct categorie) from texte group by cid) as tmp where count > 1 limit 10\n",
    "```\n",
    "* ajouter le nombre de catégories\n",
    "```\n",
    "alter table texte add nb_categorie int;\n",
    "update texte as t1 set nb_categorie = (select count(*) from texte as t2 where t1.cid = t2.cid);\n",
    "```\n",
    "* compter les anomalies (1772 = 886*2)\n",
    "```\n",
    "select count(*) from texte where nb_categorie > 1;\n",
    "```\n",
    "* modifier la validité des anomalies\n",
    "```\n",
    "alter table texte add valide_categorie_unique boolean;\n",
    "update texte set valide_categorie_unique = (nb_categorie = 1);\n",
    "update texte set valide = valide and valide_categorie_unique;\n",
    "```"
   ]
  },
  {
   "cell_type": "markdown",
   "metadata": {
    "collapsed": true
   },
   "source": [
    "## Unicité des articles"
   ]
  },
  {
   "cell_type": "markdown",
   "metadata": {},
   "source": [
    "* trouver les articles qui apparaissent plusieurs fois\n",
    "```\n",
    "select * from (select id_, count(*) from article group by id_) as tmp where count > 1 limit 10;\n",
    "```\n",
    "* ajouter le nombre d'occurrences\n",
    "```\n",
    "alter table article add nb_occurrence int;\n",
    "update article as t1 set nb_occurrence = (select count(*) from article as t2 where t1.id_ = t2.id_);\n",
    "```\n",
    "* compter les anomalies (15774=7887*2)\n",
    "```\n",
    "select count(*) from article where nb_occurrence > 1;\n",
    "```\n",
    "* invalidider les articles\n",
    "```\n",
    "alter table article add valide_apparition_unique boolean;\n",
    "update article set valide_apparition_unique = (nb_occurrence = 1);\n",
    "update article set valide = valide and valide_apparition_unique;\n",
    "```\n",
    "* invalider les textes qui contiennent des articles invalides (1290, dont 22 qui ont une catégorie unique)\n",
    "```\n",
    "alter table texte add valide_articles_valides boolean;\n",
    "update texte set valide_articles_valides = (\n",
    "    select count(*) = 0 from article\n",
    "    where\n",
    "        texte.cid = article.cid and\n",
    "        article.valide = False\n",
    ");\n",
    "update texte set valide = valide and valide_articles_valides;\n",
    "```"
   ]
  },
  {
   "cell_type": "markdown",
   "metadata": {},
   "source": [
    "96132 textes valides"
   ]
  },
  {
   "cell_type": "markdown",
   "metadata": {},
   "source": [
    "## Unicité des section_ta"
   ]
  },
  {
   "cell_type": "markdown",
   "metadata": {},
   "source": [
    "* trouver les section_ta qui apparaissent plusieurs fois\n",
    "```\n",
    "select * from (select id_, count(*) from section_ta group by id_) as tmp where count > 1 limit 10;\n",
    "```\n",
    "* ajouter le nombre d'occurrences\n",
    "```\n",
    "alter table section_ta add nb_occurrence int;\n",
    "update section_ta as t1 set nb_occurrence = (select count(*) from section_ta as t2 where t1.id_ = t2.id_);\n",
    "```\n",
    "* compter les anomalies (2634=1317*2)\n",
    "```\n",
    "select count(*) from section_ta where nb_occurrence > 1;\n",
    "```\n",
    "* invalider les section_ta\n",
    "```\n",
    "alter table section_ta add valide_apparition_unique boolean;\n",
    "update section_ta set valide_apparition_unique = (nb_occurrence = 1);\n",
    "update section_ta set valide = valide and valide_apparition_unique;\n",
    "```\n",
    "* invalider les textes qui contiennent des section_ta invalides (252 tous déjà invalides)\n",
    "```\n",
    "alter table texte add valide_section_ta_valides boolean;\n",
    "update texte set valide_section_ta_valides = (\n",
    "    select count(*) = 0 from section_ta\n",
    "    where\n",
    "        texte.cid = section_ta.cid and\n",
    "        section_ta.valide = False\n",
    ");\n",
    "update texte set valide = valide and valide_section_ta_valides;\n",
    "```"
   ]
  },
  {
   "cell_type": "markdown",
   "metadata": {},
   "source": [
    "96132 textes valides"
   ]
  },
  {
   "cell_type": "markdown",
   "metadata": {},
   "source": [
    "## Vérifie que chaque cid a un exactement un id\\_"
   ]
  },
  {
   "cell_type": "markdown",
   "metadata": {},
   "source": [
    "* ajouter le nombre de version originale\n",
    "```\n",
    "alter table texte add nb_version_originale int;\n",
    "update texte set nb_version_originale = (select count(*) from version where version.id_ = texte.cid);\n",
    "```\n",
    "* compter les anomalies (22 textes dont 8 précédement valides)\n",
    "```\n",
    "select count(*) from texte where nb_version_originale != 1;\n",
    "```\n",
    "* invalidider les textes\n",
    "```\n",
    "alter table texte add valide_version_originale_unique boolean;\n",
    "update texte set valide_version_originale_unique = (nb_version_originale = 1);\n",
    "update texte set valide = valide and valide_version_originale_unique;\n",
    "```"
   ]
  },
  {
   "cell_type": "markdown",
   "metadata": {},
   "source": [
    "96124 textes valides"
   ]
  },
  {
   "cell_type": "markdown",
   "metadata": {},
   "source": [
    "## Comparaison struct et version\n",
    "\n",
    "* détecter les struct sans version et vice versa (NB : categorie et cid ne doivent pas valoir NULL)\n",
    "\n",
    "```\n",
    "alter table struct add correspondance_version boolean;\n",
    "update struct set correspondance_version = (\n",
    "    select count(*) > 0\n",
    "    from version\n",
    "    where\n",
    "        struct.base_origine = version.base_origine and\n",
    "        struct.categorie = version.categorie and\n",
    "        struct.cid = version.cid and\n",
    "        struct.id_ = version.id_\n",
    ");\n",
    "\n",
    "alter table version add correspondance_struct boolean;\n",
    "update version set correspondance_struct = (\n",
    "    select count(*) > 0\n",
    "    from struct\n",
    "    where\n",
    "        struct.base_origine = version.base_origine and\n",
    "        struct.categorie = version.categorie and\n",
    "        struct.cid = version.cid and\n",
    "        struct.id_ = version.id_\n",
    ");\n",
    "```\n",
    "* invalider les struct et version (0 struct, 464 version)\n",
    "```\n",
    "update struct set valide = valide and correspondance_version;\n",
    "update version set valide = valide and correspondance_struct;\n",
    "```\n",
    "* invalider les textes qui contiennent des version ou struct invalides (xxx tous déjà invalides)\n",
    "\n",
    "```\n",
    "alter table texte add valide_struct_valides boolean;\n",
    "update texte set valide_struct_valides = (\n",
    "    select count(*) = 0 from struct\n",
    "    where\n",
    "        texte.cid = struct.cid and\n",
    "        struct.valide = False\n",
    ");\n",
    "update texte set valide = valide and valide_struct_valides;\n",
    "\n",
    "alter table texte add valide_version_valides boolean;\n",
    "update texte set valide_version_valides = (\n",
    "    select count(*) = 0 from version\n",
    "    where\n",
    "        texte.cid = version.cid and\n",
    "        version.valide = False\n",
    ");\n",
    "update texte set valide = valide and valide_version_valides;\n",
    "\n",
    "```\n"
   ]
  },
  {
   "cell_type": "code",
   "execution_count": null,
   "metadata": {
    "collapsed": true
   },
   "outputs": [],
   "source": []
  }
 ],
 "metadata": {
  "kernelspec": {
   "display_name": "Python 3",
   "language": "python",
   "name": "python3"
  },
  "language_info": {
   "codemirror_mode": {
    "name": "ipython",
    "version": 3
   },
   "file_extension": ".py",
   "mimetype": "text/x-python",
   "name": "python",
   "nbconvert_exporter": "python",
   "pygments_lexer": "ipython3",
   "version": "3.5.2"
  }
 },
 "nbformat": 4,
 "nbformat_minor": 2
}
