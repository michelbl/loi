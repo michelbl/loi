{
 "cells": [
  {
   "cell_type": "markdown",
   "metadata": {},
   "source": [
    "## Définit cid pour les struct et version venant de la base JORF\n",
    "```\n",
    "update struct set cid = id_ where base_origine = 'JORF';\n",
    "update version set cid = id_ where base_origine = 'JORF';\n",
    "```\n"
   ]
  },
  {
   "cell_type": "markdown",
   "metadata": {},
   "source": [
    "## Ajoute de nouvelles lignes à la base texte"
   ]
  },
  {
   "cell_type": "markdown",
   "metadata": {},
   "source": [
    "```\n",
    "insert into texte(base_origine, categorie, cid, valide)\n",
    "select base_origine, categorie, cid, valide\n",
    "from version\n",
    "where (select count(*) from texte where texte.cid = version.cid) = 0;\n",
    "```"
   ]
  },
  {
   "cell_type": "markdown",
   "metadata": {},
   "source": [
    "963645 articles valides"
   ]
  },
  {
   "cell_type": "markdown",
   "metadata": {},
   "source": [
    " 963181 articles valides après l'étape de comparaison struct/version"
   ]
  },
  {
   "cell_type": "code",
   "execution_count": null,
   "metadata": {
    "collapsed": true
   },
   "outputs": [],
   "source": []
  }
 ],
 "metadata": {
  "kernelspec": {
   "display_name": "Python 3",
   "language": "python",
   "name": "python3"
  },
  "language_info": {
   "codemirror_mode": {
    "name": "ipython",
    "version": 3
   },
   "file_extension": ".py",
   "mimetype": "text/x-python",
   "name": "python",
   "nbconvert_exporter": "python",
   "pygments_lexer": "ipython3",
   "version": "3.5.2"
  }
 },
 "nbformat": 4,
 "nbformat_minor": 2
}
