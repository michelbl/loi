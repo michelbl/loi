{
 "cells": [
  {
   "cell_type": "code",
   "execution_count": 31,
   "metadata": {
    "collapsed": true
   },
   "outputs": [],
   "source": [
    "import os\n",
    "import sys\n",
    "import xml.etree.ElementTree as ElementTree\n",
    "import collections\n",
    "from collections import Counter\n",
    "import pickle\n",
    "\n",
    "import psycopg2\n",
    "\n",
    "import parse_article"
   ]
  },
  {
   "cell_type": "code",
   "execution_count": 28,
   "metadata": {
    "collapsed": true
   },
   "outputs": [],
   "source": [
    "dossier_data = '/home/michel/loi/data/'"
   ]
  },
  {
   "cell_type": "markdown",
   "metadata": {},
   "source": [
    "## Sauvegarde la liste des articles valides"
   ]
  },
  {
   "cell_type": "code",
   "execution_count": 24,
   "metadata": {
    "collapsed": true
   },
   "outputs": [],
   "source": [
    "connection = psycopg2.connect(dbname='loi', user='loi', password='baba')\n",
    "curseur = connection.cursor()"
   ]
  },
  {
   "cell_type": "code",
   "execution_count": 25,
   "metadata": {
    "collapsed": true
   },
   "outputs": [],
   "source": [
    "curseur.execute(\"select base_origine, categorie, cid, id_ from article where valide = True;\")\n",
    "liste_article = curseur.fetchall()"
   ]
  },
  {
   "cell_type": "code",
   "execution_count": 29,
   "metadata": {
    "collapsed": true
   },
   "outputs": [],
   "source": [
    "curseur.close()\n",
    "connection.close()"
   ]
  },
  {
   "cell_type": "code",
   "execution_count": 30,
   "metadata": {
    "collapsed": false
   },
   "outputs": [],
   "source": [
    "with open(dossier_data + 'liste_article.pickle', 'wb') as f:\n",
    "    pickle.dump(liste_article, f)"
   ]
  },
  {
   "cell_type": "code",
   "execution_count": null,
   "metadata": {
    "collapsed": true
   },
   "outputs": [],
   "source": []
  },
  {
   "cell_type": "code",
   "execution_count": null,
   "metadata": {
    "collapsed": true
   },
   "outputs": [],
   "source": []
  },
  {
   "cell_type": "code",
   "execution_count": null,
   "metadata": {
    "collapsed": true
   },
   "outputs": [],
   "source": []
  },
  {
   "cell_type": "code",
   "execution_count": 32,
   "metadata": {
    "collapsed": false
   },
   "outputs": [
    {
     "data": {
      "text/plain": [
       "{'ANCIEN_ID': None,\n",
       " 'BLOC_TEXTUEL': \"<CONTENU>\\n<p>\\n<br />\\n<br /> Par arrêté de la garde des sceaux, ministre de la justice, en date du 29 décembre 2008 :<br /> Les dispositions de l'arrêté du 14 mai 1996 instituant des régies d'avances et des régies de recettes auprès des secrétariats-greffes des juridictions civiles et pénales et fixant le montant de l'avance consentie à chaque régisseur en tant qu'il institue une régie d'avances et une régie de recettes auprès du tribunal d'instance de Neufchâteau sont abrogées.<br /> La régie d'avances et la régie de recettes instituées auprès du tribunal d'instance d'Epinal sont compétentes pour le ressort du tribunal d'instance de Neufchâteau.<br /> Les dispositions de l'arrêté du 18 avril 2008 nommant M. Michel Sion régisseur intérimaire de la régie d'avances et la régie de recettes du tribunal d'instance de Neufchâteau sont abrogées.<br />Le présent arrêté prend effet à compter du 1er janvier 2009.</p>\\n</CONTENU>\\n\",\n",
       " 'DATE_DEBUT': '2999-01-01',\n",
       " 'DATE_FIN': '2999-01-01',\n",
       " 'ETAT': '',\n",
       " 'ID': 'JORFARTI000020103526',\n",
       " 'ID_ELI': 'http://www.legifrance.gouv.fr/eli/arrete/2008/12/29/JUSB0900575A/jo/article_snum1',\n",
       " 'ID_ELI_ALIAS': '',\n",
       " 'LIENS': (),\n",
       " 'MCS_ART': None,\n",
       " 'NATURE': 'Article',\n",
       " 'NOTA': '',\n",
       " 'NUM': None,\n",
       " 'ORIGINE': 'JORF',\n",
       " 'SM': '<CONTENU />\\n',\n",
       " 'TEXTE': FrozenDict({'ministere': None, 'cid': 'JORFTEXT000020103525', 'autorite': None, 'date_publi': '2009-01-17', 'nature': 'ARRETE', 'nor': 'JUSB0900575A', 'date_signature': '2008-12-29', 'num': ''}),\n",
       " 'TITRES_TXT': (FrozenDict({'id_txt': 'JORFTEXT000020103525', 'fin': '2999-01-01', 'c_titre_court': 'Arrêté du 29 décembre 2008', 'debut': '2999-01-01'}),),\n",
       " 'TMS': (),\n",
       " 'TYPE': 'AUTONOME',\n",
       " 'URL': 'article/JORF/ARTI/00/00/20/10/35/JORFARTI000020103526.xml',\n",
       " 'VERSIONS': frozenset({FrozenDict({'id_': 'JORFARTI000020103526', 'etat': '', 'debut': '2999-01-01', 'num': '', 'origine': 'JORF', 'fin': '2999-01-01'})})}"
      ]
     },
     "execution_count": 32,
     "metadata": {},
     "output_type": "execute_result"
    }
   ],
   "source": [
    "parse_article.parse_un_article('JORF', '', '', 'JORFARTI000020103526')"
   ]
  },
  {
   "cell_type": "code",
   "execution_count": null,
   "metadata": {
    "collapsed": true
   },
   "outputs": [],
   "source": []
  }
 ],
 "metadata": {
  "kernelspec": {
   "display_name": "Python 3",
   "language": "python",
   "name": "python3"
  },
  "language_info": {
   "codemirror_mode": {
    "name": "ipython",
    "version": 3
   },
   "file_extension": ".py",
   "mimetype": "text/x-python",
   "name": "python",
   "nbconvert_exporter": "python",
   "pygments_lexer": "ipython3",
   "version": "3.5.2"
  }
 },
 "nbformat": 4,
 "nbformat_minor": 2
}
