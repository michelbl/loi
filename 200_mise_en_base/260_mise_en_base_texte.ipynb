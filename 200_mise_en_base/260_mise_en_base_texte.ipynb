{
 "cells": [
  {
   "cell_type": "code",
   "execution_count": 9,
   "metadata": {
    "collapsed": true
   },
   "outputs": [],
   "source": [
    "import os\n",
    "import sys\n",
    "import xml.etree.ElementTree as ElementTree\n",
    "import collections\n",
    "from collections import Counter\n",
    "import pickle\n",
    "import json\n",
    "\n",
    "import psycopg2\n",
    "\n",
    "import parse_texte"
   ]
  },
  {
   "cell_type": "code",
   "execution_count": 2,
   "metadata": {
    "collapsed": true
   },
   "outputs": [],
   "source": [
    "dossier_data = '/home/michel/loi/data/'\n"
   ]
  },
  {
   "cell_type": "markdown",
   "metadata": {},
   "source": [
    "## Charge les infos"
   ]
  },
  {
   "cell_type": "code",
   "execution_count": 3,
   "metadata": {
    "collapsed": true
   },
   "outputs": [],
   "source": [
    "connection = psycopg2.connect(dbname='loi', user='loi', password='baba')\n",
    "curseur = connection.cursor()\n",
    "\n",
    "curseur.execute(\"select base_origine, categorie, cid from texte where valide = True;\")\n",
    "liste_texte = curseur.fetchall()\n",
    "\n",
    "curseur.close()\n",
    "connection.close()"
   ]
  },
  {
   "cell_type": "code",
   "execution_count": 4,
   "metadata": {
    "collapsed": false
   },
   "outputs": [
    {
     "name": "stdout",
     "output_type": "stream",
     "text": [
      "100000\n",
      "200000\n",
      "300000\n",
      "400000\n",
      "500000\n",
      "600000\n",
      "700000\n",
      "800000\n",
      "900000\n"
     ]
    }
   ],
   "source": [
    "liste_id_par_cid = {}\n",
    "valeurs_struct_par_id_par_cid = {}\n",
    "valeurs_version_par_id_par_cid = {}\n",
    "\n",
    "i = 0\n",
    "for base_origine, categorie, cid in liste_texte:\n",
    "    nom_fichier = dossier_data + 'parse_texte/' + cid\n",
    "\n",
    "    with open(nom_fichier, 'rb') as f:\n",
    "        liste_id_, valeurs_struct_par_id_, valeurs_version_par_id_ = pickle.load(f)\n",
    "        \n",
    "        liste_id_par_cid[cid] = liste_id_\n",
    "        valeurs_struct_par_id_par_cid[cid] = valeurs_struct_par_id_\n",
    "        valeurs_version_par_id_par_cid[cid] = valeurs_version_par_id_\n",
    "        \n",
    "        i += 1\n",
    "        if i % 100000 == 0:\n",
    "            print(i)\n"
   ]
  },
  {
   "cell_type": "markdown",
   "metadata": {},
   "source": [
    "## Traitements\n",
    "\n",
    "Création de la nouvelle table contenant les versions :\n",
    "```\n",
    "create table texte_version (\n",
    "    base_origine varchar(21),\n",
    "    categorie varchar(21),\n",
    "    cid varchar(21),\n",
    "    id_ varchar(21),\n",
    "    valide boolean,\n",
    "    \n",
    "    ID_ELI text,\n",
    "    ID_ELI_ALIAS text,\n",
    "    ANCIEN_ID text,\n",
    "    ORIGINE text,\n",
    "    URL_version text,\n",
    "    URL_struct text,\n",
    "    NATURE text,\n",
    "    NUM text,\n",
    "    NUM_SEQUENCE text,\n",
    "    NOR text,\n",
    "    DATE_PUBLI text,\n",
    "    DATE_TEXTE text,\n",
    "    DERNIERE_MODIFICATION text,\n",
    "    VERSIONS_A_VENIR text,\n",
    "    ORIGINE_PUBLI text,\n",
    "    PAGE_DEB_PUBLI text,\n",
    "    PAGE_FIN_PUBLI text,\n",
    "    \n",
    "    TITRE text,\n",
    "    TITREFULL text,\n",
    "    ETAT text,\n",
    "    DATE_DEBUT text,\n",
    "    DATE_FIN text,\n",
    "    AUTORITE text,\n",
    "    MINISTERE text,\n",
    "    MCS_TXT text,\n",
    "    LIENS text,\n",
    "    NOTICE text,\n",
    "    VISAS text,\n",
    "    SIGNATAIRES text,\n",
    "    TP text,\n",
    "    NOTA text,\n",
    "    ABRO text,\n",
    "    RECT text,\n",
    "    SM text,\n",
    "    \n",
    "    VERSIONS text,\n",
    "    LIENS_ART text,\n",
    "    LIENS_SECTION_TA text\n",
    ");\n",
    "create index on texte_version (id_);\n",
    "```"
   ]
  },
  {
   "cell_type": "code",
   "execution_count": 55,
   "metadata": {
    "collapsed": false
   },
   "outputs": [],
   "source": [
    "def traite_cid(base_origine, categorie, cid):\n",
    "    liste_id_ = liste_id_par_cid[cid]\n",
    "    valeurs_struct_par_id_ = valeurs_struct_par_id_par_cid[cid] \n",
    "    valeurs_version_par_id_ = valeurs_version_par_id_par_cid[cid] \n",
    "    \n",
    "    valeurs_cid = []\n",
    "    for id_ in liste_id_:\n",
    "        assert valeurs_struct_par_id_[id_]['ID'] == id_\n",
    "        assert valeurs_version_par_id_[id_]['ID'] == id_\n",
    "        assert valeurs_struct_par_id_[id_]['ID_ELI'] == valeurs_version_par_id_[id_]['ID_ELI']\n",
    "        assert valeurs_struct_par_id_[id_]['ID_ELI_ALIAS'] == valeurs_version_par_id_[id_]['ID_ELI_ALIAS']\n",
    "        assert valeurs_struct_par_id_[id_]['ANCIEN_ID'] == valeurs_version_par_id_[id_]['ANCIEN_ID']\n",
    "        assert valeurs_struct_par_id_[id_]['ORIGINE'] == valeurs_version_par_id_[id_]['ORIGINE']\n",
    "        assert valeurs_struct_par_id_[id_]['NATURE'] == valeurs_version_par_id_[id_]['NATURE']\n",
    "        assert valeurs_struct_par_id_[id_]['CID'] == cid\n",
    "        assert valeurs_version_par_id_[id_]['CID'] == cid\n",
    "        assert valeurs_struct_par_id_[id_]['NUM'] == valeurs_version_par_id_[id_]['NUM']\n",
    "        assert valeurs_struct_par_id_[id_]['NUM_SEQUENCE'] == valeurs_version_par_id_[id_]['NUM_SEQUENCE']\n",
    "        assert valeurs_struct_par_id_[id_]['NOR'] == valeurs_version_par_id_[id_]['NOR']\n",
    "        assert valeurs_struct_par_id_[id_]['DATE_PUBLI'] == valeurs_version_par_id_[id_]['DATE_PUBLI']\n",
    "        assert valeurs_struct_par_id_[id_]['DATE_TEXTE'] == valeurs_version_par_id_[id_]['DATE_TEXTE']\n",
    "        assert valeurs_struct_par_id_[id_]['DERNIERE_MODIFICATION'] == valeurs_version_par_id_[id_]['DERNIERE_MODIFICATION']\n",
    "        assert valeurs_struct_par_id_[id_]['VERSIONS_A_VENIR'] == valeurs_version_par_id_[id_]['VERSIONS_A_VENIR']\n",
    "        assert valeurs_struct_par_id_[id_]['ORIGINE_PUBLI'] == valeurs_version_par_id_[id_]['ORIGINE_PUBLI']\n",
    "        assert valeurs_struct_par_id_[id_]['PAGE_DEB_PUBLI'] == valeurs_version_par_id_[id_]['PAGE_DEB_PUBLI']\n",
    "        assert valeurs_struct_par_id_[id_]['PAGE_FIN_PUBLI'] == valeurs_version_par_id_[id_]['PAGE_FIN_PUBLI']\n",
    "        \n",
    "        valeurs_id_ = {\n",
    "            'base_origine': base_origine,\n",
    "            'categorie': categorie,\n",
    "            'cid': cid,\n",
    "            'id_': id_,\n",
    "            'valide': True,\n",
    "            \n",
    "            'ID_ELI': valeurs_struct_par_id_[id_]['ID_ELI'],\n",
    "            'ID_ELI_ALIAS': valeurs_struct_par_id_[id_]['ID_ELI_ALIAS'],\n",
    "            'ANCIEN_ID': valeurs_struct_par_id_[id_]['ANCIEN_ID'],\n",
    "            'ORIGINE': valeurs_struct_par_id_[id_]['ORIGINE'],\n",
    "            'URL_version': valeurs_version_par_id_[id_]['URL'],\n",
    "            'URL_struct': valeurs_struct_par_id_[id_]['URL'],\n",
    "            'NATURE': valeurs_struct_par_id_[id_]['NATURE'],\n",
    "            'NUM': valeurs_struct_par_id_[id_]['NUM'],\n",
    "            'NUM_SEQUENCE': valeurs_struct_par_id_[id_]['NUM_SEQUENCE'],\n",
    "            'NOR': valeurs_struct_par_id_[id_]['NOR'],\n",
    "            'DATE_PUBLI': valeurs_struct_par_id_[id_]['DATE_PUBLI'],\n",
    "            'DATE_TEXTE': valeurs_struct_par_id_[id_]['DATE_TEXTE'],\n",
    "            'DERNIERE_MODIFICATION': valeurs_struct_par_id_[id_]['DERNIERE_MODIFICATION'],\n",
    "            'ORIGINE_PUBLI': valeurs_struct_par_id_[id_]['ORIGINE_PUBLI'],\n",
    "            'PAGE_DEB_PUBLI': valeurs_struct_par_id_[id_]['PAGE_DEB_PUBLI'],\n",
    "            'PAGE_FIN_PUBLI': valeurs_struct_par_id_[id_]['PAGE_FIN_PUBLI'],\n",
    "\n",
    "            'TITRE': valeurs_version_par_id_[id_]['TITRE'],\n",
    "            'TITREFULL': valeurs_version_par_id_[id_]['TITREFULL'],\n",
    "            'ETAT': valeurs_version_par_id_[id_]['ETAT'],\n",
    "            'DATE_DEBUT': valeurs_version_par_id_[id_]['DATE_DEBUT'],\n",
    "            'DATE_FIN': valeurs_version_par_id_[id_]['DATE_FIN'],\n",
    "            'AUTORITE': valeurs_version_par_id_[id_]['AUTORITE'],\n",
    "            'MINISTERE': valeurs_version_par_id_[id_]['MINISTERE'],\n",
    "            'MCS_TXT': valeurs_version_par_id_[id_]['MCS_TXT'],\n",
    "            'NOTICE': valeurs_version_par_id_[id_]['NOTICE'],\n",
    "            'VISAS': valeurs_version_par_id_[id_]['VISAS'],\n",
    "            'SIGNATAIRES': valeurs_version_par_id_[id_]['SIGNATAIRES'],\n",
    "            'TP': valeurs_version_par_id_[id_]['TP'],\n",
    "            'NOTA': valeurs_version_par_id_[id_]['NOTA'],\n",
    "            'ABRO': valeurs_version_par_id_[id_]['ABRO'],\n",
    "            'RECT': valeurs_version_par_id_[id_]['RECT'],\n",
    "            'SM': valeurs_version_par_id_[id_]['SM'],\n",
    "        }\n",
    "        \n",
    "        valeurs_id_['VERSIONS_A_VENIR'] = json.dumps(list(valeurs_struct_par_id_[id_]['VERSIONS_A_VENIR']))\n",
    "        valeurs_id_['LIENS'] = json.dumps([dict(fd) for fd in valeurs_version_par_id_[id_]['LIENS']])\n",
    "        valeurs_id_['VERSIONS'] = json.dumps([dict(fd) for fd in valeurs_struct_par_id_[id_]['VERSIONS']])\n",
    "        valeurs_id_['LIENS_ART'] = json.dumps([dict(fd) for fd in valeurs_struct_par_id_[id_]['LIENS_ART']])\n",
    "        valeurs_id_['LIENS_SECTION_TA'] = json.dumps([dict(fd) for fd in valeurs_struct_par_id_[id_]['LIENS_SECTION_TA']])\n",
    "        \n",
    "        valeurs_cid.append(valeurs_id_)\n",
    "        \n",
    "    return valeurs_cid\n"
   ]
  },
  {
   "cell_type": "code",
   "execution_count": 26,
   "metadata": {
    "collapsed": true
   },
   "outputs": [],
   "source": [
    "connection = psycopg2.connect(dbname='loi', user='loi', password='baba')\n",
    "curseur = connection.cursor()"
   ]
  },
  {
   "cell_type": "code",
   "execution_count": 19,
   "metadata": {
    "collapsed": false
   },
   "outputs": [],
   "source": [
    "valeurs = []\n",
    "for base_origine, categorie, cid in liste_texte:\n",
    "    valeurs += traite_cid(base_origine, categorie, cid)"
   ]
  },
  {
   "cell_type": "code",
   "execution_count": 23,
   "metadata": {
    "collapsed": false
   },
   "outputs": [],
   "source": [
    "liste_champ = list(valeurs[0].keys())"
   ]
  },
  {
   "cell_type": "code",
   "execution_count": 27,
   "metadata": {
    "collapsed": false
   },
   "outputs": [],
   "source": [
    "liste_chaine = [\n",
    "    curseur.mogrify(\"(\" + ','.join([\"%s\"] * len(liste_champ)) + \")\",\n",
    "            [v[c] for c in liste_champ]\n",
    "        )\n",
    "    for v in valeurs\n",
    "]\n"
   ]
  },
  {
   "cell_type": "code",
   "execution_count": 76,
   "metadata": {
    "collapsed": false
   },
   "outputs": [],
   "source": [
    "nb_fournee = 1000\n",
    "for i_fournee in range(len(liste_chaine)//nb_fournee + 1):\n",
    "    sous_liste = liste_chaine[i_fournee*nb_fournee:(i_fournee+1)*nb_fournee]\n",
    "    chaine_valeurs = b','.join(sous_liste)\n",
    "    \n",
    "    curseur.execute(b\"insert into texte_version (\" + b','.join([bytearray(c, 'utf-8') for c in liste_champ]) + b\") values \" + chaine_valeurs + b\";\")\n",
    "    connection.commit()"
   ]
  },
  {
   "cell_type": "code",
   "execution_count": 77,
   "metadata": {
    "collapsed": true
   },
   "outputs": [],
   "source": [
    "curseur.close()\n",
    "connection.close()"
   ]
  },
  {
   "cell_type": "code",
   "execution_count": null,
   "metadata": {
    "collapsed": true
   },
   "outputs": [],
   "source": []
  }
 ],
 "metadata": {
  "kernelspec": {
   "display_name": "Python 3",
   "language": "python",
   "name": "python3"
  },
  "language_info": {
   "codemirror_mode": {
    "name": "ipython",
    "version": 3
   },
   "file_extension": ".py",
   "mimetype": "text/x-python",
   "name": "python",
   "nbconvert_exporter": "python",
   "pygments_lexer": "ipython3",
   "version": "3.5.2"
  }
 },
 "nbformat": 4,
 "nbformat_minor": 2
}
