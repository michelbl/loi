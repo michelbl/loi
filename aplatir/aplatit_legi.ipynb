{
 "cells": [
  {
   "cell_type": "markdown",
   "metadata": {},
   "source": [
    "# Applatissement de la base de donnée LEGI"
   ]
  },
  {
   "cell_type": "markdown",
   "metadata": {},
   "source": [
    "## Documentation\n",
    "\n",
    "La base de donnée LEGI est mise à disposition par la DILA sous une forme complexe à 16 niveaux d'arborescence, alors que seuls 3 niveaux sont nécessaires.\n",
    "\n",
    "Pour le système d'arborescence original, se reporter au document `Documentation_mise_à_dispo_XML_basesLegifrance_2014_11_17_002.doc`\n",
    "\n",
    "Le premier niveau du nouveau système d'arborescence \"plat\" se compose de 6 dossiers :\n",
    "* code_en_vigueur_LEGI (435387 fichiers, 75 cid)\n",
    "* code_non_vigueur_LEGI (14692 fichiers, 31 cid)\n",
    "* TNC_en_vigueur_JORF (868528 fichiers, 76944 cid)\n",
    "* TNC_en_vigueur_LEGI (15807 fichiers, 1671 cid)\n",
    "* TNC_non_vigueur_JORF (264268 fichiers, 17434 cid)\n",
    "* TNC_non_vigueur_LEGI (25637 fichiers, 1771 cid)\n",
    "\n",
    "Chacun de ces dossier est organisé ainsi :\n",
    "* dossiers LEGITEXTxxxxxxxxxxxx (pour les dossiers \\*LEGI) ou JORFTEXTxxxxxxxxxxxx (pour les dossiers \\*JORF)\n",
    " * LEGIARTIxxxxxxxxxxxx.xml (1247771 fichiers)\n",
    " * LEGISCTAxxxxxxxxxxxx.xml (177124 fichiers)\n",
    " * struct : contient LEGITEXTxxxxxxxxxxxx.xml (99480 fichiers)\n",
    " * version : contient LEGITEXTxxxxxxxxxxxx.xml (99944 fichiers)\n",
    "\n",
    "\n",
    "Le nombre total de fichiers n'est pas changé par la transformation (1624319 fichiers)\n",
    "\n",
    "\n"
   ]
  },
  {
   "cell_type": "code",
   "execution_count": 1,
   "metadata": {
    "collapsed": true
   },
   "outputs": [],
   "source": [
    "import os\n",
    "import re\n",
    "import shutil"
   ]
  },
  {
   "cell_type": "code",
   "execution_count": 2,
   "metadata": {
    "collapsed": true
   },
   "outputs": [],
   "source": [
    "racine_source = '/home/michel/legi/'\n",
    "racine_cible = '/home/michel/legi_plat/'"
   ]
  },
  {
   "cell_type": "code",
   "execution_count": 5,
   "metadata": {
    "collapsed": true
   },
   "outputs": [],
   "source": [
    "def liste_dir(d):\n",
    "    for f in os.listdir(d):\n",
    "        print(f + '({})'.format(os.path.isfile(f)))"
   ]
  },
  {
   "cell_type": "code",
   "execution_count": 6,
   "metadata": {
    "collapsed": false
   },
   "outputs": [
    {
     "name": "stdout",
     "output_type": "stream",
     "text": [
      "global(False)\n"
     ]
    }
   ],
   "source": [
    "liste_dir(racine_source)"
   ]
  },
  {
   "cell_type": "code",
   "execution_count": 7,
   "metadata": {
    "collapsed": false
   },
   "outputs": [
    {
     "name": "stdout",
     "output_type": "stream",
     "text": [
      "code_et_TNC_non_vigueur(False)\n",
      "code_et_TNC_en_vigueur(False)\n"
     ]
    }
   ],
   "source": [
    "liste_dir(racine_source + 'global')"
   ]
  },
  {
   "cell_type": "code",
   "execution_count": 11,
   "metadata": {
    "collapsed": false
   },
   "outputs": [
    {
     "name": "stdout",
     "output_type": "stream",
     "text": [
      "00(False)\n"
     ]
    }
   ],
   "source": [
    "liste_dir(racine_source + 'global/code_et_TNC_non_vigueur/TNC_non_vigueur/LEGI/TEXT')"
   ]
  },
  {
   "cell_type": "markdown",
   "metadata": {},
   "source": [
    "## Crée la nouvelle structure"
   ]
  },
  {
   "cell_type": "code",
   "execution_count": 7,
   "metadata": {
    "collapsed": false
   },
   "outputs": [],
   "source": [
    "for rep in [                  # find . -type f | wc -l\n",
    "    'TNC_en_vigueur_JORF',    # 868528 (ok)\n",
    "    'TNC_en_vigueur_LEGI',    # 15807 (ok)\n",
    "    'code_en_vigueur_LEGI',   # 435387 (ok)\n",
    "    'TNC_non_vigueur_JORF',   # 264268 (ok)\n",
    "    'TNC_non_vigueur_LEGI',   # 25637 (ok)\n",
    "    'code_non_vigueur_LEGI',  # 14692 (ok)\n",
    "]:                            # total : 1624319\n",
    "    os.mkdir(racine_cible + rep)"
   ]
  },
  {
   "cell_type": "markdown",
   "metadata": {},
   "source": [
    "## Aplatit"
   ]
  },
  {
   "cell_type": "code",
   "execution_count": 3,
   "metadata": {
    "collapsed": true
   },
   "outputs": [],
   "source": [
    "class EnfantNonDesire(Exception):\n",
    "    def __init__(self, chemin):\n",
    "        self.chemin = chemin\n",
    "        \n",
    "    def __str__(self):\n",
    "        return str(chemin)"
   ]
  },
  {
   "cell_type": "code",
   "execution_count": 4,
   "metadata": {
    "collapsed": false
   },
   "outputs": [],
   "source": [
    "def parcours(chemin, repertoire_cible):\n",
    "    chemin_compact = os.path.join(*chemin)\n",
    "    profondeur = len(chemin)\n",
    "    \n",
    "    enfants = os.listdir(chemin_compact)\n",
    "    est_fichier_liste = [os.path.isfile(os.path.join(chemin_compact, f)) for f in enfants]\n",
    "    enfants_fichier = [enfants[i] for i in range(len(enfants)) if est_fichier_liste[i]]\n",
    "    enfants_dossier = [enfants[i] for i in range(len(enfants)) if not est_fichier_liste[i]]\n",
    "\n",
    "    if profondeur == 1:\n",
    "        assert len(enfants_fichier) == 0, chemin\n",
    "        assert len(enfants_dossier) == 1, chemin\n",
    "        assert enfants_dossier[0] == 'TEXT', chemin\n",
    "        \n",
    "    elif (profondeur >= 2) and (profondeur <= 6):\n",
    "        assert len(enfants_fichier) == 0, chemin\n",
    "        for enfant_dossier in enfants_dossier:\n",
    "            assert re.match('^\\d{2}$', enfant_dossier), chemin\n",
    "            \n",
    "    elif profondeur == 7:\n",
    "        assert len(enfants_fichier) == 0, chemin\n",
    "        for enfant_dossier in enfants_dossier:\n",
    "            assert re.match('^(JORF|LEGI)TEXT\\d{12}$', enfant_dossier), chemin\n",
    "            os.mkdir(os.path.join(repertoire_cible, enfant_dossier))\n",
    "            \n",
    "    elif profondeur == 8:\n",
    "        assert len(enfants_fichier) == 0, chemin\n",
    "        assert len(enfants_dossier) <= 3, chemin\n",
    "        assert set(enfants_dossier) <= set(['texte', 'article', 'section_ta']), chemin\n",
    "    \n",
    "    elif profondeur == 9:\n",
    "        if chemin[8] == 'texte':\n",
    "            assert len(enfants_fichier) == 0, chemin\n",
    "            assert len(enfants_dossier) == 2, chemin\n",
    "            assert set(enfants_dossier) == set(['struct', 'version']), chemin\n",
    "            \n",
    "            source = os.path.join(chemin_compact, 'struct')\n",
    "            cible = os.path.join(repertoire_cible, chemin[7], 'struct')\n",
    "            assert not os.path.exists(cible), chemin\n",
    "            shutil.copytree(source, cible)    \n",
    "\n",
    "            source = os.path.join(chemin_compact, 'version')\n",
    "            cible = os.path.join(repertoire_cible, chemin[7], 'version')\n",
    "            assert not os.path.exists(cible), chemin\n",
    "            shutil.copytree(source, cible)\n",
    "            \n",
    "            enfants_dossier = []\n",
    "\n",
    "        elif chemin[8] in ['article', 'section_ta']:\n",
    "            assert len(enfants_fichier) == 0, chemin\n",
    "            assert len(enfants_dossier) == 1, chemin\n",
    "            assert enfants_dossier[0] == 'LEGI', chemin\n",
    "            \n",
    "        else:\n",
    "            raise EnfantNonDesire(chemin)\n",
    "            \n",
    "    elif profondeur == 10:\n",
    "        assert chemin[9] == 'LEGI', chemin\n",
    "        assert len(enfants_fichier) == 0, chemin\n",
    "        assert len(enfants_dossier) == 1, chemin\n",
    "        if chemin[8] == 'article':\n",
    "            assert enfants_dossier[0] == 'ARTI', chemin\n",
    "        elif chemin[8] == 'section_ta':\n",
    "            assert enfants_dossier[0] == 'SCTA', chemin\n",
    "        else:\n",
    "            raise EnfantNonDesire(chemin)                \n",
    "            \n",
    "    elif (profondeur >= 11) and (profondeur <= 15):\n",
    "        assert len(enfants_fichier) == 0, chemin\n",
    "        for enfant_dossier in enfants_dossier:\n",
    "            assert re.match('^\\d{2}$', enfant_dossier), chemin\n",
    "    \n",
    "    elif profondeur == 16:\n",
    "        assert len(enfants_dossier) == 0, chemin\n",
    "        for enfant_fichier in enfants_fichier:\n",
    "            if chemin[8] == 'article':\n",
    "                assert re.match('^LEGIARTI\\d{12}\\.xml$', enfant_fichier), chemin\n",
    "            elif chemin[8] == 'section_ta':\n",
    "                assert re.match('^LEGISCTA\\d{12}\\.xml$', enfant_fichier), chemin\n",
    "            else:\n",
    "                raise EnfantNonDesire(chemin)\n",
    "            \n",
    "            source = os.path.join(chemin_compact, enfant_fichier)\n",
    "            cible = os.path.join(repertoire_cible, chemin[7], enfant_fichier)\n",
    "            assert not os.path.exists(cible), chemin\n",
    "            shutil.copy(source, cible)    \n",
    "    \n",
    "    for enfant_dossier in enfants_dossier:\n",
    "        parcours(chemin + [enfant_dossier], repertoire_cible)\n"
   ]
  },
  {
   "cell_type": "code",
   "execution_count": 11,
   "metadata": {
    "collapsed": false
   },
   "outputs": [],
   "source": [
    "repertoire_source = os.path.join(racine_source, 'global/code_et_TNC_en_vigueur/TNC_en_vigueur/JORF')\n",
    "repertoire_cible = os.path.join(racine_cible, 'TNC_en_vigueur_JORF')\n",
    "\n",
    "parcours([repertoire_source], repertoire_cible)"
   ]
  },
  {
   "cell_type": "code",
   "execution_count": 9,
   "metadata": {
    "collapsed": true
   },
   "outputs": [],
   "source": [
    "repertoire_source = os.path.join(racine_source, 'global/code_et_TNC_en_vigueur/TNC_en_vigueur/LEGI')\n",
    "repertoire_cible = os.path.join(racine_cible, 'TNC_en_vigueur_LEGI')\n",
    "\n",
    "parcours([repertoire_source], repertoire_cible)"
   ]
  },
  {
   "cell_type": "code",
   "execution_count": 8,
   "metadata": {
    "collapsed": false
   },
   "outputs": [],
   "source": [
    "repertoire_source = os.path.join(racine_source, 'global/code_et_TNC_en_vigueur/code_en_vigueur/LEGI')\n",
    "repertoire_cible = os.path.join(racine_cible, 'code_en_vigueur_LEGI')\n",
    "\n",
    "parcours([repertoire_source], repertoire_cible)"
   ]
  },
  {
   "cell_type": "code",
   "execution_count": 6,
   "metadata": {
    "collapsed": true
   },
   "outputs": [],
   "source": [
    "repertoire_source = os.path.join(racine_source, 'global/code_et_TNC_non_vigueur/TNC_non_vigueur/JORF')\n",
    "repertoire_cible = os.path.join(racine_cible, 'TNC_non_vigueur_JORF')\n",
    "\n",
    "parcours([repertoire_source], repertoire_cible)"
   ]
  },
  {
   "cell_type": "code",
   "execution_count": 12,
   "metadata": {
    "collapsed": true
   },
   "outputs": [],
   "source": [
    "repertoire_source = os.path.join(racine_source, 'global/code_et_TNC_non_vigueur/TNC_non_vigueur/LEGI')\n",
    "repertoire_cible = os.path.join(racine_cible, 'TNC_non_vigueur_LEGI')\n",
    "\n",
    "parcours([repertoire_source], repertoire_cible)"
   ]
  },
  {
   "cell_type": "code",
   "execution_count": 5,
   "metadata": {
    "collapsed": true
   },
   "outputs": [],
   "source": [
    "repertoire_source = os.path.join(racine_source, 'global/code_et_TNC_non_vigueur/code_non_vigueur/LEGI')\n",
    "repertoire_cible = os.path.join(racine_cible, 'code_non_vigueur_LEGI')\n",
    "\n",
    "parcours([repertoire_source], repertoire_cible)"
   ]
  }
 ],
 "metadata": {
  "kernelspec": {
   "display_name": "Python 3",
   "language": "python",
   "name": "python3"
  },
  "language_info": {
   "codemirror_mode": {
    "name": "ipython",
    "version": 3
   },
   "file_extension": ".py",
   "mimetype": "text/x-python",
   "name": "python",
   "nbconvert_exporter": "python",
   "pygments_lexer": "ipython3",
   "version": "3.5.2"
  }
 },
 "nbformat": 4,
 "nbformat_minor": 2
}
