{
 "cells": [
  {
   "cell_type": "code",
   "execution_count": 1,
   "metadata": {
    "collapsed": true
   },
   "outputs": [],
   "source": [
    "from collections import Counter\n",
    "import pickle\n",
    "import re\n",
    "import datetime\n",
    "from matplotlib import pyplot as plt\n",
    "%matplotlib inline"
   ]
  },
  {
   "cell_type": "code",
   "execution_count": 2,
   "metadata": {
    "collapsed": false
   },
   "outputs": [],
   "source": [
    "repertoire_racine = '/home/michel/jorf_plat/'\n",
    "with open(repertoire_racine + 'concat_article.txt', 'r') as f:\n",
    "    contenu = f.read()"
   ]
  },
  {
   "cell_type": "code",
   "execution_count": 4,
   "metadata": {
    "collapsed": false
   },
   "outputs": [
    {
     "data": {
      "text/plain": [
       "Counter({'\\t': 2738554,\n",
       "         '\\n': 89510415,\n",
       "         ' ': 287812336,\n",
       "         '!': 1890,\n",
       "         '\"': 102349,\n",
       "         '#': 3785,\n",
       "         '$': 120,\n",
       "         '%': 193167,\n",
       "         '&': 580473,\n",
       "         \"'\": 14000885,\n",
       "         '(': 5559658,\n",
       "         ')': 5877771,\n",
       "         '*': 104008,\n",
       "         '+': 54276,\n",
       "         ',': 17318524,\n",
       "         '-': 8124828,\n",
       "         '.': 17829298,\n",
       "         '/': 858871,\n",
       "         '0': 9807904,\n",
       "         '1': 10728137,\n",
       "         '2': 8422245,\n",
       "         '3': 5221511,\n",
       "         '4': 4039488,\n",
       "         '5': 3967744,\n",
       "         '6': 3115135,\n",
       "         '7': 2962058,\n",
       "         '8': 3014062,\n",
       "         '9': 4675904,\n",
       "         ':': 3123032,\n",
       "         ';': 3050981,\n",
       "         '=': 1512435,\n",
       "         '?': 13687,\n",
       "         '@': 17420,\n",
       "         'A': 6820136,\n",
       "         'B': 2125038,\n",
       "         'C': 5168622,\n",
       "         'D': 2998667,\n",
       "         'E': 5854500,\n",
       "         'F': 1923429,\n",
       "         'G': 1713810,\n",
       "         'H': 1202761,\n",
       "         'I': 4833243,\n",
       "         'J': 1436916,\n",
       "         'K': 206900,\n",
       "         'L': 6580697,\n",
       "         'M': 5294593,\n",
       "         'N': 3318111,\n",
       "         'O': 2376028,\n",
       "         'P': 3969108,\n",
       "         'Q': 196374,\n",
       "         'R': 4286352,\n",
       "         'S': 4040966,\n",
       "         'T': 3199577,\n",
       "         'U': 1637511,\n",
       "         'V': 1433727,\n",
       "         'W': 258297,\n",
       "         'X': 473312,\n",
       "         'Y': 371749,\n",
       "         'Z': 397901,\n",
       "         '[': 144426,\n",
       "         '\\\\': 28,\n",
       "         ']': 143067,\n",
       "         '^': 9,\n",
       "         '_': 61558,\n",
       "         '`': 640,\n",
       "         'a': 95138322,\n",
       "         'b': 9842230,\n",
       "         'c': 47879551,\n",
       "         'd': 63081536,\n",
       "         'e': 177686923,\n",
       "         'f': 13566630,\n",
       "         'g': 13250998,\n",
       "         'h': 8668598,\n",
       "         'i': 103211374,\n",
       "         'j': 2700456,\n",
       "         'k': 469328,\n",
       "         'l': 66837982,\n",
       "         'm': 32768238,\n",
       "         'n': 93697820,\n",
       "         'o': 70924550,\n",
       "         'p': 34086826,\n",
       "         'q': 7527207,\n",
       "         'r': 91303109,\n",
       "         's': 98938407,\n",
       "         't': 96316917,\n",
       "         'u': 63427762,\n",
       "         'v': 14176932,\n",
       "         'w': 222244,\n",
       "         'x': 6046620,\n",
       "         'y': 2828322,\n",
       "         'z': 1006597,\n",
       "         '{': 65,\n",
       "         '|': 5559,\n",
       "         '}': 64,\n",
       "         '~': 66,\n",
       "         '\\x80': 15,\n",
       "         '\\x83': 1,\n",
       "         '\\x84': 1,\n",
       "         '\\x8c': 80,\n",
       "         '\\x8d': 2,\n",
       "         '\\x90': 1,\n",
       "         '\\x92': 2,\n",
       "         '\\x94': 477,\n",
       "         '\\x97': 18,\n",
       "         '\\x9c': 1481,\n",
       "         '\\x9d': 3,\n",
       "         '\\x9f': 1,\n",
       "         '\\xa0': 1495014,\n",
       "         '¢': 1828,\n",
       "         '£': 9,\n",
       "         '¦': 74,\n",
       "         '§': 10105,\n",
       "         '¨': 81,\n",
       "         '©': 10,\n",
       "         '«': 1250967,\n",
       "         '¬': 2,\n",
       "         '\\xad': 21,\n",
       "         '®': 2973,\n",
       "         '¯': 1,\n",
       "         '°': 1059309,\n",
       "         '±': 957,\n",
       "         '²': 9165,\n",
       "         '³': 6149,\n",
       "         '´': 47,\n",
       "         'µ': 3929,\n",
       "         '·': 38,\n",
       "         '¸': 1748,\n",
       "         '¹': 2497,\n",
       "         'º': 16452,\n",
       "         '»': 815647,\n",
       "         '¼': 26,\n",
       "         '½': 40,\n",
       "         '¾': 8,\n",
       "         '¿': 6,\n",
       "         'À': 18933,\n",
       "         'Á': 108,\n",
       "         'Â': 2056,\n",
       "         'Ã': 42,\n",
       "         'Ä': 53,\n",
       "         'Å': 22,\n",
       "         'Æ': 3,\n",
       "         'Ç': 6012,\n",
       "         'È': 28366,\n",
       "         'É': 379038,\n",
       "         'Ê': 3829,\n",
       "         'Ë': 622,\n",
       "         'Í': 22,\n",
       "         'Î': 2047,\n",
       "         'Ï': 1605,\n",
       "         'Ñ': 14,\n",
       "         'Ó': 18,\n",
       "         'Ô': 10323,\n",
       "         'Õ': 5,\n",
       "         'Ö': 251,\n",
       "         '×': 8955,\n",
       "         'Ø': 247,\n",
       "         'Ù': 128,\n",
       "         'Ú': 5,\n",
       "         'Û': 800,\n",
       "         'Ü': 250,\n",
       "         'ß': 119,\n",
       "         'à': 5508862,\n",
       "         'á': 1137,\n",
       "         'â': 208359,\n",
       "         'ã': 399,\n",
       "         'ä': 708,\n",
       "         'å': 148,\n",
       "         'æ': 261,\n",
       "         'ç': 815823,\n",
       "         'è': 3421625,\n",
       "         'é': 41035614,\n",
       "         'ê': 2287638,\n",
       "         'ë': 85832,\n",
       "         'ì': 23,\n",
       "         'í': 598,\n",
       "         'î': 246687,\n",
       "         'ï': 56408,\n",
       "         'ñ': 311,\n",
       "         'ò': 53,\n",
       "         'ó': 736,\n",
       "         'ô': 779021,\n",
       "         'õ': 2,\n",
       "         'ö': 1628,\n",
       "         'ø': 118,\n",
       "         'ù': 90174,\n",
       "         'ú': 146,\n",
       "         'û': 263556,\n",
       "         'ü': 5563,\n",
       "         'ý': 60,\n",
       "         'ÿ': 177,\n",
       "         'ā': 19,\n",
       "         'Ă': 11,\n",
       "         'ă': 2,\n",
       "         'Č': 2,\n",
       "         'č': 3,\n",
       "         'ğ': 2,\n",
       "         'Ī': 1,\n",
       "         'İ': 10,\n",
       "         'ı': 4,\n",
       "         'ł': 2,\n",
       "         'Ń': 2,\n",
       "         'ń': 5,\n",
       "         'Ņ': 1,\n",
       "         'ō': 4,\n",
       "         'Œ': 3002,\n",
       "         'œ': 94022,\n",
       "         'Š': 13,\n",
       "         'š': 38,\n",
       "         'Ū': 2,\n",
       "         'ū': 2,\n",
       "         'Ÿ': 5,\n",
       "         'ź': 2,\n",
       "         'ž': 5,\n",
       "         'ƌ': 10,\n",
       "         'Ɛ': 2,\n",
       "         'ƒ': 9,\n",
       "         'Ȋ': 1,\n",
       "         'ș': 2,\n",
       "         'ȹ': 5,\n",
       "         'ʃ': 1,\n",
       "         'ʎ': 4,\n",
       "         'ʹ': 865,\n",
       "         'ʺ': 817,\n",
       "         'ʼ': 2,\n",
       "         '˃': 6,\n",
       "         '˜': 17,\n",
       "         '˝': 18,\n",
       "         'ˮ': 54,\n",
       "         '̀': 137,\n",
       "         '́': 67,\n",
       "         '̂': 1,\n",
       "         'Α': 19,\n",
       "         'Β': 15,\n",
       "         'Δ': 1362,\n",
       "         'Θ': 4,\n",
       "         'Σ': 43,\n",
       "         'Φ': 4,\n",
       "         'Ω': 2,\n",
       "         'α': 436,\n",
       "         'β': 329,\n",
       "         'γ': 18,\n",
       "         'δ': 20,\n",
       "         'ε': 4,\n",
       "         'θ': 5,\n",
       "         'λ': 15,\n",
       "         'μ': 59,\n",
       "         'π': 1,\n",
       "         'ρ': 11,\n",
       "         'σ': 2,\n",
       "         'τ': 3,\n",
       "         'φ': 51,\n",
       "         'ω': 9,\n",
       "         'ϕ': 3,\n",
       "         'Ѐ': 1,\n",
       "         'Д': 1,\n",
       "         'Ж': 8,\n",
       "         'И': 1,\n",
       "         'К': 6,\n",
       "         'М': 2,\n",
       "         'П': 11,\n",
       "         'Р': 2,\n",
       "         'С': 1,\n",
       "         'Ф': 2,\n",
       "         'Х': 2,\n",
       "         'Ч': 1,\n",
       "         'а': 1,\n",
       "         'б': 1,\n",
       "         'в': 1,\n",
       "         'е': 1,\n",
       "         'и': 4,\n",
       "         'к': 2,\n",
       "         'л': 1,\n",
       "         'м': 1,\n",
       "         'о': 2,\n",
       "         'п': 2,\n",
       "         'р': 2,\n",
       "         'с': 1,\n",
       "         'т': 1,\n",
       "         'у': 2,\n",
       "         'ј': 2,\n",
       "         'ҩ': 2,\n",
       "         'Ө': 19,\n",
       "         'ᵠ': 2,\n",
       "         '\\u2002': 3,\n",
       "         '\\u2003': 5,\n",
       "         '\\u200b': 227,\n",
       "         '\\u200c': 180,\n",
       "         '\\u200d': 4,\n",
       "         '\\u200e': 7,\n",
       "         '‐': 3,\n",
       "         '‑': 3,\n",
       "         '‒': 36,\n",
       "         '–': 138,\n",
       "         '—': 3,\n",
       "         '―': 764916,\n",
       "         '‘': 1311,\n",
       "         '’': 250570,\n",
       "         '‚': 1,\n",
       "         '“': 8194,\n",
       "         '”': 28915,\n",
       "         '„': 2,\n",
       "         '‟': 1,\n",
       "         '†': 16,\n",
       "         '‡': 8,\n",
       "         '•': 3069,\n",
       "         '…': 5556,\n",
       "         '\\u2028': 15,\n",
       "         '\\u202a': 20,\n",
       "         '\\u202f': 738,\n",
       "         '‰': 111,\n",
       "         '′': 57,\n",
       "         '›': 4,\n",
       "         '\\u206a': 12,\n",
       "         '€': 185982,\n",
       "         '™': 20,\n",
       "         '↑': 27,\n",
       "         '→': 15,\n",
       "         '↓': 71,\n",
       "         '↔': 2,\n",
       "         '∆': 169,\n",
       "         '∑': 120,\n",
       "         '−': 323,\n",
       "         '√': 72,\n",
       "         '∞': 2,\n",
       "         '∩': 1,\n",
       "         '≈': 7,\n",
       "         '≠': 4,\n",
       "         '≤': 3505,\n",
       "         '≥': 1553,\n",
       "         '▎': 1,\n",
       "         '■': 21,\n",
       "         '□': 1926,\n",
       "         '▪': 6,\n",
       "         '●': 69,\n",
       "         '⩽': 113,\n",
       "         '⩾': 265,\n",
       "         '\\uf063': 35,\n",
       "         '\\uf06f': 2,\n",
       "         '\\uf07f': 13,\n",
       "         '\\ufeff': 147})"
      ]
     },
     "execution_count": 4,
     "metadata": {},
     "output_type": "execute_result"
    }
   ],
   "source": [
    "compteur = Counter(contenu)\n",
    "compteur"
   ]
  },
  {
   "cell_type": "code",
   "execution_count": 5,
   "metadata": {
    "collapsed": false
   },
   "outputs": [
    {
     "data": {
      "text/plain": [
       "'\\t\\n !\"#$%&\\'()*+,-./0123456789:;=?@ABCDEFGHIJKLMNOPQRSTUVWXYZ[\\\\]^_`abcdefghijklmnopqrstuvwxyz{|}~\\x80\\x83\\x84\\x8c\\x8d\\x90\\x92\\x94\\x97\\x9c\\x9d\\x9f\\xa0¢£¦§¨©«¬\\xad®¯°±²³´µ·¸¹º»¼½¾¿ÀÁÂÃÄÅÆÇÈÉÊËÍÎÏÑÓÔÕÖ×ØÙÚÛÜßàáâãäåæçèéêëìíîïñòóôõöøùúûüýÿāĂăČčğĪİıłŃńŅōŒœŠšŪūŸźžƌƐƒȊșȹʃʎʹʺʼ˃˜˝ˮ̀́̂ΑΒΔΘΣΦΩαβγδεθλμπρστφωϕЀДЖИКМПРСФХЧабвеиклмопрстујҩӨᵠ\\u2002\\u2003\\u200b\\u200c\\u200d\\u200e‐‑‒–—―‘’‚“”„‟†‡•…\\u2028\\u202a\\u202f‰′›\\u206a€™↑→↓↔∆∑−√∞∩≈≠≤≥▎■□▪●⩽⩾\\uf063\\uf06f\\uf07f\\ufeff'"
      ]
     },
     "execution_count": 5,
     "metadata": {},
     "output_type": "execute_result"
    }
   ],
   "source": [
    "tous_les_caracteres = list(compteur.keys())\n",
    "tous_les_caracteres.sort()\n",
    "''.join(tous_les_caracteres)"
   ]
  },
  {
   "cell_type": "code",
   "execution_count": 3,
   "metadata": {
    "collapsed": false
   },
   "outputs": [],
   "source": [
    "liste_minuscules = 'abcdefghijklmnopqrstuvwxyzàâäéèêëïîôöùûüÿçæœ'\n",
    "liste_majuscules = 'ABCDEFGHIJKLMNOPQRSTUVWXYZÀÂÄÉÈÊËÏÎÔÖÙÛÜŸÇÆŒ'\n",
    "ensemble_minuscules = set(liste_minuscules)\n",
    "ensemble_majuscules = set(liste_majuscules)\n",
    "ensemble_lettres = ensemble_minuscules | ensemble_majuscules"
   ]
  },
  {
   "cell_type": "code",
   "execution_count": 4,
   "metadata": {
    "collapsed": false,
    "scrolled": true
   },
   "outputs": [],
   "source": [
    "majuscule_a_minuscule = {\n",
    "    liste_majuscules[i]: liste_minuscules[i]\n",
    "    for i in range(len(liste_minuscules))\n",
    "}"
   ]
  },
  {
   "cell_type": "markdown",
   "metadata": {},
   "source": [
    "## Ne garde que les lettres"
   ]
  },
  {
   "cell_type": "code",
   "execution_count": 38,
   "metadata": {
    "collapsed": true
   },
   "outputs": [],
   "source": [
    "contenu_espace = ''.join([c if c in ensemble_lettres else ' ' for c in contenu])"
   ]
  },
  {
   "cell_type": "code",
   "execution_count": 40,
   "metadata": {
    "collapsed": false
   },
   "outputs": [],
   "source": [
    "contenu_minuscule = ''.join([majuscule_a_minuscule[c] if c in ensemble_majuscules else c for c in contenu_espace])"
   ]
  },
  {
   "cell_type": "code",
   "execution_count": 44,
   "metadata": {
    "collapsed": false
   },
   "outputs": [],
   "source": [
    "liste_mots = contenu_minuscule.split(' ')"
   ]
  },
  {
   "cell_type": "code",
   "execution_count": 55,
   "metadata": {
    "collapsed": false
   },
   "outputs": [
    {
     "data": {
      "text/plain": [
       "520654151"
      ]
     },
     "execution_count": 55,
     "metadata": {},
     "output_type": "execute_result"
    }
   ],
   "source": [
    "len(liste_mots)"
   ]
  },
  {
   "cell_type": "code",
   "execution_count": 56,
   "metadata": {
    "collapsed": true
   },
   "outputs": [],
   "source": [
    "liste_mots_pleins = [mot for mot in liste_mots if mot]"
   ]
  },
  {
   "cell_type": "code",
   "execution_count": 57,
   "metadata": {
    "collapsed": false
   },
   "outputs": [
    {
     "data": {
      "text/plain": [
       "264152316"
      ]
     },
     "execution_count": 57,
     "metadata": {},
     "output_type": "execute_result"
    }
   ],
   "source": [
    "len(liste_mots_pleins)"
   ]
  },
  {
   "cell_type": "code",
   "execution_count": 58,
   "metadata": {
    "collapsed": false
   },
   "outputs": [],
   "source": [
    "with open(repertoire_racine + 'liste_mots_article.txt', 'wb') as f:\n",
    "    pickle.dump(liste_mots_pleins, f)"
   ]
  },
  {
   "cell_type": "code",
   "execution_count": 59,
   "metadata": {
    "collapsed": false
   },
   "outputs": [],
   "source": [
    "compteur_mots = Counter(liste_mots_pleins)"
   ]
  },
  {
   "cell_type": "code",
   "execution_count": 60,
   "metadata": {
    "collapsed": false
   },
   "outputs": [],
   "source": [
    "with open(repertoire_racine + 'compteur_mots_article.txt', 'wb') as f:\n",
    "    pickle.dump(compteur_mots, f)"
   ]
  },
  {
   "cell_type": "markdown",
   "metadata": {
    "collapsed": true
   },
   "source": [
    "## Garde tout, sépare en paragraphes"
   ]
  },
  {
   "cell_type": "code",
   "execution_count": 5,
   "metadata": {
    "collapsed": true
   },
   "outputs": [],
   "source": [
    "# sépare en paragraphes\n",
    "liste_paragraphe = contenu.split('\\n')"
   ]
  },
  {
   "cell_type": "code",
   "execution_count": 6,
   "metadata": {
    "collapsed": false
   },
   "outputs": [
    {
     "data": {
      "text/plain": [
       "89510416"
      ]
     },
     "execution_count": 6,
     "metadata": {},
     "output_type": "execute_result"
    }
   ],
   "source": [
    "len(liste_paragraphe)"
   ]
  },
  {
   "cell_type": "code",
   "execution_count": 7,
   "metadata": {
    "collapsed": false
   },
   "outputs": [],
   "source": [
    "for i, paragraphe in enumerate(liste_paragraphe):\n",
    "    paragraphe = paragraphe.strip()\n",
    "    paragraphe = re.sub('[ \\t\\r\\n\\xa0]+', ' ', paragraphe)\n",
    "    liste_paragraphe[i] = paragraphe"
   ]
  },
  {
   "cell_type": "code",
   "execution_count": 9,
   "metadata": {
    "collapsed": true
   },
   "outputs": [],
   "source": [
    "liste_paragraphe = [p for p in liste_paragraphe if p]"
   ]
  },
  {
   "cell_type": "code",
   "execution_count": 8,
   "metadata": {
    "collapsed": false
   },
   "outputs": [],
   "source": [
    "liste_paragraphe = [p for p in liste_paragraphe if p not in ['A N N E X E', 'a n n e x e']]"
   ]
  },
  {
   "cell_type": "code",
   "execution_count": 10,
   "metadata": {
    "collapsed": false
   },
   "outputs": [
    {
     "data": {
      "text/plain": [
       "20835740"
      ]
     },
     "execution_count": 10,
     "metadata": {},
     "output_type": "execute_result"
    }
   ],
   "source": [
    "len(liste_paragraphe)"
   ]
  },
  {
   "cell_type": "code",
   "execution_count": 11,
   "metadata": {
    "collapsed": false
   },
   "outputs": [
    {
     "data": {
      "text/plain": [
       "['Art. 2. - Le directeur des personnels administratifs, ouvriers et de service et le directeur de l’enseignement français en Allemagne sont chargés, chacun en ce qui le concerne, de l’exécution du présent arrêté, qui sera publié au Journal officiel de la République française.',\n",
       " \"FONDS NATIONAL DE DÉVELOPPEMENT ET DE MODERNISATION DE L'APPRENTISSAGE\",\n",
       " 'Première section',\n",
       " 'Année 2006',\n",
       " '(Montants en euros)',\n",
       " \"Sont rendues obligatoires, pour tous les employeurs et tous les salariés compris dans le champ d'application de la convention collective régionale de l'industrie de la manutention et du nettoyage sur les aéroports ouverts à la circulation publique dans la région parisienne du 1er octobre 1985, les dispositions de l'avenant n° 36 du 24 février 2006, relatif aux salaires et aux classifications (barèmes annexés), à la convention collective régionale susvisée.\",\n",
       " 'Les grilles de salaires des filières manutention et nettoyage figurant en annexe sont étendues sous réserve du respect des dispositions réglementaires portant fixation du salaire minimum interprofessionnel de croissance.',\n",
       " \"Après son réexamen par la commission professionnelle consultative susvisée, l'arrêté du 9 décembre 2003 est ainsi révisé :\",\n",
       " \"I. - L'arrêté du 9 décembre 2003 susvisé est prorogé pour une durée de cinq ans à compter de la date d'entrée en vigueur du présent arrêté.\",\n",
       " \"L'intitulé du titre professionnel « chef de chantier travaux publics routes » est remplacé par l'intitulé « chef de chantier travaux publics routes et canalisations ».\",\n",
       " \"II. - Les dispositions de l'article 3 susvisé sont remplacées par les dispositions suivantes :\",\n",
       " '« Art. 3. - Le titre professionnel de chef de chantier travaux publics routes et canalisations est composé des trois unités constitutives dont la liste suit :',\n",
       " '1. Diriger des chantiers de terrassements courants.',\n",
       " '2. Diriger des chantiers de canalisations.',\n",
       " '3. Diriger des chantiers de routes et de voirie urbaine.',\n",
       " \"Elles peuvent être sanctionnées par des certificats de compétences professionnelles (CCP) dans les conditions prévues par l'arrêté du 9 mars 2006 susvisé. »\",\n",
       " \"III. - Après l'article 3 de l'arrêté du 9 décembre 2003 susvisé, il est inséré un article 3 bis ainsi rédigé :\",\n",
       " '« Art. 3 bis. - Les titulaires des certificats de compétences professionnelles obtenus antérieurement à la publication du présent arrêté modificatif sont réputés avoir obtenu les certificats de compétences professionnelles du titre professionnel de chef de chantier travaux publics routes et canalisations selon le tableau de correspondance figurant ci-dessous :',\n",
       " \"IV. - Le référentiel d'emploi, d'activités et de compétences et le référentiel de certification du titre professionnel de chef de chantier travaux publics routes et canalisations sont disponibles dans tout centre AFPA ou centre agrée.\",\n",
       " \"Art. 7. - L'absence à une épreuve est éliminatoire.\",\n",
       " 'Les épreuves sont notées de 0 à 20, la moyenne requise pour obtenir le diplôme est fixée à 10 en fonction des coefficients déterminés en annexe.',\n",
       " \"Les notes de l'admissibilité sont prises en compte pour l'admission.\",\n",
       " \"Pour les candidats dispensés de l'admissibilité suivant les conditions prévues à l'article 9 du présent arrêté, seules sont prises en compte les notes des épreuves d'admission.\",\n",
       " \"Lorsque le candidat se présente aux épreuves d'admission en gardant le bénéfice d'une admissibilité antérieure dans les conditions prévues par l'article 10, les notes obtenues lors de cette admissibilité sont prises en compte pour l'admission.\",\n",
       " \"Le jury peut interrompre le candidat sans réduire le temps de l'épreuve.\",\n",
       " 'Le candidat devant interpréter une oeuvre ou un programme de son choix doit, pour être autorisé à se présenter aux épreuves, se munir de trois exemplaires des partitions ou textes à remettre aux membres du jury.',\n",
       " 'Lorsque les candidats ne peuvent pas apporter leur instrument (piano,',\n",
       " 'percussions, orgue, clavecin), le descriptif des instruments fournis est communiqué aux intéressés au moins un mois avant la date des épreuves.',\n",
       " 'Par arrêté du ministre de la fonction publique en date du 26 août 1993, les emplois d’administrateur civil à pourvoir par le recrutement au tour extérieur au titre de l’année 1993 sont répartis dans les administrations centrales de l’Etat et administrations assimilées ainsi qu’il suit :',\n",
       " 'Secrétariat général du Gouvernement : 1 poste.',\n",
       " 'Ministère des affaires sociales, de la santé et de la ville. - Ministère du travail, de l’emploi et de la formation professionnelle : 4 postes.',\n",
       " 'Ministère de l’intérieur et de l’aménagement du territoire : 4 postes.',\n",
       " 'Ministère de la justice : 1 poste.',\n",
       " 'Ministère de la défense : 1 poste.',\n",
       " 'Ministère de l’éducation nationale : 3 postes.',\n",
       " 'Ministère de l’économie. - Ministère du budget : 9 postes.',\n",
       " 'Ministère de l’industrie, des postes et télécommunications et du commerce extérieur : 1 poste.',\n",
       " 'Ministère de l’équipement, des transports et du tourisme : 2 postes.',\n",
       " 'Aviation civile : 1 poste.',\n",
       " 'Mer : 1 poste.',\n",
       " 'Ministère de la culture et de la francophonie : 1 poste.',\n",
       " 'Ministère de l’agriculture et de la pêche : 1 poste.',\n",
       " 'Ministère de la coopération : 2 postes.',\n",
       " 'Caisse des dépôts et consignations : 1 poste.',\n",
       " 'Total : 33 postes.',\n",
       " 'Dénomination',\n",
       " 'La dénomination du groupement est : « Institut du développement local ».',\n",
       " \"Art. 9. - Le commandant de la défense aérienne et le directeur de la navigation aérienne sont chargés, chacun en ce qui le concerne, de l'exécution du présent arrêté, qui sera publié au Journal officiel de la République française.\",\n",
       " 'Art. 6. - Les dispositions des arrêtés du 27 février 1985 modifié portant suppression du brevet de technicien supérieur Electronicien et création du brevet de technicien supérieur Electronique et du 27 février 1985 modifié fixant les conditions de délivrance du brevet de technicien supérieur Electronique seront abrogées à l’issue de la session d’examen de 1994.',\n",
       " \"L'article 4 du décret n° 2001-510 du 12 juin 2001 portant application du code de la consommation en ce qui concerne les vins, vins mousseux, vins pétillants et vins de liqueurs est abrogé.\",\n",
       " \"Art. 1er. - Sont agréés, sous réserve de l'application des dispositions législatives ou réglementaires en vigueur, à compter de la date prévue dans le texte ou à défaut de la date de notification de la décision ministérielle aux signataires, les accords collectifs de travail suivants :\",\n",
       " 'Art. 1er. - Les opérations de restructuration des services et établissements publics de l’Etat comportant un changement d’organisation ou d’implantation géographique rendant nécessaire une reconversion des agents et qui sont agréées par arrêté du ministre intéressé, du ministre chargé de la fonction publique et du ministre chargé du budget, ouvrent l’accès à un congé de restructuration dans les conditions prévues à l’article 3 du présent décret.',\n",
       " 'Le congé est ouvert sur leur demande, dans les conditions fixées par le présent décret, aux fonctionnaires titulaires régis par le titre II du statut général des fonctionnaires, aux agents civils non titulaires de l’Etat et de ses établissements publics n’ayant pas le caractère industriel et commercial et aux ouvriers affiliés au régime des pensions résultant du décret du 24 septembre 1965 susvisé.',\n",
       " 'DEPARTEMENT DES HAUTES-ALPES',\n",
       " 'Inondations et coulées de boue du 20 septembre 2000',\n",
       " 'Commune de Rosans.',\n",
       " \"DEPARTEMENT DE L'AUBE\",\n",
       " 'Inondations et coulées de boue du 27 septembre 2000',\n",
       " 'Commune de Villacerf.',\n",
       " \"DEPARTEMENT DE L'AVEYRON\",\n",
       " 'Inondations et coulées de boue du 13 juin 2000',\n",
       " \"Communes d'Alrance (1), Durenque (1), Ledergues (2), La Selve (1).\",\n",
       " 'DEPARTEMENT DU CALVADOS',\n",
       " 'Mouvement de terrain de septembre 1998',\n",
       " \"Commune d'Houlgate.\",\n",
       " 'Inondations et coulées de boue du 6 au 8 novembre 2000',\n",
       " 'Commune de Touques (2).',\n",
       " 'Inondations et coulées de boue du 7 novembre 2000',\n",
       " \"Communes d'Angerville (3), Bonnebosq (3), Clarbec (2), Dives-sur-Mer (2), La Rivière-Saint-Sauveur (5), Saint-André-d'Hébertot (2), Saint-Martin-aux-Chartrains (3), Surville (2).\",\n",
       " 'Inondations et coulées de boue du 7 au 8 novembre 2000',\n",
       " \"Communes d'Ablon (4), Blonville-sur-Mer (3), Pont-l'Evêque (3).\",\n",
       " 'Inondations et coulées de boue du 7 au 9 novembre 2000',\n",
       " 'Commune de Cricqueville-en-Auge (3).',\n",
       " 'Inondations et coulées de boue du 11 novembre 2000',\n",
       " 'Commune de Cricqueville-en-Auge (4).',\n",
       " 'Inondations et coulées de boue du 12 novembre 2000',\n",
       " 'Commune de Blonville-sur-Mer (4).',\n",
       " \"DEPARTEMENT DE L'EURE\",\n",
       " 'Inondations et coulées de boue du 7 novembre 2000',\n",
       " 'Communes de Boulleville (3), Campigny (3), Colletot (2), Corneville-sur-Risle, Fiquefleur-Equainville (4), Foulbec (3), La Lande-Saint-Léger (4), Manneville-la-Raoult (3), Manneville-sur-Risle, Les Préaux (4), Rougemontiers (2), Saint-Germain-Village (6), Saint-Maclou (3), Saint-Mards-de-Blacarville (3), Tourville-sur-Pont-Audemer (4).',\n",
       " 'Inondations et coulées de boue du 7 au 8 novembre 2000',\n",
       " \"Communes d'Appeville-Annebault (2), Pont-Audemer.\",\n",
       " \"DEPARTEMENT D'EURE-ET-LOIR\",\n",
       " 'Inondations et coulées de boue du 24 juillet 2000',\n",
       " 'Commune de Goussainville (2).',\n",
       " 'DEPARTEMENT DU FINISTERE',\n",
       " 'Mouvement de terrain du 17 avril 2000',\n",
       " \"Commune d'Audierne (4).\",\n",
       " 'Inondations et coulées de boue du 12 décembre 2000',\n",
       " 'Communes de Bannalec (3), Guiclan (3), Plogonnec (3).',\n",
       " 'Inondations et coulées de boue du 12 au 13 décembre 2000',\n",
       " 'Commune de Guengat.',\n",
       " 'DEPARTEMENT DE LA GIRONDE',\n",
       " 'Inondations et coulées de boue du 18 octobre 1999',\n",
       " 'Commune de Saint-Ciers-de-Canesse (2).',\n",
       " \"DEPARTEMENT DE L'HERAULT\",\n",
       " 'Inondations et coulées de boue du 14 juin 2000',\n",
       " \"Communes d'Autignac (3), Cazouls-lès-Béziers (3), Creissan (2), Faugères (2), Magalas (2), Pailhès (3), Puisserguier (2), Quarante (3), Saint-Geniès-de-Fontedit (3).\",\n",
       " \"DEPARTEMENT D'ILLE-ET-VILAINE\",\n",
       " 'Inondations et coulées de boue des 11 et 12 novembre 2000']"
      ]
     },
     "execution_count": 11,
     "metadata": {},
     "output_type": "execute_result"
    }
   ],
   "source": [
    "liste_paragraphe[:100]"
   ]
  },
  {
   "cell_type": "code",
   "execution_count": 12,
   "metadata": {
    "collapsed": true
   },
   "outputs": [],
   "source": [
    "with open(repertoire_racine + 'liste_paragraphe.txt', 'wb') as f:\n",
    "    pickle.dump(liste_paragraphe, f)"
   ]
  }
 ],
 "metadata": {
  "kernelspec": {
   "display_name": "Python 3",
   "language": "python",
   "name": "python3"
  },
  "language_info": {
   "codemirror_mode": {
    "name": "ipython",
    "version": 3
   },
   "file_extension": ".py",
   "mimetype": "text/x-python",
   "name": "python",
   "nbconvert_exporter": "python",
   "pygments_lexer": "ipython3",
   "version": "3.5.2"
  }
 },
 "nbformat": 4,
 "nbformat_minor": 2
}
