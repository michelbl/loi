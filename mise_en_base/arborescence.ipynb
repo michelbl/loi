{
 "cells": [
  {
   "cell_type": "markdown",
   "metadata": {},
   "source": [
    "# Mise en base de l'arborescence"
   ]
  },
  {
   "cell_type": "markdown",
   "metadata": {},
   "source": [
    "## Documentation\n",
    "\n",
    "### Liste des tables\n",
    "\n",
    "A chaque type de fichiers mxl correspond une table :\n",
    "\n",
    "#### Table article\n",
    "\n",
    "A chaque ligne correspond un fichier LEGIARTIxxxxxxxxxxxx.xml.\n",
    "\n",
    "Les colonnes base_origine, categorie, cid et id\\_ localisent le fichier dans l'arborescence plate.\n",
    "\n",
    "Les colonnes valide et valide\\_\\* caractérisent la validité du fichier.\n",
    "\n",
    "\n",
    "#### Table struct\n",
    "\n",
    "A chaque ligne correspond un fichier LEGITEXTxxxxxxxxxxxx.xml ou JORFTEXTxxxxxxxxxxxx.xml d'un dossier struct.\n",
    "\n",
    "Les colonnes base_origine, categorie, cid et id\\_ localisent le fichier dans l'arborescence plate.\n",
    "\n",
    "Les colonnes valide et valide\\_\\* caractérisent la validité du fichier.\n",
    "\n",
    "\n",
    "#### Table version\n",
    "\n",
    "A chaque ligne correspond un fichier LEGITEXTxxxxxxxxxxxx.xml ou JORFTEXTxxxxxxxxxxxx.xml d'un dossier version.\n",
    "\n",
    "Les colonnes base_origine, categorie, cid et id\\_ localisent le fichier dans l'arborescence plate.\n",
    "\n",
    "Les colonnes valide et valide\\_\\* caractérisent la validité du fichier.\n",
    "\n",
    "\n",
    "#### Table texte\n",
    "\n",
    "A chaque ligne correspond un fichier JORFTEXTxxxxxxxxxxxx.xml de la base JORF ou un dossier LEGITEXTxxxxxxxxxxxx ou JORFTEXTxxxxxxxxxxxx de la base LEGI.\n",
    "\n",
    "Les colonnes base_origine, categorie, cid localisent le fichier dans l'arborescence plate.\n",
    "\n",
    "Les colonnes valide et valide\\_\\* caractérisent la validité du fichier.\n",
    "\n",
    "\n",
    "#### Table section_ta\n",
    "\n",
    "A chaque ligne correspond un fichier LEGISCTAxxxxxxxxxxxx.xml.\n",
    "\n",
    "Les colonnes base_origine, categorie, cid et id\\_ localisent le fichier dans l'arborescence plate.\n",
    "\n",
    "Les colonnes valide et valide\\_\\* caractérisent la validité du fichier.\n",
    "\n",
    "\n",
    "#### Table conteneur\n",
    "\n",
    "A chaque ligne correspond un fichier LEGICONTxxxxxxxxxxxx.xml du JORF.\n",
    "\n",
    "La colonne id\\_ localise le fichier.\n",
    "\n",
    "Les colonnes valide et valide\\_\\* caractérisent la validité du fichier.\n",
    "\n",
    "\n",
    "### Liste des champs\n",
    "\n",
    "#### base_origine\n",
    "\n",
    "JORF ou LEGI\n",
    "\n",
    "#### categorie\n",
    "\n",
    "* code_en_vigueur_LEGI\n",
    "* code_non_vigueur_LEGI\n",
    "* TNC_en_vigueur_JORF\n",
    "* TNC_en_vigueur_LEGI\n",
    "* TNC_non_vigueur_JORF \n",
    "* TNC_non_vigueur_LEGI\n",
    "\n",
    "#### cid\n",
    "\n",
    "Pour LEGI, correspond au 2e niveau dans l'arborescence plate.\n",
    "\n",
    "Pour JORF, correspond au nom du fichier.\n",
    "\n",
    "#### id_\n",
    "\n",
    "Correspond au nom des fichiers dans l'arborescence plate. Un underscore est ajouté à la fin car le mot \"id\" est un mot réservé pour certains langages de programmation, dont python."
   ]
  },
  {
   "cell_type": "markdown",
   "metadata": {},
   "source": [
    "## Mode opératoire\n",
    "\n",
    "* Créer l'utilisateur et la base de données\n",
    "```\n",
    "# sudo -i -u postgres\n",
    "$ createuser --interactive\n",
    "$ createdb loi\n",
    "$ psql\n",
    "# grant all privileges on database loi to loi;\n",
    "# alter user loi with password 'baba';\n",
    "```\n",
    "\n",
    "* Ajouter la ligne suivante à /etc/postgresql/9.6/main/pg_hba.conf : `local loi loi md5`\n",
    "* Redémarrer postgresql : `service postgresql restart`\n",
    "* Pour se connecter avec psql :\n",
    "```\n",
    "$ psql -U loi loi\n",
    "```\n",
    "\n",
    "* Créer les tables :\n",
    "```\n",
    "create table article (base_origine varchar(21), categorie varchar(21),\n",
    "    cid varchar(21), id_ varchar(21), valide boolean);\n",
    "create table struct (base_origine varchar(21), categorie varchar(21),\n",
    "    cid varchar(21), id_ varchar(21), valide boolean);\n",
    "create table version (base_origine varchar(21), categorie varchar(21),\n",
    "    cid varchar(21), id_ varchar(21), valide boolean);\n",
    "create table texte (base_origine varchar(21), categorie varchar(21),\n",
    "    cid varchar(21), valide boolean);\n",
    "create table section_ta (base_origine varchar(21), categorie varchar(21),\n",
    "    cid varchar(21), id_ varchar(21), valide boolean);\n",
    "create table conteneur (id_ varchar(21), valide boolean);\n",
    "```\n",
    "\n",
    "* Créer les index :\n",
    "```\n",
    "create index on article (cid);\n",
    "create index on article (id_);\n",
    "create index on struct (cid);\n",
    "create index on struct (id_);\n",
    "create index on version (cid);\n",
    "create index on version (id_);\n",
    "create index on texte (cid);\n",
    "create index on section_ta (cid);\n",
    "create index on section_ta (id_);\n",
    "create index on conteneur (id_);\n",
    "```\n"
   ]
  },
  {
   "cell_type": "code",
   "execution_count": 1,
   "metadata": {
    "collapsed": true
   },
   "outputs": [],
   "source": [
    "import os\n",
    "import re\n",
    "\n",
    "import psycopg2"
   ]
  },
  {
   "cell_type": "code",
   "execution_count": 18,
   "metadata": {
    "collapsed": true
   },
   "outputs": [],
   "source": [
    "connection = psycopg2.connect(dbname='loi', user='loi', password='baba')\n",
    "curseur = connection.cursor()"
   ]
  },
  {
   "cell_type": "code",
   "execution_count": 2,
   "metadata": {
    "collapsed": true
   },
   "outputs": [],
   "source": [
    "racine_legi = '/home/michel/legi_plat/'\n",
    "racine_jorf = '/home/michel/jorf_plat/'"
   ]
  },
  {
   "cell_type": "code",
   "execution_count": 4,
   "metadata": {
    "collapsed": true
   },
   "outputs": [],
   "source": [
    "def trouve_enfants(dossier):\n",
    "    enfants = os.listdir(dossier)\n",
    "    est_fichier_liste = [os.path.isfile(os.path.join(dossier, f)) for f in enfants]\n",
    "    enfants_fichier = [enfants[i] for i in range(len(enfants)) if est_fichier_liste[i]]\n",
    "    enfants_dossier = [enfants[i] for i in range(len(enfants)) if not est_fichier_liste[i]]\n",
    "    \n",
    "    return enfants_fichier, enfants_dossier"
   ]
  },
  {
   "cell_type": "markdown",
   "metadata": {},
   "source": [
    "## Traite la base LEGI"
   ]
  },
  {
   "cell_type": "code",
   "execution_count": 5,
   "metadata": {
    "collapsed": true
   },
   "outputs": [],
   "source": [
    "def traite_struct(racine, categorie, cid):\n",
    "    dossier = os.path.join(racine, categorie, cid, 'struct')\n",
    "    enfants_fichier, enfants_dossier = trouve_enfants(dossier)\n",
    "    \n",
    "    assert len(enfants_dossier) == 0\n",
    "    \n",
    "    nom_fichier_attendu = '^LEGITEXT\\d{12}\\.xml$'\n",
    "    for enfant_fichier in enfants_fichier:\n",
    "        assert re.match(nom_fichier_attendu, enfant_fichier)\n",
    "        \n",
    "        id_ = enfant_fichier[:20]\n",
    "        curseur.execute(\"insert into struct (base_origine, categorie, cid, id_, valide) values ('LEGI', %s, %s, %s, True)\", (categorie, cid, id_,))\n",
    "        connection.commit()"
   ]
  },
  {
   "cell_type": "code",
   "execution_count": 6,
   "metadata": {
    "collapsed": true
   },
   "outputs": [],
   "source": [
    "def traite_version(racine, categorie, cid):\n",
    "    dossier = os.path.join(racine, categorie, cid, 'version')\n",
    "    enfants_fichier, enfants_dossier = trouve_enfants(dossier)\n",
    "    \n",
    "    assert len(enfants_dossier) == 0\n",
    "    \n",
    "    nom_fichier_attendu = '^LEGITEXT\\d{12}\\.xml$'\n",
    "    for enfant_fichier in enfants_fichier:\n",
    "        assert re.match(nom_fichier_attendu, enfant_fichier)\n",
    "        \n",
    "        id_ = enfant_fichier[:20]\n",
    "        curseur.execute(\"insert into version (base_origine, categorie, cid, id_, valide) values ('LEGI', %s, %s, %s, True)\",\n",
    "                        (categorie, cid, id_,))\n",
    "        connection.commit()"
   ]
  },
  {
   "cell_type": "code",
   "execution_count": 14,
   "metadata": {
    "collapsed": true
   },
   "outputs": [],
   "source": [
    "def traite_cid(racine, categorie, cid):\n",
    "    dossier = os.path.join(racine, categorie, cid)\n",
    "    enfants_fichier, enfants_dossier = trouve_enfants(dossier)\n",
    "\n",
    "    assert set(enfants_dossier) == set([\n",
    "        'struct',\n",
    "        'version',\n",
    "    ])\n",
    "    traite_struct(racine, categorie, cid)\n",
    "    traite_version(racine, categorie, cid)\n",
    "    \n",
    "    nom_fichier_article = '^LEGIARTI\\d{12}\\.xml$'\n",
    "    nom_fichier_section_ta = '^LEGISCTA\\d{12}\\.xml$'\n",
    "    for enfant_fichier in enfants_fichier:\n",
    "        id_ = enfant_fichier[:20]\n",
    "        if re.match(nom_fichier_article, enfant_fichier):\n",
    "            curseur.execute(\"insert into article (base_origine, categorie, cid, id_, valide) values ('LEGI', %s, %s, %s, True)\",\n",
    "                            (categorie, cid, id_,))\n",
    "            connection.commit()\n",
    "        elif re.match(nom_fichier_section_ta, enfant_fichier):\n",
    "            curseur.execute(\"insert into section_ta (base_origine, categorie, cid, id_, valide) values ('LEGI', %s, %s, %s, True)\",\n",
    "                            (categorie, cid, id_,))\n",
    "            connection.commit()\n",
    "        else:\n",
    "            raise ValueError(cid)\n",
    "            \n",
    "    curseur.execute(\"insert into texte (base_origine, categorie, cid, valide) values ('LEGI', %s, %s, True)\",\n",
    "                    (categorie, cid,))\n",
    "    connection.commit()\n",
    "\n"
   ]
  },
  {
   "cell_type": "code",
   "execution_count": 15,
   "metadata": {
    "collapsed": true
   },
   "outputs": [],
   "source": [
    "def traite_categorie(racine, categorie):\n",
    "    dossier = os.path.join(racine, categorie)\n",
    "    enfants_fichier, enfants_dossier = trouve_enfants(dossier)\n",
    "    \n",
    "    assert len(enfants_fichier) == 0\n",
    "    \n",
    "    nom_dossier_attendu = '^' + categorie[-4:] + 'TEXT\\d{12}$'\n",
    "    for enfant_dossier in enfants_dossier:\n",
    "        assert re.match(nom_dossier_attendu, enfant_dossier)\n",
    "        \n",
    "        traite_cid(racine, categorie, enfant_dossier)\n",
    "    "
   ]
  },
  {
   "cell_type": "code",
   "execution_count": 16,
   "metadata": {
    "collapsed": true
   },
   "outputs": [],
   "source": [
    "def traite_legi(racine):\n",
    "    enfants_fichier, enfants_dossier = trouve_enfants(racine)\n",
    "    \n",
    "    assert len(enfants_fichier) == 0\n",
    "    assert set(enfants_dossier) == set([\n",
    "            'code_en_vigueur_LEGI',\n",
    "            'code_non_vigueur_LEGI',\n",
    "            'TNC_en_vigueur_JORF',\n",
    "            'TNC_en_vigueur_LEGI',\n",
    "            'TNC_non_vigueur_JORF',\n",
    "            'TNC_non_vigueur_LEGI',\n",
    "        ])\n",
    "        \n",
    "    for enfant_dossier in enfants_dossier:\n",
    "        traite_categorie(racine, enfant_dossier)"
   ]
  },
  {
   "cell_type": "code",
   "execution_count": 19,
   "metadata": {
    "collapsed": false
   },
   "outputs": [],
   "source": [
    "traite_legi(racine_legi)"
   ]
  },
  {
   "cell_type": "code",
   "execution_count": 20,
   "metadata": {
    "collapsed": true
   },
   "outputs": [],
   "source": [
    "curseur.close()\n",
    "connection.close()"
   ]
  },
  {
   "cell_type": "markdown",
   "metadata": {},
   "source": [
    "A l'issue de cette étape, les tables contiennent les nombres suivants de lignes :\n",
    "* texte : 97926\n",
    "* article : 1247771\n",
    "* section_ta : 177124\n",
    "* struct : 99480\n",
    "* version : 99944"
   ]
  },
  {
   "cell_type": "markdown",
   "metadata": {
    "collapsed": true
   },
   "source": [
    "## Traite la base JORF"
   ]
  },
  {
   "cell_type": "code",
   "execution_count": 21,
   "metadata": {
    "collapsed": true
   },
   "outputs": [],
   "source": [
    "connection = psycopg2.connect(dbname='loi', user='loi', password='baba')\n",
    "curseur = connection.cursor()"
   ]
  },
  {
   "cell_type": "code",
   "execution_count": 24,
   "metadata": {
    "collapsed": false
   },
   "outputs": [],
   "source": [
    "enfants_fichier, enfants_dossier = trouve_enfants(racine_jorf)\n",
    "\n",
    "assert len(enfants_fichier) == 0\n",
    "assert set(enfants_dossier) == set([\n",
    "    'article',\n",
    "    'conteneur',\n",
    "    'section_ta',\n",
    "    'texte',\n",
    "])"
   ]
  },
  {
   "cell_type": "code",
   "execution_count": 25,
   "metadata": {
    "collapsed": true
   },
   "outputs": [],
   "source": [
    "# article\n",
    "\n",
    "enfants_fichier, enfants_dossier = trouve_enfants(os.path.join(racine_jorf, 'article'))\n",
    "\n",
    "assert len(enfants_dossier) == 0\n",
    "\n",
    "nom_fichier_article = '^JORFARTI\\d{12}\\.xml$'\n",
    "\n",
    "for enfant_fichier in enfants_fichier:\n",
    "    assert re.match(nom_fichier_article, enfant_fichier)\n",
    "    id_ = enfant_fichier[:20]\n",
    "    curseur.execute(\"insert into article (base_origine, id_, valide) values ('JORF', %s, True)\",\n",
    "                    (id_,))\n",
    "    connection.commit()\n"
   ]
  },
  {
   "cell_type": "code",
   "execution_count": 29,
   "metadata": {
    "collapsed": false
   },
   "outputs": [],
   "source": [
    "# conteneur\n",
    "\n",
    "enfants_fichier, enfants_dossier = trouve_enfants(os.path.join(racine_jorf, 'conteneur'))\n",
    "\n",
    "assert len(enfants_dossier) == 0\n",
    "\n",
    "nom_fichier_conteneur = '^JORFCONT\\d{12}\\.xml$'\n",
    "\n",
    "for enfant_fichier in enfants_fichier:\n",
    "    assert re.match(nom_fichier_conteneur, enfant_fichier)\n",
    "    id_ = enfant_fichier[:20]\n",
    "    curseur.execute(\"insert into conteneur (id_, valide) values (%s, True)\",\n",
    "                    (id_,))\n",
    "    connection.commit()\n",
    "      "
   ]
  },
  {
   "cell_type": "code",
   "execution_count": 30,
   "metadata": {
    "collapsed": true
   },
   "outputs": [],
   "source": [
    "# section_ta\n",
    "\n",
    "enfants_fichier, enfants_dossier = trouve_enfants(os.path.join(racine_jorf, 'section_ta'))\n",
    "\n",
    "assert len(enfants_dossier) == 0\n",
    "\n",
    "nom_fichier_section_ta = '^JORFSCTA\\d{12}\\.xml$'\n",
    "\n",
    "for enfant_fichier in enfants_fichier:\n",
    "    assert re.match(nom_fichier_section_ta, enfant_fichier)\n",
    "    id_ = enfant_fichier[:20]\n",
    "    curseur.execute(\"insert into section_ta (base_origine, id_, valide) values ('JORF', %s, True)\",\n",
    "                    (id_,))\n",
    "    connection.commit()\n"
   ]
  },
  {
   "cell_type": "code",
   "execution_count": 31,
   "metadata": {
    "collapsed": true
   },
   "outputs": [],
   "source": [
    "# texte\n",
    "\n",
    "enfants_fichier, enfants_dossier = trouve_enfants(os.path.join(racine_jorf, 'texte'))\n",
    "\n",
    "assert len(enfants_fichier) == 0\n",
    "assert set(enfants_dossier) == set([\n",
    "    'struct',\n",
    "    'version',\n",
    "])\n"
   ]
  },
  {
   "cell_type": "code",
   "execution_count": 32,
   "metadata": {
    "collapsed": true
   },
   "outputs": [],
   "source": [
    "# struct\n",
    "\n",
    "enfants_fichier, enfants_dossier = trouve_enfants(os.path.join(racine_jorf, 'texte/struct'))\n",
    "\n",
    "assert len(enfants_dossier) == 0\n",
    "\n",
    "nom_fichier_struct = '^JORFTEXT\\d{12}\\.xml$'\n",
    "\n",
    "for enfant_fichier in enfants_fichier:\n",
    "    assert re.match(nom_fichier_struct, enfant_fichier)\n",
    "    id_ = enfant_fichier[:20]\n",
    "    curseur.execute(\"insert into struct (base_origine, id_, valide) values ('JORF', %s, True)\",\n",
    "                    (id_,))\n",
    "    connection.commit()\n"
   ]
  },
  {
   "cell_type": "code",
   "execution_count": null,
   "metadata": {
    "collapsed": true
   },
   "outputs": [],
   "source": [
    "# version\n",
    "\n",
    "enfants_fichier, enfants_dossier = trouve_enfants(os.path.join(racine_jorf, 'texte/version'))\n",
    "\n",
    "assert len(enfants_dossier) == 0\n",
    "\n",
    "nom_fichier_version = '^JORFTEXT\\d{12}\\.xml$'\n",
    "\n",
    "for enfant_fichier in enfants_fichier:\n",
    "    assert re.match(nom_fichier_version, enfant_fichier)\n",
    "    id_ = enfant_fichier[:20]\n",
    "    curseur.execute(\"insert into version (base_origine, id_, valide) values ('JORF', %s, True)\",\n",
    "                    (id_,))\n",
    "    connection.commit()\n"
   ]
  },
  {
   "cell_type": "code",
   "execution_count": 33,
   "metadata": {
    "collapsed": true
   },
   "outputs": [],
   "source": [
    "curseur.close()\n",
    "connection.close()"
   ]
  },
  {
   "cell_type": "markdown",
   "metadata": {},
   "source": [
    "A l'issue de cette étape, les tables contiennent les nombres suivants de lignes :\n",
    "* texte : 97926 + 0 = 97926\n",
    "* article : 1247771 + 1959338 = 3207109\n",
    "* section_ta : 177124 + 89092 = 266216\n",
    "* struct : 99480 + 961006 = 1060486\n",
    "* version : 99944 + 961006 = 1060950\n",
    "* conteneur : 0 + 28892 = 28892"
   ]
  },
  {
   "cell_type": "code",
   "execution_count": null,
   "metadata": {
    "collapsed": true
   },
   "outputs": [],
   "source": []
  }
 ],
 "metadata": {
  "kernelspec": {
   "display_name": "Python 3",
   "language": "python",
   "name": "python3"
  },
  "language_info": {
   "codemirror_mode": {
    "name": "ipython",
    "version": 3
   },
   "file_extension": ".py",
   "mimetype": "text/x-python",
   "name": "python",
   "nbconvert_exporter": "python",
   "pygments_lexer": "ipython3",
   "version": "3.5.2"
  }
 },
 "nbformat": 4,
 "nbformat_minor": 2
}
