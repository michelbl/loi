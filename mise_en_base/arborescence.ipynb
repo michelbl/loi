{
 "cells": [
  {
   "cell_type": "markdown",
   "metadata": {},
   "source": [
    "# Mise en base de l'arborescence"
   ]
  },
  {
   "cell_type": "markdown",
   "metadata": {},
   "source": [
    "## Documentation\n",
    "\n",
    "### Liste des tables\n",
    "\n",
    "A chaque type de fichiers mxl correspond une table :\n",
    "* article : fichiers LEGIARTIxxxxxxxxxxxx.xml\n",
    "* section_ta : fichiers LEGISCTAxxxxxxxxxxxx.xml\n",
    "* struct : fichiers struct/LEGITEXTxxxxxxxxxxxx.xml\n",
    "* version : fichiers version/LEGITEXTxxxxxxxxxxxx.xml\n",
    "\n",
    "### Liste des champs\n",
    "\n",
    "#### categorie\n",
    "\n",
    "* code_en_vigueur_LEGI\n",
    "* code_non_vigueur_LEGI\n",
    "* TNC_en_vigueur_JORF\n",
    "* TNC_en_vigueur_LEGI\n",
    "* TNC_non_vigueur_JORF \n",
    "* TNC_non_vigueur_LEGI\n",
    "\n",
    "#### cid\n",
    "\n",
    "Correspond au 2e niveau dans l'arborescence plate.\n",
    "\n",
    "#### id_\n",
    "\n",
    "Correspond au nom des fichiers dans l'arborescence plate. Un underscore est ajouté à la fin car le mot \"id\" est un mot réservé pour certains langages de programmation, dont python."
   ]
  },
  {
   "cell_type": "markdown",
   "metadata": {},
   "source": [
    "## Mode opératoire\n",
    "\n",
    "* Créer l'utilisateur et la base de donnée\n",
    "```\n",
    "# sudo -i -u postgres\n",
    "$ createuser --interactive\n",
    "$ createdb loi\n",
    "$ psql\n",
    "# grant all privileges on database loi to loi;\n",
    "# alter user loi with password 'baba';\n",
    "```\n",
    "\n",
    "* Ajouter la ligne suivante à /etc/postgresql/9.6/main/pg_hba.conf : `local loi loi md5`\n",
    "* Redémarrer postgresql : `service postgresql restart`\n",
    "* Pour se connecter avec psql :\n",
    "```\n",
    "$ psql -U loi loi\n",
    "```\n",
    "\n",
    "* Créer les tables :\n",
    "```\n",
    "create table article (categorie char(21), cid char(21), id_ char(21));\n",
    "create table section_ta (categorie char(21), cid char(21), id_ char(21));\n",
    "create table version (categorie char(21), cid char(21), id_ char(21));\n",
    "create table struct (categorie char(21), cid char(21), id_ char(21));\n",
    "```"
   ]
  },
  {
   "cell_type": "code",
   "execution_count": 1,
   "metadata": {
    "collapsed": true
   },
   "outputs": [],
   "source": [
    "import os\n",
    "import re\n",
    "\n",
    "import psycopg2"
   ]
  },
  {
   "cell_type": "code",
   "execution_count": 2,
   "metadata": {
    "collapsed": true
   },
   "outputs": [],
   "source": [
    "connection = psycopg2.connect(dbname='loi', user='loi', password='baba')\n",
    "curseur = connection.cursor()"
   ]
  },
  {
   "cell_type": "code",
   "execution_count": 3,
   "metadata": {
    "collapsed": true
   },
   "outputs": [],
   "source": [
    "racine_source = '/home/michel/legi_plat/'"
   ]
  },
  {
   "cell_type": "code",
   "execution_count": 11,
   "metadata": {
    "collapsed": true
   },
   "outputs": [],
   "source": [
    "def trouve_enfants(dossier):\n",
    "    enfants = os.listdir(dossier)\n",
    "    est_fichier_liste = [os.path.isfile(os.path.join(dossier, f)) for f in enfants]\n",
    "    enfants_fichier = [enfants[i] for i in range(len(enfants)) if est_fichier_liste[i]]\n",
    "    enfants_dossier = [enfants[i] for i in range(len(enfants)) if not est_fichier_liste[i]]\n",
    "    \n",
    "    return enfants_fichier, enfants_dossier"
   ]
  },
  {
   "cell_type": "code",
   "execution_count": 12,
   "metadata": {
    "collapsed": true
   },
   "outputs": [],
   "source": [
    "def traite_struct(racine, categorie, cid):\n",
    "    dossier = os.path.join(racine, categorie, cid, 'struct')\n",
    "    enfants_fichier, enfants_dossier = trouve_enfants(dossier)\n",
    "    \n",
    "    assert len(enfants_dossier) == 0\n",
    "    \n",
    "    nom_fichier_attendu = '^LEGITEXT\\d{12}\\.xml$'\n",
    "    for enfant_fichier in enfants_fichier:\n",
    "        assert re.match(nom_fichier_attendu, enfant_fichier)\n",
    "        \n",
    "        id_ = enfant_fichier[:20]\n",
    "        curseur.execute(\"insert into struct (categorie, cid, id_) values (%s, %s, %s)\", (categorie, cid, id_,))\n",
    "        connection.commit()"
   ]
  },
  {
   "cell_type": "code",
   "execution_count": 13,
   "metadata": {
    "collapsed": true
   },
   "outputs": [],
   "source": [
    "def traite_version(racine, categorie, cid):\n",
    "    dossier = os.path.join(racine, categorie, cid, 'version')\n",
    "    enfants_fichier, enfants_dossier = trouve_enfants(dossier)\n",
    "    \n",
    "    assert len(enfants_dossier) == 0\n",
    "    \n",
    "    nom_fichier_attendu = '^LEGITEXT\\d{12}\\.xml$'\n",
    "    for enfant_fichier in enfants_fichier:\n",
    "        assert re.match(nom_fichier_attendu, enfant_fichier)\n",
    "        \n",
    "        id_ = enfant_fichier[:20]\n",
    "        curseur.execute(\"insert into version (categorie, cid, id_) values (%s, %s, %s)\", (categorie, cid, id_,))\n",
    "        connection.commit()"
   ]
  },
  {
   "cell_type": "code",
   "execution_count": 14,
   "metadata": {
    "collapsed": true
   },
   "outputs": [],
   "source": [
    "def traite_cid(racine, categorie, cid):\n",
    "    dossier = os.path.join(racine, categorie, cid)\n",
    "    enfants_fichier, enfants_dossier = trouve_enfants(dossier)\n",
    "    \n",
    "    assert set(enfants_dossier) == set([\n",
    "        'struct',\n",
    "        'version',\n",
    "    ])\n",
    "    traite_struct(racine, categorie, cid)\n",
    "    traite_version(racine, categorie, cid)\n",
    "    \n",
    "    nom_fichier_article = '^LEGIARTI\\d{12}\\.xml$'\n",
    "    nom_fichier_section_ta = '^LEGISCTA\\d{12}\\.xml$'\n",
    "    for enfant_fichier in enfants_fichier:\n",
    "        id_ = enfant_fichier[:20]\n",
    "        if re.match(nom_fichier_article, enfant_fichier):\n",
    "            curseur.execute(\"insert into article (categorie, cid, id_) values (%s, %s, %s)\", (categorie, cid, id_,))\n",
    "            connection.commit()\n",
    "        elif re.match(nom_fichier_section_ta, enfant_fichier):\n",
    "            curseur.execute(\"insert into section_ta (categorie, cid, id_) values (%s, %s, %s)\", (categorie, cid, id_,))\n",
    "            connection.commit()\n",
    "        else:\n",
    "            raise ValueError(cid)\n"
   ]
  },
  {
   "cell_type": "code",
   "execution_count": 15,
   "metadata": {
    "collapsed": true
   },
   "outputs": [],
   "source": [
    "def traite_categorie(racine, categorie):\n",
    "    dossier = os.path.join(racine, categorie)\n",
    "    enfants_fichier, enfants_dossier = trouve_enfants(dossier)\n",
    "    \n",
    "    assert len(enfants_fichier) == 0\n",
    "    \n",
    "    nom_dossier_attendu = '^' + categorie[-4:] + 'TEXT\\d{12}$'\n",
    "    for enfant_dossier in enfants_dossier:\n",
    "        assert re.match(nom_dossier_attendu, enfant_dossier)\n",
    "        \n",
    "        traite_cid(racine, categorie, enfant_dossier)\n",
    "    "
   ]
  },
  {
   "cell_type": "code",
   "execution_count": 16,
   "metadata": {
    "collapsed": true
   },
   "outputs": [],
   "source": [
    "def traite_tout(racine):\n",
    "    enfants_fichier, enfants_dossier = trouve_enfants(racine)\n",
    "    \n",
    "    assert len(enfants_fichier) == 0\n",
    "    assert set(enfants_dossier) == set([\n",
    "            'code_en_vigueur_LEGI',\n",
    "            'code_non_vigueur_LEGI',\n",
    "            'TNC_en_vigueur_JORF',\n",
    "            'TNC_en_vigueur_LEGI',\n",
    "            'TNC_non_vigueur_JORF',\n",
    "            'TNC_non_vigueur_LEGI',\n",
    "        ])\n",
    "        \n",
    "    for enfant_dossier in enfants_dossier:\n",
    "        traite_categorie(racine, enfant_dossier)"
   ]
  },
  {
   "cell_type": "code",
   "execution_count": null,
   "metadata": {
    "collapsed": false
   },
   "outputs": [],
   "source": [
    "traite_tout(racine_source)"
   ]
  },
  {
   "cell_type": "code",
   "execution_count": null,
   "metadata": {
    "collapsed": true
   },
   "outputs": [],
   "source": [
    "\n",
    "\n",
    "while True:\n",
    "    curseur.execute(\"select * from article where (status is null or status != %s) and (mod(numero_ligne, %s) = %s) limit 1;\", (version_courante, nb_proc, id_proc))\n",
    "    resultat_requete = curseur.fetchone()\n",
    "    \n",
    "    if not resultat_requete:\n",
    "        break\n",
    "        \n",
    "    nom_fichier = resultat_requete[0]\n",
    "        \n",
    "    with open(repertoire_racine + 'article/' + nom_fichier) as f:\n",
    "        contenu = f.read()\n",
    "    \n",
    "    valeurs = parse_contenu(contenu)\n",
    "    \n",
    "    valeurs['status'] = version_courante\n",
    "    valeurs['nom_fichier'] = nom_fichier\n",
    "\n",
    "    curseur.execute(\"\"\"\n",
    "        update article set\n",
    "            ID = %(ID)s,\n",
    "            ID_ELI = %(ID_ELI)s,\n",
    "            ID_ELI_ALIAS = %(ID_ELI_ALIAS)s,\n",
    "            ANCIEN_ID = %(ANCIEN_ID)s,\n",
    "            MCS_ART = %(MCS_ART)s,\n",
    "            NUM = %(NUM)s,\n",
    "            TYPE = %(TYPE)s,\n",
    "            URL = %(URL)s,\n",
    "            TEXTE_cid = %(TEXTE_cid)s,\n",
    "            BLOC_TEXTUEL = %(BLOC_TEXTUEL)s,\n",
    "            DATE_DEBUT = %(DATE_DEBUT)s,\n",
    "            DATE_FIN = %(DATE_FIN)s,\n",
    "            status = %(status)s\n",
    "        where nom_fichier = %(nom_fichier)s;\n",
    "        \"\"\", valeurs)\n",
    "    connection.commit()\n",
    "\n"
   ]
  },
  {
   "cell_type": "code",
   "execution_count": null,
   "metadata": {
    "collapsed": true
   },
   "outputs": [],
   "source": []
  },
  {
   "cell_type": "code",
   "execution_count": null,
   "metadata": {
    "collapsed": true
   },
   "outputs": [],
   "source": []
  },
  {
   "cell_type": "code",
   "execution_count": null,
   "metadata": {
    "collapsed": true
   },
   "outputs": [],
   "source": []
  },
  {
   "cell_type": "code",
   "execution_count": null,
   "metadata": {
    "collapsed": true
   },
   "outputs": [],
   "source": []
  },
  {
   "cell_type": "code",
   "execution_count": null,
   "metadata": {
    "collapsed": true
   },
   "outputs": [],
   "source": []
  },
  {
   "cell_type": "code",
   "execution_count": null,
   "metadata": {
    "collapsed": true
   },
   "outputs": [],
   "source": [
    "\n",
    "curseur.close()\n",
    "connection.close()"
   ]
  }
 ],
 "metadata": {
  "kernelspec": {
   "display_name": "Python 3",
   "language": "python",
   "name": "python3"
  },
  "language_info": {
   "codemirror_mode": {
    "name": "ipython",
    "version": 3
   },
   "file_extension": ".py",
   "mimetype": "text/x-python",
   "name": "python",
   "nbconvert_exporter": "python",
   "pygments_lexer": "ipython3",
   "version": "3.5.2"
  }
 },
 "nbformat": 4,
 "nbformat_minor": 2
}
