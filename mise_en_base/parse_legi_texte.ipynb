{
 "cells": [
  {
   "cell_type": "code",
   "execution_count": null,
   "metadata": {
    "collapsed": true
   },
   "outputs": [],
   "source": [
    "import psycopg2\n",
    "import xml.etree.ElementTree as ElementTree\n",
    "import sys"
   ]
  },
  {
   "cell_type": "code",
   "execution_count": null,
   "metadata": {
    "collapsed": true
   },
   "outputs": [],
   "source": [
    "repertoire_racine = '/home/michel/legi/plat/'\n",
    "version_courante = '1'"
   ]
  },
  {
   "cell_type": "code",
   "execution_count": null,
   "metadata": {
    "collapsed": true
   },
   "outputs": [],
   "source": [
    "def parse_struct(contenu):\n",
    "    valeurs = {}\n",
    "    \n",
    "    TEXTELR = ElementTree.fromstring(contenu)\n",
    "    assert TEXTELR.tag == 'TEXTELR'\n",
    "\n",
    "    #\n",
    "    META = TEXTELR[0]\n",
    "    assert META.tag == 'META'\n",
    "\n",
    "    ##\n",
    "    META_COMMUN = META[0]\n",
    "    assert META_COMMUN.tag == 'META_COMMUN'\n",
    "\n",
    "    ###\n",
    "    ID = META_COMMUN[0]\n",
    "    assert ID.tag == 'ID'\n",
    "    valeurs['ID'] = ID.text\n",
    "\n",
    "    id_eli_present = 0\n",
    "    valeurs['ID_ELI'] = ''\n",
    "    if META_COMMUN[1].tag == 'ID_ELI':\n",
    "        id_eli_present = 1\n",
    "        ID_ELI = META_COMMUN[1]\n",
    "        valeurs['ID_ELI'] = ID_ELI.text\n",
    "        \n",
    "    eli_alias_present = 0\n",
    "    valeurs['ID_ELI_ALIAS'] = ''\n",
    "    if META_COMMUN[1 + id_eli_present].tag == 'ELI_ALIAS':\n",
    "        eli_alias_present = 1\n",
    "        ELI_ALIAS = META_COMMUN[1 + id_eli_present]\n",
    "        assert len(list(ELI_ALIAS)) == 1\n",
    "        ID_ELI_ALIAS = ELI_ALIAS[0]\n",
    "        assert ID_ELI_ALIAS.tag == 'ID_ELI_ALIAS'\n",
    "        valeurs['ID_ELI_ALIAS'] = ID_ELI_ALIAS.text\n",
    "        \n",
    "    ANCIEN_ID = META_COMMUN[1 + id_eli_present + eli_alias_present]\n",
    "    assert ANCIEN_ID.tag == 'ANCIEN_ID'\n",
    "    valeurs['ANCIEN_ID'] = ANCIEN_ID.text\n",
    "\n",
    "    ORIGINE = META_COMMUN[2 + id_eli_present + eli_alias_present]\n",
    "    assert ORIGINE.tag == 'ORIGINE'\n",
    "    assert ORIGINE.text == 'LEGI'\n",
    "\n",
    "    URL = META_COMMUN[3 + id_eli_present + eli_alias_present]\n",
    "    assert URL.tag == 'URL'\n",
    "    valeurs['URL'] = URL.text\n",
    "\n",
    "    NATURE = META_COMMUN[4 + id_eli_present + eli_alias_present]\n",
    "    assert NATURE.tag == 'NATURE'\n",
    "    valeurs['NATURE'] = NATURE.text\n",
    "\n",
    "\n",
    "    ##\n",
    "    META_SPEC = META[1]\n",
    "    assert META_SPEC.tag == 'META_SPEC'\n",
    "\n",
    "    ###\n",
    "    META_TEXTE_CHRONICLE = META_SPEC[0]\n",
    "    assert META_TEXTE_CHRONICLE.tag == 'META_TEXTE_CHRONICLE'\n",
    "\n",
    "    ####\n",
    "    CID = META_TEXTE_CHRONICLE[0]\n",
    "    assert CID.tag == 'CID'\n",
    "    valeurs['CID'] = CID.text\n",
    "\n",
    "    NUM = META_TEXTE_CHRONICLE[1]\n",
    "    assert NUM.tag == 'NUM'\n",
    "    valeurs['NUM'] = NUM.text\n",
    "\n",
    "    NUM_SEQUENCE = META_TEXTE_CHRONICLE[2]\n",
    "    assert NUM_SEQUENCE.tag == 'NUM_SEQUENCE'\n",
    "    valeurs['NUM_SEQUENCE'] = NUM_SEQUENCE.text\n",
    "\n",
    "    NOR = META_TEXTE_CHRONICLE[3]\n",
    "    assert NOR.tag == 'NOR'\n",
    "    valeurs['NOR'] = NOR.text\n",
    "\n",
    "    DATE_PUBLI = META_TEXTE_CHRONICLE[4]\n",
    "    assert DATE_PUBLI.tag == 'DATE_PUBLI'\n",
    "    valeurs['DATE_PUBLI'] = DATE_PUBLI.text\n",
    "\n",
    "    DATE_TEXTE = META_TEXTE_CHRONICLE[5]\n",
    "    assert DATE_TEXTE.tag == 'DATE_TEXTE'\n",
    "    valeurs['DATE_TEXTE'] = DATE_TEXTE.text\n",
    "\n",
    "    der_modif_present = 0\n",
    "    valeurs['DERNIERE_MODIFICATION'] = ''\n",
    "    if META_TEXTE_CHRONICLE[6].tag == 'DERNIERE_MODIFICATION':\n",
    "        der_modif_present = 1\n",
    "        DERNIERE_MODIFICATION = META_TEXTE_CHRONICLE[6]\n",
    "        valeurs['DERNIERE_MODIFICATION'] = DERNIERE_MODIFICATION.text\n",
    "    \n",
    "    versions_a_venir_present = 0\n",
    "    valeurs['VERSIONS_A_VENIR'] = []\n",
    "    if META_TEXTE_CHRONICLE[6 + der_modif_present].tag == 'VERSIONS_A_VENIR':\n",
    "        versions_a_venir_present = 1\n",
    "        VERSIONS_A_VENIR = META_TEXTE_CHRONICLE[6 + der_modif_present]\n",
    "        \n",
    "        #####\n",
    "        for VERSION_A_VENIR in VERSIONS_A_VENIR:\n",
    "            assert VERSION_A_VENIR.tag == 'VERSION_A_VENIR'\n",
    "            valeurs['VERSIONS_A_VENIR'].append(VERSION_A_VENIR.text)\n",
    "    \n",
    "    ORIGINE_PUBLI = META_TEXTE_CHRONICLE[6 + der_modif_present + versions_a_venir_present]\n",
    "    assert ORIGINE_PUBLI.tag == 'ORIGINE_PUBLI'\n",
    "    valeurs['ORIGINE_PUBLI'] = ORIGINE_PUBLI.text\n",
    "    \n",
    "    PAGE_DEB_PUBLI = META_TEXTE_CHRONICLE[7 + der_modif_present + versions_a_venir_present]\n",
    "    assert PAGE_DEB_PUBLI.tag == 'PAGE_DEB_PUBLI'\n",
    "    valeurs['PAGE_DEB_PUBLI'] = PAGE_DEB_PUBLI.text\n",
    "    \n",
    "    PAGE_FIN_PUBLI = META_TEXTE_CHRONICLE[8 + der_modif_present + versions_a_venir_present]\n",
    "    assert PAGE_FIN_PUBLI.tag == 'PAGE_FIN_PUBLI'\n",
    "    valeurs['PAGE_FIN_PUBLI'] = PAGE_FIN_PUBLI.text\n",
    "\n",
    "    #\n",
    "    VERSIONS = TEXTELR[1]\n",
    "    assert VERSIONS.tag == 'VERSIONS'\n",
    "    \n",
    "    ##\n",
    "    valeurs['VERSIONS'] = []\n",
    "    for VERSION in VERSIONS:\n",
    "        assert VERSION.tag == 'VERSION'\n",
    "        \n",
    "        VERSION_data = {}\n",
    "        \n",
    "        VERSION_data['etat'] = VERSION.attrib['cid']\n",
    "        \n",
    "        ###\n",
    "        LIEN_TXT = VERSION[0]\n",
    "        assert LIEN_TXT.tag == 'LIEN_TXT'\n",
    "        \n",
    "        VERSION_data['debut'] = LIEN_TXT.attrib['debut']\n",
    "        VERSION_data['fin'] = LIEN_TXT.attrib['fin']\n",
    "        VERSION_data['id_'] = LIEN_TXT.attrib['id']\n",
    "        VERSION_data['num'] = LIEN_TXT.attrib['num']\n",
    "        \n",
    "        valeurs['VERSIONS'].append(VERSION_data)\n",
    "        \n",
    "    #\n",
    "    STRUCT = TEXTELR[2]\n",
    "    assert STRUCT.tag == 'STRUCT'\n",
    "    \n",
    "    ##\n",
    "    valeurs['LIENS_ART'] = []\n",
    "    valeurs['LIENS_SECTION_TA'] = []\n",
    "    for LIEN in STRUCT:\n",
    "        if LIEN.tag == 'LIEN_ART':\n",
    "            LIEN_ART_data = {}\n",
    "\n",
    "            LIEN_ART_data['debut'] = LIEN.attrib['debut']\n",
    "            LIEN_ART_data['etat'] = LIEN.attrib['etat']\n",
    "            LIEN_ART_data['fin'] = LIEN.attrib['fin']\n",
    "            LIEN_ART_data['id_'] = LIEN.attrib['id']\n",
    "            LIEN_ART_data['num'] = LIEN.attrib['num']\n",
    "            LIEN_ART_data['origine'] = LIEN.attrib['origine']\n",
    "\n",
    "            valeurs['LIENS_ART'].append(LIEN_ART_data)\n",
    "            \n",
    "        elif LIEN.tag == 'LIEN_SECTION_TA':\n",
    "            LIEN_SECTION_TA_data = {}\n",
    "\n",
    "            LIEN_SECTION_TA_data['cid'] = LIEN.attrib['cid']\n",
    "            LIEN_SECTION_TA_data['debut'] = LIEN.attrib['debut']\n",
    "            LIEN_SECTION_TA_data['etat'] = LIEN.attrib['etat']\n",
    "            LIEN_SECTION_TA_data['fin'] = LIEN.attrib['fin']\n",
    "            LIEN_SECTION_TA_data['id_'] = LIEN.attrib['id']\n",
    "            LIEN_SECTION_TA_data['niv'] = LIEN.attrib['niv']\n",
    "            LIEN_SECTION_TA_data['url'] = LIEN.attrib['url']\n",
    "\n",
    "            valeurs['LIENS_SECTION_TA'].append(LIEN_SECTION_TA_data)\n",
    "            \n",
    "        else:\n",
    "            raise ValueError(LIEN.TAG)\n",
    "\n",
    "    return valeurs"
   ]
  },
  {
   "cell_type": "code",
   "execution_count": 3,
   "metadata": {
    "collapsed": false
   },
   "outputs": [],
   "source": [
    "\n",
    "connection = psycopg2.connect(dbname='loi', user='loi', password='baba')\n",
    "curseur = connection.cursor()\n",
    "\n",
    "while True:\n",
    "    curseur.execute(\"select * from article where (status is null or status != %s) and (mod(numero_ligne, %s) = %s) limit 1;\", (version_courante, nb_proc, id_proc))\n",
    "    resultat_requete = curseur.fetchone()\n",
    "    \n",
    "    if not resultat_requete:\n",
    "        break\n",
    "        \n",
    "    nom_fichier = resultat_requete[0]\n",
    "        \n",
    "    with open(repertoire_racine + 'article/' + nom_fichier) as f:\n",
    "        contenu = f.read()\n",
    "    \n",
    "    valeurs = parse_contenu(contenu)\n",
    "    \n",
    "    valeurs['status'] = version_courante\n",
    "    valeurs['nom_fichier'] = nom_fichier\n",
    "\n",
    "    curseur.execute(\"\"\"\n",
    "        update article set\n",
    "            ID = %(ID)s,\n",
    "            ID_ELI = %(ID_ELI)s,\n",
    "            ID_ELI_ALIAS = %(ID_ELI_ALIAS)s,\n",
    "            ANCIEN_ID = %(ANCIEN_ID)s,\n",
    "            MCS_ART = %(MCS_ART)s,\n",
    "            NUM = %(NUM)s,\n",
    "            TYPE = %(TYPE)s,\n",
    "            URL = %(URL)s,\n",
    "            TEXTE_cid = %(TEXTE_cid)s,\n",
    "            BLOC_TEXTUEL = %(BLOC_TEXTUEL)s,\n",
    "            DATE_DEBUT = %(DATE_DEBUT)s,\n",
    "            DATE_FIN = %(DATE_FIN)s,\n",
    "            status = %(status)s\n",
    "        where nom_fichier = %(nom_fichier)s;\n",
    "        \"\"\", valeurs)\n",
    "    connection.commit()\n",
    "\n",
    "\n",
    "curseur.close()\n",
    "connection.close()"
   ]
  },
  {
   "cell_type": "code",
   "execution_count": null,
   "metadata": {
    "collapsed": true
   },
   "outputs": [],
   "source": []
  },
  {
   "cell_type": "code",
   "execution_count": null,
   "metadata": {
    "collapsed": true
   },
   "outputs": [],
   "source": []
  },
  {
   "cell_type": "code",
   "execution_count": null,
   "metadata": {
    "collapsed": false
   },
   "outputs": [],
   "source": [
    "nom_fichier"
   ]
  },
  {
   "cell_type": "code",
   "execution_count": null,
   "metadata": {
    "collapsed": false,
    "scrolled": false
   },
   "outputs": [],
   "source": [
    "import xml.dom.minidom\n",
    "xml_parsed = xml.dom.minidom.parseString(contenu)\n",
    "print(xml_parsed.toprettyxml())"
   ]
  },
  {
   "cell_type": "code",
   "execution_count": 8,
   "metadata": {
    "collapsed": true
   },
   "outputs": [],
   "source": [
    "connection.rollback()"
   ]
  },
  {
   "cell_type": "code",
   "execution_count": null,
   "metadata": {
    "collapsed": true
   },
   "outputs": [],
   "source": []
  },
  {
   "cell_type": "code",
   "execution_count": null,
   "metadata": {
    "collapsed": false
   },
   "outputs": [],
   "source": [
    "nom_fichier = 'JORFARTI000000961438.xml'\n",
    "\n",
    "with open(repertoire_racine + 'article/' + nom_fichier) as f:\n",
    "    contenu = f.read()\n",
    "    \n",
    "ARTICLE = ElementTree.fromstring(contenu)\n",
    "assert ARTICLE.tag == 'ARTICLE'\n",
    "#\n",
    "BLOC_TEXTUEL = ARTICLE[4]\n",
    "assert BLOC_TEXTUEL.tag == 'BLOC_TEXTUEL'\n",
    "\n",
    "##\n",
    "CONTENU = BLOC_TEXTUEL[0]\n"
   ]
  },
  {
   "cell_type": "code",
   "execution_count": null,
   "metadata": {
    "collapsed": false
   },
   "outputs": [],
   "source": [
    "print()"
   ]
  },
  {
   "cell_type": "code",
   "execution_count": null,
   "metadata": {
    "collapsed": false
   },
   "outputs": [],
   "source": [
    "CONTENU.items()"
   ]
  },
  {
   "cell_type": "code",
   "execution_count": null,
   "metadata": {
    "collapsed": false
   },
   "outputs": [],
   "source": [
    "list(CONTENU)"
   ]
  },
  {
   "cell_type": "code",
   "execution_count": null,
   "metadata": {
    "collapsed": true
   },
   "outputs": [],
   "source": []
  },
  {
   "cell_type": "code",
   "execution_count": null,
   "metadata": {
    "collapsed": true
   },
   "outputs": [],
   "source": [
    "curseur.close()\n",
    "connection.close()"
   ]
  },
  {
   "cell_type": "code",
   "execution_count": null,
   "metadata": {
    "collapsed": true
   },
   "outputs": [],
   "source": []
  }
 ],
 "metadata": {
  "kernelspec": {
   "display_name": "Python 3",
   "language": "python",
   "name": "python3"
  },
  "language_info": {
   "codemirror_mode": {
    "name": "ipython",
    "version": 3
   },
   "file_extension": ".py",
   "mimetype": "text/x-python",
   "name": "python",
   "nbconvert_exporter": "python",
   "pygments_lexer": "ipython3",
   "version": "3.5.2"
  }
 },
 "nbformat": 4,
 "nbformat_minor": 2
}
