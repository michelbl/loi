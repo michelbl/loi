{
 "cells": [
  {
   "cell_type": "code",
   "execution_count": 3,
   "metadata": {
    "collapsed": false
   },
   "outputs": [],
   "source": [
    "import psycopg2\n",
    "import xml.etree.ElementTree as ElementTree\n",
    "import sys\n",
    "\n",
    "repertoire_racine = '/home/michel/legi/plat/'\n",
    "version_courante = '1'\n",
    "#assert len(sys.argv) == 3\n",
    "nb_proc = 2#int(sys.argv[1])\n",
    "id_proc = 1#int(sys.argv[2])\n",
    "\n",
    "def parse_contenu(contenu):\n",
    "    valeurs = {}\n",
    "    \n",
    "    ARTICLE = ElementTree.fromstring(contenu)\n",
    "    assert ARTICLE.tag == 'ARTICLE'\n",
    "\n",
    "    #\n",
    "    META = ARTICLE[0]\n",
    "    assert META.tag == 'META'\n",
    "\n",
    "    ##\n",
    "    META_COMMUN = META[0]\n",
    "    assert META_COMMUN.tag == 'META_COMMUN'\n",
    "\n",
    "    ###\n",
    "    ID = META_COMMUN[0]\n",
    "    assert ID.tag == 'ID'\n",
    "    valeurs['ID'] = ID.text\n",
    "\n",
    "    id_eli_present = 0\n",
    "    valeurs['ID_ELI'] = ''\n",
    "    if META_COMMUN[1].tag == 'ID_ELI':\n",
    "        id_eli_present = 1\n",
    "        ID_ELI = META_COMMUN[1]\n",
    "        valeurs['ID_ELI'] = ID_ELI.text\n",
    "        \n",
    "    eli_alias_present = 0\n",
    "    valeurs['ID_ELI_ALIAS'] = ''\n",
    "    if META_COMMUN[1 + id_eli_present].tag == 'ELI_ALIAS':\n",
    "        eli_alias_present = 1\n",
    "        ELI_ALIAS = META_COMMUN[1 + id_eli_present]\n",
    "        assert len(list(ELI_ALIAS)) == 1\n",
    "        ID_ELI_ALIAS = ELI_ALIAS[0]\n",
    "        assert ID_ELI_ALIAS.tag == 'ID_ELI_ALIAS'\n",
    "        valeurs['ID_ELI_ALIAS'] = ID_ELI_ALIAS.text\n",
    "        \n",
    "    ANCIEN_ID = META_COMMUN[1 + id_eli_present + eli_alias_present]\n",
    "    assert ANCIEN_ID.tag == 'ANCIEN_ID'\n",
    "    valeurs['ANCIEN_ID'] = ANCIEN_ID.text\n",
    "\n",
    "    ORIGINE = META_COMMUN[2 + id_eli_present + eli_alias_present]\n",
    "    assert ORIGINE.tag == 'ORIGINE'\n",
    "    assert ORIGINE.text == 'LEGI'\n",
    "\n",
    "    URL = META_COMMUN[3 + id_eli_present + eli_alias_present]\n",
    "    assert URL.tag == 'URL'\n",
    "    valeurs['URL'] = URL.text\n",
    "\n",
    "    NATURE = META_COMMUN[4 + id_eli_present + eli_alias_present]\n",
    "    assert NATURE.tag == 'NATURE'\n",
    "    assert NATURE.text == 'Article'\n",
    "\n",
    "    ##\n",
    "    META_SPEC = META[1]\n",
    "    assert META_SPEC.tag == 'META_SPEC'\n",
    "\n",
    "    ###\n",
    "    META_ARTICLE = META_SPEC[0]\n",
    "    assert META_ARTICLE.tag == 'META_ARTICLE'\n",
    "\n",
    "    ####\n",
    "    NUM = META_ARTICLE[0]\n",
    "    assert NUM.tag == 'NUM'\n",
    "    valeurs['NUM'] = NUM.text\n",
    "\n",
    "    ETAT = META_ARTICLE[1]\n",
    "    assert ETAT.tag == 'ETAT'\n",
    "    valeurs['ETAT'] = ETAT.text\n",
    "\n",
    "    DATE_DEBUT = META_ARTICLE[2]\n",
    "    assert DATE_DEBUT.tag == 'DATE_DEBUT'\n",
    "    valeurs['DATE_DEBUT'] = DATE_DEBUT.text\n",
    "\n",
    "    DATE_FIN = META_ARTICLE[3]\n",
    "    assert DATE_FIN.tag == 'DATE_FIN'\n",
    "    valeurs['DATE_FIN'] = DATE_FIN.text\n",
    "\n",
    "    TYPE = META_ARTICLE[4]\n",
    "    assert TYPE.tag == 'TYPE'\n",
    "    valeurs['TYPE'] = TYPE.text\n",
    "\n",
    "    #\n",
    "    CONTEXTE = ARTICLE[1]\n",
    "    assert CONTEXTE.tag == 'CONTEXTE'\n",
    "\n",
    "    ##\n",
    "    TEXTE = CONTEXTE[0]\n",
    "    assert TEXTE.tag == 'TEXTE'\n",
    "    valeurs['TEXTE_cid'] = TEXTE.attrib['cid'] # des infos sont ignorées\n",
    "\n",
    "    #\n",
    "    VERSIONS = ARTICLE[2]\n",
    "    assert VERSIONS.tag == 'VERSIONS'\n",
    "\n",
    "    ## ignore les versions\n",
    "    #assert len(list(VERSIONS)) == 1\n",
    "    #VERSION = VERSIONS[0]\n",
    "    #assert VERSION.tag == 'VERSION'\n",
    "    #assert VERSION.attrib['etat'] == ''\n",
    "\n",
    "    ###\n",
    "    #LIEN_ART = VERSION[0]\n",
    "    #assert LIEN_ART.tag == 'LIEN_ART'\n",
    "    #assert LIEN_ART.attrib['debut'] == '2999-01-01'\n",
    "    #assert LIEN_ART.attrib['fin'] == '2999-01-01'\n",
    "    #assert LIEN_ART.attrib['etat'] == ''\n",
    "    #assert LIEN_ART.attrib['id'] == valeurs['ID']\n",
    "    #valeurs['VERSION_NUM'] = LIEN_ART.attrib['num']\n",
    "    #assert LIEN_ART.attrib['origine'] == 'JORF'\n",
    "\n",
    "    #\n",
    "    NOTA = ARTICLE[3]\n",
    "    assert NOTA.tag == 'NOTA'\n",
    "\n",
    "    ##\n",
    "    assert len(list(NOTA)) == 1\n",
    "    CONTENU = NOTA[0]\n",
    "    assert CONTENU.tag == 'CONTENU'\n",
    "\n",
    "    ###\n",
    "    assert len(list(CONTENU)) == 0\n",
    "    assert CONTENU.text is None\n",
    "\n",
    "    #\n",
    "    BLOC_TEXTUEL = ARTICLE[4]\n",
    "    assert BLOC_TEXTUEL.tag == 'BLOC_TEXTUEL'\n",
    "\n",
    "    ##\n",
    "    CONTENU = BLOC_TEXTUEL[0]\n",
    "    valeurs['BLOC_TEXTUEL'] = ElementTree.tostring(CONTENU, encoding='unicode', method='xml')\n",
    "\n",
    "    #\n",
    "    LIENS = ARTICLE[5]\n",
    "    assert LIENS.tag == 'LIENS'\n",
    "        \n",
    "    ##\n",
    "    valeurs['LIENS'] = []\n",
    "    for LIEN in LIENS:\n",
    "        assert LIEN.tag == 'LIEN'\n",
    "        valeurs['LIENS'].append({\n",
    "            'cidtexte': LIEN_ART.attrib['cidtexte'],\n",
    "            'datesignature': LIEN_ART.attrib['datesignature'],\n",
    "            'id_': LIEN_ART.attrib['id'],\n",
    "            'naturetexte': LIEN_ART.attrib['naturetexte'],\n",
    "            'nortexte': LIEN_ART.attrib['nortexte'],\n",
    "            'num': LIEN_ART.attrib['num'],\n",
    "            'numtexte': LIEN_ART.attrib['numtexte'],\n",
    "            'sens': LIEN_ART.attrib['sens'],\n",
    "            'typelien': LIEN_ART.attrib['typelien'],\n",
    "            'numtexte': LIEN_ART.attrib['numtexte'],\n",
    "        })\n",
    "        # ignore le titre du lien\n",
    "    \n",
    "    return valeurs\n",
    "\n",
    "\n",
    "connection = psycopg2.connect(dbname='loi', user='loi', password='baba')\n",
    "curseur = connection.cursor()\n",
    "\n",
    "while True:\n",
    "    curseur.execute(\"select * from article where (status is null or status != %s) and (mod(numero_ligne, %s) = %s) limit 1;\", (version_courante, nb_proc, id_proc))\n",
    "    resultat_requete = curseur.fetchone()\n",
    "    \n",
    "    if not resultat_requete:\n",
    "        break\n",
    "        \n",
    "    nom_fichier = resultat_requete[0]\n",
    "        \n",
    "    with open(repertoire_racine + 'article/' + nom_fichier) as f:\n",
    "        contenu = f.read()\n",
    "    \n",
    "    valeurs = parse_contenu(contenu)\n",
    "    \n",
    "    valeurs['status'] = version_courante\n",
    "    valeurs['nom_fichier'] = nom_fichier\n",
    "\n",
    "    curseur.execute(\"\"\"\n",
    "        update article set\n",
    "            ID = %(ID)s,\n",
    "            ID_ELI = %(ID_ELI)s,\n",
    "            ID_ELI_ALIAS = %(ID_ELI_ALIAS)s,\n",
    "            ANCIEN_ID = %(ANCIEN_ID)s,\n",
    "            MCS_ART = %(MCS_ART)s,\n",
    "            NUM = %(NUM)s,\n",
    "            TYPE = %(TYPE)s,\n",
    "            URL = %(URL)s,\n",
    "            TEXTE_cid = %(TEXTE_cid)s,\n",
    "            BLOC_TEXTUEL = %(BLOC_TEXTUEL)s,\n",
    "            DATE_DEBUT = %(DATE_DEBUT)s,\n",
    "            DATE_FIN = %(DATE_FIN)s,\n",
    "            status = %(status)s\n",
    "        where nom_fichier = %(nom_fichier)s;\n",
    "        \"\"\", valeurs)\n",
    "    connection.commit()\n",
    "\n",
    "\n",
    "curseur.close()\n",
    "connection.close()"
   ]
  },
  {
   "cell_type": "code",
   "execution_count": null,
   "metadata": {
    "collapsed": true
   },
   "outputs": [],
   "source": []
  },
  {
   "cell_type": "code",
   "execution_count": null,
   "metadata": {
    "collapsed": true
   },
   "outputs": [],
   "source": []
  },
  {
   "cell_type": "code",
   "execution_count": null,
   "metadata": {
    "collapsed": false
   },
   "outputs": [],
   "source": [
    "nom_fichier"
   ]
  },
  {
   "cell_type": "code",
   "execution_count": null,
   "metadata": {
    "collapsed": false,
    "scrolled": false
   },
   "outputs": [],
   "source": [
    "import xml.dom.minidom\n",
    "xml_parsed = xml.dom.minidom.parseString(contenu)\n",
    "print(xml_parsed.toprettyxml())"
   ]
  },
  {
   "cell_type": "code",
   "execution_count": 8,
   "metadata": {
    "collapsed": true
   },
   "outputs": [],
   "source": [
    "connection.rollback()"
   ]
  },
  {
   "cell_type": "code",
   "execution_count": null,
   "metadata": {
    "collapsed": true
   },
   "outputs": [],
   "source": []
  },
  {
   "cell_type": "code",
   "execution_count": null,
   "metadata": {
    "collapsed": false
   },
   "outputs": [],
   "source": [
    "nom_fichier = 'JORFARTI000000961438.xml'\n",
    "\n",
    "with open(repertoire_racine + 'article/' + nom_fichier) as f:\n",
    "    contenu = f.read()\n",
    "    \n",
    "ARTICLE = ElementTree.fromstring(contenu)\n",
    "assert ARTICLE.tag == 'ARTICLE'\n",
    "#\n",
    "BLOC_TEXTUEL = ARTICLE[4]\n",
    "assert BLOC_TEXTUEL.tag == 'BLOC_TEXTUEL'\n",
    "\n",
    "##\n",
    "CONTENU = BLOC_TEXTUEL[0]\n"
   ]
  },
  {
   "cell_type": "code",
   "execution_count": null,
   "metadata": {
    "collapsed": false
   },
   "outputs": [],
   "source": [
    "print()"
   ]
  },
  {
   "cell_type": "code",
   "execution_count": null,
   "metadata": {
    "collapsed": false
   },
   "outputs": [],
   "source": [
    "CONTENU.items()"
   ]
  },
  {
   "cell_type": "code",
   "execution_count": null,
   "metadata": {
    "collapsed": false
   },
   "outputs": [],
   "source": [
    "list(CONTENU)"
   ]
  },
  {
   "cell_type": "code",
   "execution_count": null,
   "metadata": {
    "collapsed": true
   },
   "outputs": [],
   "source": []
  },
  {
   "cell_type": "code",
   "execution_count": null,
   "metadata": {
    "collapsed": true
   },
   "outputs": [],
   "source": [
    "curseur.close()\n",
    "connection.close()"
   ]
  },
  {
   "cell_type": "code",
   "execution_count": null,
   "metadata": {
    "collapsed": true
   },
   "outputs": [],
   "source": []
  }
 ],
 "metadata": {
  "kernelspec": {
   "display_name": "Python 3",
   "language": "python",
   "name": "python3"
  },
  "language_info": {
   "codemirror_mode": {
    "name": "ipython",
    "version": 3
   },
   "file_extension": ".py",
   "mimetype": "text/x-python",
   "name": "python",
   "nbconvert_exporter": "python",
   "pygments_lexer": "ipython3",
   "version": "3.5.2"
  }
 },
 "nbformat": 4,
 "nbformat_minor": 2
}
