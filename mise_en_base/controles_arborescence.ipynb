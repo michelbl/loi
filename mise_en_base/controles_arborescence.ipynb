{
 "cells": [
  {
   "cell_type": "code",
   "execution_count": 1,
   "metadata": {
    "collapsed": true
   },
   "outputs": [],
   "source": [
    "import os\n",
    "from collections import Counter\n",
    "\n",
    "import psycopg2"
   ]
  },
  {
   "cell_type": "code",
   "execution_count": 2,
   "metadata": {
    "collapsed": true
   },
   "outputs": [],
   "source": [
    "racine_legi = '/home/michel/legi_plat/'\n",
    "racine_jorf = '/home/michel/jorf_plat/'\n"
   ]
  },
  {
   "cell_type": "code",
   "execution_count": 3,
   "metadata": {
    "collapsed": true
   },
   "outputs": [],
   "source": [
    "categories = [\n",
    "    'TNC_en_vigueur_JORF',\n",
    "    'TNC_en_vigueur_LEGI',\n",
    "    'code_en_vigueur_LEGI',\n",
    "    'TNC_non_vigueur_JORF',\n",
    "    'TNC_non_vigueur_LEGI',\n",
    "    'code_non_vigueur_LEGI',\n",
    "]"
   ]
  },
  {
   "cell_type": "code",
   "execution_count": 4,
   "metadata": {
    "collapsed": true
   },
   "outputs": [],
   "source": [
    "def trouve_enfants(dossier):\n",
    "    enfants = os.listdir(dossier)\n",
    "    est_fichier_liste = [os.path.isfile(os.path.join(dossier, f)) for f in enfants]\n",
    "    enfants_fichier = [enfants[i] for i in range(len(enfants)) if est_fichier_liste[i]]\n",
    "    enfants_dossier = [enfants[i] for i in range(len(enfants)) if not est_fichier_liste[i]]\n",
    "    \n",
    "    return enfants_fichier, enfants_dossier"
   ]
  },
  {
   "cell_type": "markdown",
   "metadata": {},
   "source": [
    "## Unicité de la catégorie pour un cid"
   ]
  },
  {
   "cell_type": "code",
   "execution_count": null,
   "metadata": {
    "collapsed": true
   },
   "outputs": [],
   "source": []
  },
  {
   "cell_type": "code",
   "execution_count": null,
   "metadata": {
    "collapsed": true
   },
   "outputs": [],
   "source": []
  },
  {
   "cell_type": "code",
   "execution_count": null,
   "metadata": {
    "collapsed": true
   },
   "outputs": [],
   "source": []
  },
  {
   "cell_type": "code",
   "execution_count": null,
   "metadata": {
    "collapsed": true
   },
   "outputs": [],
   "source": []
  },
  {
   "cell_type": "code",
   "execution_count": null,
   "metadata": {
    "collapsed": true
   },
   "outputs": [],
   "source": []
  },
  {
   "cell_type": "markdown",
   "metadata": {},
   "source": [
    "## cid présents dans plusieurs catégories"
   ]
  },
  {
   "cell_type": "code",
   "execution_count": 5,
   "metadata": {
    "collapsed": false
   },
   "outputs": [],
   "source": [
    "liste_cid_par_categorie = {}\n",
    "set_cid_par_categorie = {}\n",
    "for categorie in categories:\n",
    "    liste_cid_par_categorie[categorie] = list(os.listdir(os.path.join(racine_legi, categorie)))\n",
    "    set_cid_par_categorie[categorie] = set(liste_cid_par_categorie[categorie])"
   ]
  },
  {
   "cell_type": "code",
   "execution_count": 6,
   "metadata": {
    "collapsed": false
   },
   "outputs": [],
   "source": [
    "nb_cid_par_categorie = {cat:len(l) for cat, l in liste_cid_par_categorie.items()}"
   ]
  },
  {
   "cell_type": "code",
   "execution_count": 7,
   "metadata": {
    "collapsed": false
   },
   "outputs": [
    {
     "data": {
      "text/plain": [
       "({'TNC_en_vigueur_JORF': 76944,\n",
       "  'TNC_en_vigueur_LEGI': 1671,\n",
       "  'TNC_non_vigueur_JORF': 17434,\n",
       "  'TNC_non_vigueur_LEGI': 1771,\n",
       "  'code_en_vigueur_LEGI': 75,\n",
       "  'code_non_vigueur_LEGI': 31},\n",
       " 97926)"
      ]
     },
     "execution_count": 7,
     "metadata": {},
     "output_type": "execute_result"
    }
   ],
   "source": [
    "nb_cid_par_categorie, sum(nb_cid_par_categorie.values())"
   ]
  },
  {
   "cell_type": "code",
   "execution_count": 8,
   "metadata": {
    "collapsed": true
   },
   "outputs": [],
   "source": [
    "liste_cid = [cid for categorie in categories for cid in liste_cid_par_categorie[categorie]]"
   ]
  },
  {
   "cell_type": "code",
   "execution_count": 9,
   "metadata": {
    "collapsed": false
   },
   "outputs": [
    {
     "data": {
      "text/plain": [
       "97926"
      ]
     },
     "execution_count": 9,
     "metadata": {},
     "output_type": "execute_result"
    }
   ],
   "source": [
    "len(liste_cid)"
   ]
  },
  {
   "cell_type": "code",
   "execution_count": 10,
   "metadata": {
    "collapsed": true
   },
   "outputs": [],
   "source": [
    "set_cid = set(liste_cid)"
   ]
  },
  {
   "cell_type": "code",
   "execution_count": 11,
   "metadata": {
    "collapsed": false
   },
   "outputs": [
    {
     "data": {
      "text/plain": [
       "97040"
      ]
     },
     "execution_count": 11,
     "metadata": {},
     "output_type": "execute_result"
    }
   ],
   "source": [
    "len(set_cid)"
   ]
  },
  {
   "cell_type": "code",
   "execution_count": 12,
   "metadata": {
    "collapsed": false
   },
   "outputs": [
    {
     "name": "stdout",
     "output_type": "stream",
     "text": [
      "0.90% des cid apparaissent dans plusieurs catégories\n"
     ]
    }
   ],
   "source": [
    "print('{:.2f}% des cid apparaissent dans plusieurs catégories'.format((len(liste_cid) - len(set_cid))/len(liste_cid) * 100))"
   ]
  },
  {
   "cell_type": "code",
   "execution_count": 13,
   "metadata": {
    "collapsed": false
   },
   "outputs": [],
   "source": [
    "categorie_par_cid = {}\n",
    "liste_cid_unique = list(set_cid)\n",
    "for cid in liste_cid_unique:\n",
    "    categorie_par_cid[cid] = [categorie for categorie in categories if cid in set_cid_par_categorie[categorie]]"
   ]
  },
  {
   "cell_type": "code",
   "execution_count": 14,
   "metadata": {
    "collapsed": false
   },
   "outputs": [],
   "source": [
    "nb_categorie_par_cid = {cid: len(categorie_par_cid[cid]) for cid in liste_cid_unique}"
   ]
  },
  {
   "cell_type": "code",
   "execution_count": 15,
   "metadata": {
    "collapsed": false
   },
   "outputs": [
    {
     "data": {
      "text/plain": [
       "Counter({1: 96154, 2: 886})"
      ]
     },
     "execution_count": 15,
     "metadata": {},
     "output_type": "execute_result"
    }
   ],
   "source": [
    "Counter(nb_categorie_par_cid.values())"
   ]
  },
  {
   "cell_type": "code",
   "execution_count": 16,
   "metadata": {
    "collapsed": true
   },
   "outputs": [],
   "source": [
    "liste_cid_couple = [cid for cid in liste_cid_unique if len(categorie_par_cid[cid])>1]"
   ]
  },
  {
   "cell_type": "code",
   "execution_count": 17,
   "metadata": {
    "collapsed": false,
    "scrolled": true
   },
   "outputs": [
    {
     "name": "stdout",
     "output_type": "stream",
     "text": [
      "JORFTEXT000026973498\n",
      "JORFTEXT000000751687\n",
      "JORFTEXT000031872859\n",
      "JORFTEXT000000271326\n",
      "JORFTEXT000000625197\n",
      "JORFTEXT000000591462\n",
      "JORFTEXT000000803817\n",
      "JORFTEXT000022337443\n",
      "JORFTEXT000031593932\n",
      "JORFTEXT000000225214\n",
      "JORFTEXT000021530237\n",
      "JORFTEXT000031319729\n",
      "JORFTEXT000031319601\n",
      "JORFTEXT000029350151\n",
      "JORFTEXT000031664951\n",
      "JORFTEXT000030920982\n",
      "JORFTEXT000020021322\n",
      "JORFTEXT000022972389\n",
      "JORFTEXT000031601403\n",
      "JORFTEXT000031400959\n",
      "JORFTEXT000000591533\n",
      "JORFTEXT000017981327\n",
      "JORFTEXT000000555331\n",
      "JORFTEXT000028745738\n",
      "JORFTEXT000000603479\n",
      "JORFTEXT000029796784\n",
      "JORFTEXT000000497700\n",
      "JORFTEXT000000550717\n",
      "JORFTEXT000000584510\n",
      "JORFTEXT000030707288\n",
      "JORFTEXT000022363454\n",
      "JORFTEXT000030001622\n",
      "JORFTEXT000031602136\n",
      "JORFTEXT000028353894\n",
      "JORFTEXT000031680501\n",
      "JORFTEXT000028745578\n",
      "JORFTEXT000030785114\n",
      "JORFTEXT000031585331\n",
      "JORFTEXT000023375359\n",
      "JORFTEXT000000603867\n",
      "JORFTEXT000031585721\n",
      "JORFTEXT000030967544\n",
      "JORFTEXT000031644177\n",
      "JORFTEXT000026365428\n",
      "JORFTEXT000000652291\n",
      "JORFTEXT000031665094\n",
      "JORFTEXT000023474689\n",
      "JORFTEXT000000360665\n",
      "JORFTEXT000000593665\n",
      "JORFTEXT000031279076\n",
      "JORFTEXT000000234514\n",
      "JORFTEXT000000748647\n",
      "JORFTEXT000000438516\n",
      "JORFTEXT000029095362\n",
      "JORFTEXT000031602124\n",
      "JORFTEXT000031528171\n",
      "JORFTEXT000031485401\n",
      "JORFTEXT000000811078\n",
      "JORFTEXT000025241860\n",
      "JORFTEXT000000367955\n",
      "JORFTEXT000000359453\n",
      "JORFTEXT000031537367\n",
      "JORFTEXT000031360113\n",
      "JORFTEXT000000887412\n",
      "JORFTEXT000000494548\n",
      "JORFTEXT000000724808\n",
      "JORFTEXT000031593750\n",
      "JORFTEXT000030378342\n",
      "JORFTEXT000021145354\n",
      "JORFTEXT000031027101\n",
      "JORFTEXT000031602088\n",
      "JORFTEXT000023662329\n",
      "JORFTEXT000031027065\n",
      "JORFTEXT000031638725\n",
      "JORFTEXT000028884288\n",
      "JORFTEXT000029590341\n",
      "JORFTEXT000031249464\n",
      "JORFTEXT000000725886\n",
      "JORFTEXT000025706152\n",
      "JORFTEXT000026844610\n",
      "JORFTEXT000031692334\n",
      "JORFTEXT000030003090\n",
      "JORFTEXT000029913593\n",
      "JORFTEXT000000763437\n",
      "JORFTEXT000000249638\n",
      "JORFTEXT000024192499\n",
      "JORFTEXT000031680628\n",
      "JORFTEXT000031703800\n",
      "JORFTEXT000031273494\n",
      "JORFTEXT000000328953\n",
      "JORFTEXT000029992942\n",
      "JORFTEXT000032146156\n",
      "JORFTEXT000000810143\n",
      "JORFTEXT000026274335\n",
      "JORFTEXT000029470683\n",
      "JORFTEXT000018650129\n",
      "JORFTEXT000030997079\n",
      "JORFTEXT000000763458\n",
      "JORFTEXT000000677154\n",
      "JORFTEXT000000579807\n",
      "JORFTEXT000000718936\n",
      "JORFTEXT000000425544\n",
      "JORFTEXT000020016492\n",
      "JORFTEXT000032304218\n",
      "JORFTEXT000000589796\n",
      "JORFTEXT000031590286\n",
      "JORFTEXT000029785633\n",
      "JORFTEXT000000346960\n",
      "JORFTEXT000026728859\n",
      "JORFTEXT000030560909\n",
      "JORFTEXT000032209352\n",
      "JORFTEXT000025046277\n",
      "JORFTEXT000031353689\n",
      "JORFTEXT000031537165\n",
      "JORFTEXT000000236252\n",
      "JORFTEXT000000588079\n",
      "JORFTEXT000000518372\n",
      "JORFTEXT000000325199\n",
      "JORFTEXT000000745854\n",
      "JORFTEXT000030160589\n",
      "JORFTEXT000021466900\n",
      "JORFTEXT000031590048\n",
      "JORFTEXT000000415976\n",
      "JORFTEXT000030830063\n",
      "JORFTEXT000027751450\n",
      "JORFTEXT000017576853\n",
      "JORFTEXT000000300888\n",
      "JORFTEXT000026274321\n",
      "JORFTEXT000022796455\n",
      "JORFTEXT000031689507\n",
      "JORFTEXT000026830694\n",
      "JORFTEXT000000241467\n",
      "JORFTEXT000000246937\n",
      "JORFTEXT000019140597\n",
      "JORFTEXT000026296466\n",
      "JORFTEXT000027231585\n",
      "JORFTEXT000024497361\n",
      "JORFTEXT000023311655\n",
      "JORFTEXT000025362207\n",
      "JORFTEXT000031632771\n",
      "JORFTEXT000028724709\n",
      "JORFTEXT000031279375\n",
      "JORFTEXT000031469486\n",
      "JORFTEXT000018879532\n",
      "JORFTEXT000031593441\n",
      "JORFTEXT000000442826\n",
      "JORFTEXT000022070186\n",
      "JORFTEXT000000171085\n",
      "JORFTEXT000000333372\n",
      "JORFTEXT000000815420\n",
      "JORFTEXT000031602148\n",
      "JORFTEXT000028494010\n",
      "JORFTEXT000020796903\n",
      "JORFTEXT000000773456\n",
      "JORFTEXT000030959341\n",
      "JORFTEXT000030959323\n",
      "JORFTEXT000000826772\n",
      "JORFTEXT000000379918\n",
      "JORFTEXT000000423752\n",
      "JORFTEXT000031549874\n",
      "JORFTEXT000000697479\n",
      "JORFTEXT000031249429\n",
      "JORFTEXT000032000111\n",
      "JORFTEXT000031445153\n",
      "JORFTEXT000000183179\n",
      "JORFTEXT000020688626\n",
      "JORFTEXT000030395369\n",
      "JORFTEXT000031679868\n",
      "JORFTEXT000000258154\n",
      "JORFTEXT000018129582\n",
      "JORFTEXT000031590223\n",
      "JORFTEXT000030642092\n",
      "JORFTEXT000031601275\n",
      "JORFTEXT000025714344\n",
      "JORFTEXT000026050486\n",
      "JORFTEXT000019475556\n",
      "JORFTEXT000031393588\n",
      "JORFTEXT000027090698\n",
      "JORFTEXT000000363355\n",
      "JORFTEXT000000251233\n",
      "JORFTEXT000031531923\n",
      "JORFTEXT000000658931\n",
      "JORFTEXT000028745531\n",
      "JORFTEXT000000461943\n",
      "JORFTEXT000000377065\n",
      "JORFTEXT000030959350\n",
      "JORFTEXT000000221924\n",
      "JORFTEXT000000405905\n",
      "JORFTEXT000020915368\n",
      "JORFTEXT000031741450\n",
      "JORFTEXT000031027118\n",
      "JORFTEXT000020407454\n",
      "JORFTEXT000019826356\n",
      "JORFTEXT000031689295\n",
      "JORFTEXT000031590209\n",
      "JORFTEXT000030378334\n",
      "JORFTEXT000000433214\n",
      "JORFTEXT000000885531\n",
      "JORFTEXT000000841598\n",
      "JORFTEXT000031360077\n",
      "JORFTEXT000029837814\n",
      "JORFTEXT000031690101\n",
      "JORFTEXT000000163329\n",
      "JORFTEXT000031553035\n",
      "JORFTEXT000000826326\n",
      "JORFTEXT000000421370\n",
      "JORFTEXT000031690311\n",
      "JORFTEXT000019962916\n",
      "JORFTEXT000021867853\n",
      "JORFTEXT000025441946\n",
      "JORFTEXT000000596757\n",
      "JORFTEXT000031593313\n",
      "JORFTEXT000000184088\n",
      "JORFTEXT000000627415\n",
      "JORFTEXT000000176900\n",
      "JORFTEXT000029102562\n",
      "JORFTEXT000029993357\n",
      "JORFTEXT000027994082\n",
      "JORFTEXT000018386065\n",
      "JORFTEXT000000421440\n",
      "JORFTEXT000000766872\n",
      "JORFTEXT000000781567\n",
      "JORFTEXT000024873712\n",
      "JORFTEXT000027580081\n",
      "JORFTEXT000000647510\n",
      "JORFTEXT000031689433\n",
      "JORFTEXT000000563530\n",
      "JORFTEXT000030540400\n",
      "JORFTEXT000000559602\n",
      "JORFTEXT000028745479\n",
      "JORFTEXT000031679969\n",
      "JORFTEXT000031027219\n",
      "JORFTEXT000028409993\n",
      "JORFTEXT000030959359\n",
      "JORFTEXT000000612526\n",
      "JORFTEXT000000611841\n",
      "JORFTEXT000031933712\n",
      "JORFTEXT000000276203\n",
      "JORFTEXT000000279268\n",
      "JORFTEXT000000542756\n",
      "JORFTEXT000028745791\n",
      "JORFTEXT000019124016\n",
      "JORFTEXT000031672894\n",
      "JORFTEXT000024353814\n",
      "JORFTEXT000030361676\n",
      "JORFTEXT000017843231\n",
      "JORFTEXT000024223810\n",
      "JORFTEXT000000752013\n",
      "JORFTEXT000000278426\n",
      "JORFTEXT000031590154\n",
      "JORFTEXT000031194603\n",
      "JORFTEXT000025703820\n",
      "JORFTEXT000000500208\n",
      "JORFTEXT000030126633\n",
      "JORFTEXT000000248169\n",
      "JORFTEXT000031625866\n",
      "JORFTEXT000031113472\n",
      "JORFTEXT000031602235\n",
      "JORFTEXT000000427667\n",
      "JORFTEXT000031285595\n",
      "JORFTEXT000000276202\n",
      "JORFTEXT000027770272\n",
      "JORFTEXT000000355390\n",
      "JORFTEXT000000822473\n",
      "JORFTEXT000000347080\n",
      "JORFTEXT000000717517\n",
      "JORFTEXT000031689662\n",
      "JORFTEXT000000265788\n",
      "JORFTEXT000031557075\n",
      "JORFTEXT000030959332\n",
      "JORFTEXT000000883813\n",
      "JORFTEXT000000597961\n",
      "JORFTEXT000028373815\n",
      "JORFTEXT000000266294\n",
      "JORFTEXT000031672261\n",
      "JORFTEXT000032097427\n",
      "JORFTEXT000031800714\n",
      "JORFTEXT000026979706\n",
      "JORFTEXT000030940337\n",
      "JORFTEXT000020692329\n",
      "JORFTEXT000026567972\n",
      "JORFTEXT000000644729\n",
      "JORFTEXT000000565410\n",
      "JORFTEXT000026385449\n",
      "JORFTEXT000030959314\n",
      "JORFTEXT000000584857\n",
      "JORFTEXT000031388626\n",
      "JORFTEXT000031180896\n",
      "JORFTEXT000028819547\n",
      "JORFTEXT000000610273\n",
      "JORFTEXT000030464633\n",
      "JORFTEXT000024679913\n",
      "JORFTEXT000031251409\n",
      "JORFTEXT000000405833\n",
      "JORFTEXT000031602100\n",
      "JORFTEXT000019078966\n",
      "JORFTEXT000023727979\n",
      "JORFTEXT000031602208\n",
      "JORFTEXT000031690001\n",
      "JORFTEXT000000432570\n",
      "JORFTEXT000030645031\n",
      "JORFTEXT000028745687\n",
      "JORFTEXT000030890211\n",
      "JORFTEXT000027498529\n",
      "JORFTEXT000028745782\n",
      "JORFTEXT000000553203\n",
      "JORFTEXT000031354160\n",
      "JORFTEXT000022210378\n",
      "JORFTEXT000000483734\n",
      "JORFTEXT000032276293\n",
      "JORFTEXT000029803977\n",
      "JORFTEXT000028531972\n",
      "JORFTEXT000000706986\n",
      "JORFTEXT000026973652\n",
      "JORFTEXT000000589927\n",
      "JORFTEXT000026844602\n",
      "JORFTEXT000000466686\n",
      "JORFTEXT000018692779\n",
      "JORFTEXT000030160762\n",
      "JORFTEXT000000272011\n",
      "JORFTEXT000019325632\n",
      "JORFTEXT000022324309\n",
      "JORFTEXT000030007757\n",
      "JORFTEXT000024558175\n",
      "JORFTEXT000022919542\n",
      "JORFTEXT000031638752\n",
      "JORFTEXT000020910809\n",
      "JORFTEXT000031679637\n",
      "JORFTEXT000028225083\n",
      "JORFTEXT000032251629\n",
      "JORFTEXT000022388816\n",
      "JORFTEXT000000276335\n",
      "JORFTEXT000000568068\n",
      "JORFTEXT000000775847\n",
      "JORFTEXT000030802198\n",
      "JORFTEXT000031629471\n",
      "LEGITEXT000006072846\n",
      "JORFTEXT000030262210\n",
      "JORFTEXT000026844155\n",
      "JORFTEXT000023728079\n",
      "JORFTEXT000000649526\n",
      "JORFTEXT000025834953\n",
      "JORFTEXT000031386645\n",
      "LEGITEXT000006072628\n",
      "JORFTEXT000000457188\n",
      "JORFTEXT000031889833\n",
      "JORFTEXT000031393526\n",
      "JORFTEXT000000820513\n",
      "JORFTEXT000020591857\n",
      "JORFTEXT000031690124\n",
      "JORFTEXT000031632338\n",
      "JORFTEXT000028652721\n",
      "JORFTEXT000031127950\n",
      "JORFTEXT000000600741\n",
      "JORFTEXT000000273277\n",
      "JORFTEXT000027731498\n",
      "JORFTEXT000000414152\n",
      "JORFTEXT000025012316\n",
      "JORFTEXT000030920224\n",
      "JORFTEXT000000627974\n",
      "JORFTEXT000027266218\n",
      "JORFTEXT000031401139\n",
      "JORFTEXT000019215542\n",
      "JORFTEXT000000164206\n",
      "JORFTEXT000000192336\n",
      "JORFTEXT000031258493\n",
      "JORFTEXT000000504748\n",
      "JORFTEXT000028022743\n",
      "JORFTEXT000000378871\n",
      "JORFTEXT000000437933\n",
      "JORFTEXT000031664827\n",
      "JORFTEXT000000360313\n",
      "JORFTEXT000022765140\n",
      "JORFTEXT000028884077\n",
      "JORFTEXT000028902931\n",
      "JORFTEXT000031147957\n",
      "JORFTEXT000000605067\n",
      "JORFTEXT000031327549\n",
      "JORFTEXT000028745756\n",
      "JORFTEXT000031593649\n",
      "JORFTEXT000000361312\n",
      "JORFTEXT000000272013\n",
      "JORFTEXT000000583170\n",
      "JORFTEXT000000779198\n",
      "JORFTEXT000025411425\n",
      "JORFTEXT000000528683\n",
      "JORFTEXT000030361634\n",
      "JORFTEXT000031590066\n",
      "JORFTEXT000031239700\n",
      "JORFTEXT000023827154\n",
      "JORFTEXT000020972070\n",
      "JORFTEXT000000526440\n",
      "JORFTEXT000031567022\n",
      "JORFTEXT000028745675\n",
      "JORFTEXT000028745631\n",
      "JORFTEXT000030560885\n",
      "JORFTEXT000025747644\n",
      "JORFTEXT000020856429\n",
      "JORFTEXT000026844623\n",
      "JORFTEXT000031933213\n",
      "JORFTEXT000000248517\n",
      "JORFTEXT000000174227\n",
      "JORFTEXT000000635063\n",
      "JORFTEXT000000790993\n",
      "JORFTEXT000027378973\n",
      "JORFTEXT000000592583\n",
      "JORFTEXT000031601393\n",
      "JORFTEXT000029147683\n",
      "JORFTEXT000031638105\n",
      "JORFTEXT000031601414\n",
      "JORFTEXT000000791824\n",
      "JORFTEXT000000383940\n",
      "JORFTEXT000000210823\n",
      "JORFTEXT000031590027\n",
      "JORFTEXT000019266699\n",
      "JORFTEXT000030419840\n",
      "JORFTEXT000026426057\n",
      "JORFTEXT000000517427\n",
      "JORFTEXT000030802183\n",
      "JORFTEXT000025687562\n",
      "JORFTEXT000024892345\n",
      "JORFTEXT000019342073\n",
      "JORFTEXT000000510372\n",
      "JORFTEXT000023375341\n",
      "JORFTEXT000000780711\n",
      "JORFTEXT000030194229\n",
      "JORFTEXT000028352692\n",
      "JORFTEXT000000627408\n",
      "JORFTEXT000029493686\n",
      "JORFTEXT000031313070\n",
      "JORFTEXT000031496966\n",
      "JORFTEXT000028138581\n",
      "JORFTEXT000031258533\n",
      "JORFTEXT000031361680\n",
      "JORFTEXT000000782723\n",
      "JORFTEXT000024463380\n",
      "JORFTEXT000000177145\n",
      "JORFTEXT000027665569\n",
      "JORFTEXT000025135509\n",
      "JORFTEXT000000364441\n",
      "JORFTEXT000022122744\n",
      "JORFTEXT000000164584\n",
      "JORFTEXT000019325660\n",
      "JORFTEXT000000726292\n",
      "JORFTEXT000031593830\n",
      "JORFTEXT000031602196\n",
      "JORFTEXT000022407966\n",
      "JORFTEXT000000782486\n",
      "JORFTEXT000030391208\n",
      "JORFTEXT000000542749\n",
      "JORFTEXT000000438720\n",
      "JORFTEXT000020280210\n",
      "JORFTEXT000029190216\n",
      "JORFTEXT000021217837\n",
      "JORFTEXT000000656981\n",
      "JORFTEXT000000241408\n",
      "JORFTEXT000028745587\n",
      "JORFTEXT000024752747\n",
      "JORFTEXT000031601857\n",
      "JORFTEXT000000270660\n",
      "JORFTEXT000000726185\n",
      "JORFTEXT000000888274\n",
      "JORFTEXT000031070895\n",
      "JORFTEXT000000819675\n",
      "JORFTEXT000030551129\n",
      "JORFTEXT000031313461\n",
      "JORFTEXT000031689384\n",
      "JORFTEXT000020337349\n",
      "JORFTEXT000000629820\n",
      "JORFTEXT000000436465\n",
      "JORFTEXT000022796462\n",
      "JORFTEXT000032154777\n",
      "JORFTEXT000030377981\n",
      "JORFTEXT000022834754\n",
      "JORFTEXT000000276336\n",
      "JORFTEXT000030916532\n",
      "JORFTEXT000031590127\n",
      "JORFTEXT000031939947\n",
      "JORFTEXT000031021113\n",
      "JORFTEXT000029211062\n",
      "JORFTEXT000000636408\n",
      "JORFTEXT000027618228\n",
      "JORFTEXT000000179040\n",
      "JORFTEXT000000570648\n",
      "JORFTEXT000031444948\n",
      "JORFTEXT000030137538\n",
      "JORFTEXT000027778086\n",
      "JORFTEXT000000712277\n",
      "JORFTEXT000020369096\n",
      "JORFTEXT000028279710\n",
      "JORFTEXT000031276342\n",
      "JORFTEXT000030560804\n",
      "JORFTEXT000000611375\n",
      "JORFTEXT000024419308\n",
      "JORFTEXT000025398124\n",
      "JORFTEXT000021125444\n",
      "JORFTEXT000000768627\n",
      "JORFTEXT000020019120\n",
      "JORFTEXT000026263780\n",
      "JORFTEXT000000716567\n",
      "JORFTEXT000030008671\n",
      "JORFTEXT000000434015\n",
      "JORFTEXT000031489919\n",
      "JORFTEXT000024829806\n",
      "JORFTEXT000029958958\n",
      "JORFTEXT000031401020\n",
      "JORFTEXT000031140162\n",
      "JORFTEXT000024580368\n",
      "JORFTEXT000000614065\n",
      "JORFTEXT000030753700\n",
      "JORFTEXT000025706180\n",
      "JORFTEXT000032251241\n",
      "JORFTEXT000027646608\n",
      "JORFTEXT000030780525\n",
      "JORFTEXT000023631230\n",
      "JORFTEXT000030337743\n",
      "JORFTEXT000000783188\n",
      "JORFTEXT000023375379\n",
      "JORFTEXT000031531879\n",
      "JORFTEXT000000332490\n",
      "JORFTEXT000032080616\n",
      "JORFTEXT000000343317\n",
      "JORFTEXT000000233233\n",
      "JORFTEXT000000456880\n",
      "JORFTEXT000000424004\n",
      "JORFTEXT000027618800\n",
      "JORFTEXT000031602112\n",
      "JORFTEXT000023894109\n",
      "JORFTEXT000000447136\n",
      "JORFTEXT000029066593\n",
      "JORFTEXT000023085769\n",
      "JORFTEXT000023405692\n",
      "JORFTEXT000000776748\n",
      "JORFTEXT000026380878\n",
      "JORFTEXT000000420648\n",
      "JORFTEXT000025046172\n",
      "JORFTEXT000000534289\n",
      "JORFTEXT000023295141\n",
      "JORFTEXT000000710158\n",
      "JORFTEXT000030132998\n",
      "JORFTEXT000023281314\n",
      "JORFTEXT000000702306\n",
      "JORFTEXT000028745489\n",
      "JORFTEXT000000457562\n",
      "JORFTEXT000026251570\n",
      "JORFTEXT000030284944\n",
      "JORFTEXT000029147656\n",
      "JORFTEXT000029147629\n",
      "JORFTEXT000027231569\n",
      "JORFTEXT000031549929\n",
      "JORFTEXT000024937266\n",
      "JORFTEXT000031112739\n",
      "JORFTEXT000030007489\n",
      "JORFTEXT000032134619\n",
      "JORFTEXT000000820518\n",
      "JORFTEXT000022929816\n",
      "JORFTEXT000032149015\n",
      "JORFTEXT000000442131\n",
      "JORFTEXT000000777967\n",
      "JORFTEXT000031327391\n",
      "JORFTEXT000030920376\n",
      "JORFTEXT000000370350\n",
      "JORFTEXT000000169951\n",
      "JORFTEXT000000374726\n",
      "JORFTEXT000000874489\n",
      "JORFTEXT000000375306\n",
      "JORFTEXT000021504554\n",
      "JORFTEXT000031027083\n",
      "JORFTEXT000028970082\n",
      "JORFTEXT000031313429\n",
      "JORFTEXT000023081444\n",
      "JORFTEXT000031074406\n",
      "JORFTEXT000000665023\n",
      "JORFTEXT000000696169\n",
      "JORFTEXT000000486731\n",
      "JORFTEXT000031824763\n",
      "JORFTEXT000000517929\n",
      "JORFTEXT000031549947\n",
      "LEGITEXT000031366350\n",
      "JORFTEXT000023281307\n",
      "JORFTEXT000000820515\n",
      "JORFTEXT000027618896\n",
      "JORFTEXT000000349194\n",
      "JORFTEXT000000693838\n",
      "JORFTEXT000000578863\n",
      "JORFTEXT000018188784\n",
      "JORFTEXT000000640568\n",
      "JORFTEXT000028410073\n",
      "JORFTEXT000032320619\n",
      "JORFTEXT000000534075\n",
      "JORFTEXT000031251304\n",
      "JORFTEXT000024892465\n",
      "JORFTEXT000000766996\n",
      "JORFTEXT000000401228\n",
      "JORFTEXT000000186593\n",
      "JORFTEXT000000608635\n",
      "JORFTEXT000031800184\n",
      "JORFTEXT000031463369\n",
      "JORFTEXT000000444050\n",
      "JORFTEXT000000391299\n",
      "JORFTEXT000032164949\n",
      "JORFTEXT000017754536\n",
      "JORFTEXT000030824374\n",
      "JORFTEXT000018229571\n",
      "JORFTEXT000025242199\n",
      "JORFTEXT000000797303\n",
      "JORFTEXT000000628150\n",
      "JORFTEXT000032037039\n",
      "JORFTEXT000000469281\n",
      "JORFTEXT000031444569\n",
      "JORFTEXT000024829782\n",
      "JORFTEXT000019246155\n",
      "JORFTEXT000031601381\n",
      "JORFTEXT000018700191\n",
      "JORFTEXT000023317151\n",
      "JORFTEXT000031469443\n",
      "JORFTEXT000000386372\n",
      "JORFTEXT000031251765\n",
      "JORFTEXT000022142575\n",
      "JORFTEXT000028398272\n",
      "JORFTEXT000000533133\n",
      "JORFTEXT000000607391\n",
      "JORFTEXT000031672874\n",
      "JORFTEXT000026770804\n",
      "JORFTEXT000031585362\n",
      "JORFTEXT000025768013\n",
      "JORFTEXT000000846538\n",
      "JORFTEXT000000164583\n",
      "JORFTEXT000031602172\n",
      "JORFTEXT000027626178\n",
      "JORFTEXT000031637837\n",
      "JORFTEXT000023082125\n",
      "JORFTEXT000000456112\n",
      "JORFTEXT000031680338\n",
      "JORFTEXT000017742016\n",
      "JORFTEXT000030025309\n",
      "JORFTEXT000028745510\n",
      "JORFTEXT000000727274\n",
      "JORFTEXT000021540333\n",
      "JORFTEXT000000627588\n",
      "JORFTEXT000000194300\n",
      "JORFTEXT000000525465\n",
      "LEGITEXT000005627819\n",
      "JORFTEXT000030906724\n",
      "JORFTEXT000000455737\n",
      "JORFTEXT000022377547\n",
      "JORFTEXT000031204500\n",
      "JORFTEXT000000414155\n",
      "JORFTEXT000000775214\n",
      "JORFTEXT000000623497\n",
      "JORFTEXT000032304239\n",
      "JORFTEXT000023333368\n",
      "JORFTEXT000024027862\n",
      "JORFTEXT000027886761\n",
      "JORFTEXT000000852369\n",
      "JORFTEXT000000400917\n",
      "JORFTEXT000031629485\n",
      "JORFTEXT000000820516\n",
      "JORFTEXT000029210839\n",
      "JORFTEXT000028745696\n",
      "JORFTEXT000030921095\n",
      "JORFTEXT000032074869\n",
      "JORFTEXT000031690407\n",
      "JORFTEXT000000236544\n",
      "JORFTEXT000031388601\n",
      "JORFTEXT000000298982\n",
      "JORFTEXT000030711236\n",
      "JORFTEXT000022271835\n",
      "JORFTEXT000031319649\n",
      "JORFTEXT000000412257\n",
      "JORFTEXT000029948521\n",
      "JORFTEXT000030802340\n",
      "JORFTEXT000030649340\n",
      "JORFTEXT000000780712\n",
      "JORFTEXT000030536730\n",
      "JORFTEXT000026365765\n",
      "JORFTEXT000024771809\n",
      "JORFTEXT000030802213\n",
      "JORFTEXT000026811407\n",
      "JORFTEXT000030784480\n",
      "JORFTEXT000000238392\n",
      "JORFTEXT000031057186\n",
      "JORFTEXT000000782766\n",
      "JORFTEXT000025834986\n",
      "JORFTEXT000030199462\n",
      "JORFTEXT000027994148\n",
      "JORFTEXT000030753688\n",
      "JORFTEXT000000617041\n",
      "JORFTEXT000030284731\n",
      "JORFTEXT000000461938\n",
      "JORFTEXT000019123422\n",
      "JORFTEXT000029620649\n",
      "JORFTEXT000031528364\n",
      "JORFTEXT000019712300\n",
      "JORFTEXT000022816662\n",
      "JORFTEXT000031601424\n",
      "JORFTEXT000031279051\n",
      "JORFTEXT000030820503\n",
      "JORFTEXT000000715272\n",
      "JORFTEXT000029533164\n",
      "JORFTEXT000031933647\n",
      "JORFTEXT000018699998\n",
      "JORFTEXT000000820517\n",
      "JORFTEXT000023311950\n",
      "JORFTEXT000026844617\n",
      "JORFTEXT000029920646\n",
      "JORFTEXT000000465873\n",
      "JORFTEXT000020337431\n",
      "JORFTEXT000000375807\n",
      "JORFTEXT000029044867\n",
      "JORFTEXT000022677474\n",
      "JORFTEXT000031521524\n",
      "JORFTEXT000021633043\n",
      "JORFTEXT000029878884\n",
      "JORFTEXT000000605304\n",
      "JORFTEXT000030960211\n",
      "JORFTEXT000031421481\n",
      "JORFTEXT000000360314\n",
      "JORFTEXT000000223183\n",
      "JORFTEXT000000813379\n",
      "JORFTEXT000000166678\n",
      "JORFTEXT000029175801\n",
      "JORFTEXT000031462997\n",
      "JORFTEXT000031444012\n",
      "JORFTEXT000031585534\n",
      "JORFTEXT000028134031\n",
      "JORFTEXT000000818835\n",
      "JORFTEXT000031692425\n",
      "JORFTEXT000000435289\n",
      "JORFTEXT000000240661\n",
      "JORFTEXT000031690428\n",
      "JORFTEXT000000645527\n",
      "JORFTEXT000028745647\n",
      "JORFTEXT000000870586\n",
      "JORFTEXT000030511524\n",
      "JORFTEXT000031388724\n",
      "JORFTEXT000029646653\n",
      "JORFTEXT000000309503\n",
      "JORFTEXT000022972397\n",
      "JORFTEXT000000272012\n",
      "JORFTEXT000029884958\n",
      "JORFTEXT000000872088\n",
      "JORFTEXT000000196641\n",
      "JORFTEXT000031386451\n",
      "JORFTEXT000000622712\n",
      "JORFTEXT000031963717\n",
      "JORFTEXT000028637577\n",
      "JORFTEXT000021751388\n",
      "JORFTEXT000029830645\n",
      "JORFTEXT000031289429\n",
      "JORFTEXT000031625843\n",
      "JORFTEXT000028819542\n",
      "JORFTEXT000031528333\n",
      "JORFTEXT000000259264\n",
      "JORFTEXT000030802355\n",
      "JORFTEXT000031638700\n",
      "JORFTEXT000031425529\n",
      "JORFTEXT000031602065\n",
      "JORFTEXT000000183180\n",
      "JORFTEXT000032251548\n",
      "JORFTEXT000031255615\n",
      "JORFTEXT000024577513\n",
      "JORFTEXT000031251656\n",
      "JORFTEXT000029257515\n",
      "JORFTEXT000025714484\n",
      "JORFTEXT000032148728\n",
      "JORFTEXT000000735997\n",
      "JORFTEXT000026196929\n",
      "JORFTEXT000032287204\n",
      "JORFTEXT000032276187\n",
      "JORFTEXT000025282900\n",
      "JORFTEXT000026835133\n",
      "JORFTEXT000031057106\n",
      "JORFTEXT000031689443\n",
      "JORFTEXT000030943657\n",
      "JORFTEXT000031646280\n",
      "JORFTEXT000024659255\n",
      "JORFTEXT000031585569\n",
      "JORFTEXT000000391372\n",
      "JORFTEXT000024043254\n",
      "JORFTEXT000031602184\n",
      "JORFTEXT000000384723\n",
      "JORFTEXT000000613086\n",
      "JORFTEXT000017834337\n",
      "JORFTEXT000000601432\n",
      "JORFTEXT000030236228\n",
      "JORFTEXT000000695940\n",
      "JORFTEXT000031601913\n",
      "JORFTEXT000031878889\n",
      "JORFTEXT000031679906\n",
      "JORFTEXT000000586723\n",
      "JORFTEXT000000603989\n",
      "JORFTEXT000000434194\n",
      "JORFTEXT000030636905\n",
      "JORFTEXT000026074430\n",
      "JORFTEXT000032145944\n",
      "JORFTEXT000000445390\n",
      "JORFTEXT000000264151\n",
      "JORFTEXT000000278075\n",
      "JORFTEXT000031354202\n",
      "JORFTEXT000030981153\n",
      "JORFTEXT000031359944\n",
      "JORFTEXT000000626191\n",
      "JORFTEXT000030005452\n",
      "JORFTEXT000031313262\n",
      "JORFTEXT000029884648\n",
      "JORFTEXT000000216071\n",
      "JORFTEXT000030199452\n",
      "JORFTEXT000031560914\n",
      "JORFTEXT000020725884\n",
      "JORFTEXT000000445288\n",
      "JORFTEXT000030199742\n",
      "JORFTEXT000031638737\n",
      "JORFTEXT000000699046\n",
      "JORFTEXT000031113652\n",
      "JORFTEXT000000208063\n",
      "JORFTEXT000000312042\n",
      "JORFTEXT000031251674\n",
      "JORFTEXT000000267339\n",
      "JORFTEXT000031053071\n",
      "JORFTEXT000031593326\n",
      "JORFTEXT000031052756\n",
      "JORFTEXT000031251396\n",
      "JORFTEXT000029626253\n",
      "LEGITEXT000006071556\n",
      "JORFTEXT000028588031\n",
      "JORFTEXT000031629832\n",
      "JORFTEXT000032148925\n",
      "JORFTEXT000020954903\n",
      "JORFTEXT000024829828\n",
      "JORFTEXT000031970387\n",
      "JORFTEXT000000360307\n",
      "JORFTEXT000027811657\n",
      "JORFTEXT000031027133\n",
      "JORFTEXT000032286957\n",
      "JORFTEXT000027618211\n",
      "JORFTEXT000000246056\n",
      "JORFTEXT000028410038\n",
      "JORFTEXT000031689278\n",
      "JORFTEXT000000193772\n",
      "JORFTEXT000021560944\n",
      "JORFTEXT000029191590\n",
      "JORFTEXT000031602160\n",
      "JORFTEXT000030861904\n",
      "JORFTEXT000000461940\n",
      "JORFTEXT000000652944\n",
      "JORFTEXT000030395171\n",
      "JORFTEXT000031091601\n",
      "JORFTEXT000020025311\n",
      "JORFTEXT000020876325\n",
      "JORFTEXT000032134669\n",
      "JORFTEXT000000703036\n",
      "JORFTEXT000000755732\n",
      "JORFTEXT000025706117\n",
      "JORFTEXT000000210701\n",
      "JORFTEXT000000226317\n",
      "JORFTEXT000000615903\n",
      "JORFTEXT000000820657\n",
      "JORFTEXT000000579453\n",
      "JORFTEXT000031939452\n",
      "JORFTEXT000031360943\n",
      "JORFTEXT000028134010\n",
      "JORFTEXT000029238403\n",
      "JORFTEXT000022481510\n",
      "JORFTEXT000000276647\n",
      "JORFTEXT000019215489\n",
      "JORFTEXT000000680546\n",
      "JORFTEXT000031443941\n",
      "JORFTEXT000000276337\n",
      "JORFTEXT000031689345\n",
      "JORFTEXT000031489982\n",
      "JORFTEXT000031074450\n",
      "JORFTEXT000000797557\n",
      "JORFTEXT000031691554\n",
      "JORFTEXT000022823052\n",
      "JORFTEXT000021530437\n",
      "JORFTEXT000000449944\n",
      "JORFTEXT000024772439\n",
      "JORFTEXT000030395529\n",
      "JORFTEXT000032000127\n",
      "JORFTEXT000028745662\n",
      "JORFTEXT000029925375\n",
      "JORFTEXT000031593899\n",
      "JORFTEXT000031593224\n",
      "JORFTEXT000031360203\n",
      "JORFTEXT000024829777\n"
     ]
    }
   ],
   "source": [
    "for cid in liste_cid_couple:\n",
    "    print(cid)"
   ]
  },
  {
   "cell_type": "markdown",
   "metadata": {},
   "source": [
    "Il y a 886 cid qui apparaissent dans 2 catégories."
   ]
  },
  {
   "cell_type": "code",
   "execution_count": null,
   "metadata": {
    "collapsed": false
   },
   "outputs": [],
   "source": [
    "couples_categorie = [categorie_par_cid[cid] for cid in liste_cid_unique if len(categorie_par_cid[cid])>1]"
   ]
  },
  {
   "cell_type": "code",
   "execution_count": null,
   "metadata": {
    "collapsed": false
   },
   "outputs": [],
   "source": [
    "couples_categorie = [sorted(c) for c in couples_categorie]"
   ]
  },
  {
   "cell_type": "code",
   "execution_count": null,
   "metadata": {
    "collapsed": false
   },
   "outputs": [],
   "source": [
    "couples_categorie = [(c[0], c[1]) for c in couples_categorie]"
   ]
  },
  {
   "cell_type": "code",
   "execution_count": null,
   "metadata": {
    "collapsed": false
   },
   "outputs": [],
   "source": [
    "Counter(couples_categorie)"
   ]
  },
  {
   "cell_type": "markdown",
   "metadata": {},
   "source": [
    "## Comparaison struct et version"
   ]
  },
  {
   "cell_type": "code",
   "execution_count": null,
   "metadata": {
    "collapsed": false
   },
   "outputs": [],
   "source": [
    "legi_structs_par_cid = {}\n",
    "legi_versions_par_cid = {}\n",
    "for categorie in categories:\n",
    "    _, liste_cid = trouve_enfants((os.path.join(racine_legi, categorie)))\n",
    "\n",
    "    etat_par_cid = {}\n",
    "    for cid in liste_cid:\n",
    "        if cid in liste_cid_couple:\n",
    "            continue\n",
    "            \n",
    "        liste_struct, _ = trouve_enfants(os.path.join(os.path.join(racine_legi, categorie, cid, 'struct')))\n",
    "        liste_version, _ = trouve_enfants(os.path.join(os.path.join(racine_legi, categorie, cid, 'version')))\n",
    "        \n",
    "        legi_structs_par_cid[cid] = [f[:20] for f in liste_struct]\n",
    "        legi_versions_par_cid[cid] = [f[:20] for f in liste_version]\n"
   ]
  },
  {
   "cell_type": "code",
   "execution_count": null,
   "metadata": {
    "collapsed": false
   },
   "outputs": [],
   "source": [
    "legi_structs_par_cid"
   ]
  },
  {
   "cell_type": "code",
   "execution_count": null,
   "metadata": {
    "collapsed": false
   },
   "outputs": [],
   "source": [
    "cid_present = {cid: cid in liste_id_ for cid, liste_id_ in legi_versions_par_cid.items()}"
   ]
  },
  {
   "cell_type": "code",
   "execution_count": null,
   "metadata": {
    "collapsed": true
   },
   "outputs": [],
   "source": [
    "liste_cid_present = [cid for cid, est_present in cid_present.items() if est_present]\n",
    "liste_cid_absent = [cid for cid, est_present in cid_present.items() if not est_present]\n"
   ]
  },
  {
   "cell_type": "code",
   "execution_count": null,
   "metadata": {
    "collapsed": false
   },
   "outputs": [],
   "source": [
    "prefixes_present = [cid[:8] for cid in liste_cid_present]\n",
    "prefixes_absent = [cid[:8] for cid in liste_cid_absent]\n"
   ]
  },
  {
   "cell_type": "code",
   "execution_count": null,
   "metadata": {
    "collapsed": false
   },
   "outputs": [],
   "source": [
    "Counter(prefixes_present), Counter(prefixes_absent)"
   ]
  },
  {
   "cell_type": "code",
   "execution_count": null,
   "metadata": {
    "collapsed": false
   },
   "outputs": [],
   "source": [
    "jorf_liste_struct, _ = trouve_enfants(os.path.join(os.path.join(racine_jorf, 'texte/struct')))\n",
    "jorf_liste_version, _ = trouve_enfants(os.path.join(os.path.join(racine_jorf, 'texte/version')))\n",
    "\n",
    "jorf_liste_struct = [f[:20] for f in jorf_liste_struct]\n",
    "jorf_liste_version = [f[:20] for f in jorf_liste_version]\n"
   ]
  },
  {
   "cell_type": "code",
   "execution_count": null,
   "metadata": {
    "collapsed": true
   },
   "outputs": [],
   "source": [
    "jorf_set_struct = set(jorf_liste_struct)\n",
    "jorf_set_version = set(jorf_liste_version)"
   ]
  },
  {
   "cell_type": "code",
   "execution_count": null,
   "metadata": {
    "collapsed": false
   },
   "outputs": [],
   "source": [
    "present_dans_jorf = [cid for cid in liste_cid_absent if cid in jorf_set_struct]\n",
    "absent_dans_jorf = [cid for cid in liste_cid_absent if cid not in jorf_set_struct]\n"
   ]
  },
  {
   "cell_type": "code",
   "execution_count": null,
   "metadata": {
    "collapsed": false
   },
   "outputs": [],
   "source": [
    "absent_dans_jorf"
   ]
  },
  {
   "cell_type": "code",
   "execution_count": null,
   "metadata": {
    "collapsed": false
   },
   "outputs": [],
   "source": [
    "len(liste_cid_absent)"
   ]
  },
  {
   "cell_type": "code",
   "execution_count": null,
   "metadata": {
    "collapsed": false
   },
   "outputs": [],
   "source": [
    "jorf_liste_struct"
   ]
  },
  {
   "cell_type": "code",
   "execution_count": null,
   "metadata": {
    "collapsed": true
   },
   "outputs": [],
   "source": []
  },
  {
   "cell_type": "code",
   "execution_count": null,
   "metadata": {
    "collapsed": true
   },
   "outputs": [],
   "source": []
  },
  {
   "cell_type": "code",
   "execution_count": null,
   "metadata": {
    "collapsed": true
   },
   "outputs": [],
   "source": []
  },
  {
   "cell_type": "code",
   "execution_count": null,
   "metadata": {
    "collapsed": true
   },
   "outputs": [],
   "source": []
  },
  {
   "cell_type": "code",
   "execution_count": null,
   "metadata": {
    "collapsed": true
   },
   "outputs": [],
   "source": []
  },
  {
   "cell_type": "code",
   "execution_count": null,
   "metadata": {
    "collapsed": true
   },
   "outputs": [],
   "source": []
  },
  {
   "cell_type": "code",
   "execution_count": null,
   "metadata": {
    "collapsed": false,
    "scrolled": true
   },
   "outputs": [],
   "source": [
    "for categorie in categories:\n",
    "    liste_cid = list(os.listdir(os.path.join(racine_legi, categorie)))\n",
    "\n",
    "    etat_par_cid = {}\n",
    "    for cid in liste_cid:\n",
    "        liste_struct = sorted(list(os.listdir(os.path.join(racine_legi, categorie, cid, 'struct'))))\n",
    "        liste_version = sorted(list(os.listdir(os.path.join(racine_legi, categorie, cid, 'version'))))\n",
    "        etat_par_cid[cid] = (liste_struct == liste_version)\n",
    "        nb_struct_par_cid[cid] = len(liste_struct)\n",
    "        \n",
    "    liste_cid_diff = [cid for cid in liste_cid if etat_par_cid[cid] == False]\n",
    "    \n",
    "    nb_struct_par_cid = {cid: nb_struct_par_cid[cid] if etat_par_cid[cid] else -1 for cid in liste_cid}\n",
    "    compteur_taille = dict(Counter(nb_struct_par_cid.values()))\n",
    "    liste_cid_zero = [cid for cid in liste_cid if nb_struct_par_cid[cid] == 0]\n",
    "    \n",
    "    nb_cid = len(liste_cid)\n",
    "    nb_cid_diff = len(liste_cid_diff)\n",
    "    nb_cid_zero = len(liste_cid_zero)    \n",
    "    \n",
    "    print('Catégorie {} :'.format(categorie))\n",
    "    print('    {} / {} ont des sous-dossiers différents.'.format(nb_cid_diff, nb_cid))\n",
    "    print('    -> ' + ', '.join(liste_cid_diff))\n",
    "    print('    Répartition des tailles de sous-dossiers : {}'.format(str(compteur_taille)))\n",
    "    print(\"    {} / {} ont des sous-dossiers vides.\".format(nb_cid_zero, nb_cid))\n",
    "    print('    -> ' + ', '.join(liste_cid_zero))\n",
    "    print()\n"
   ]
  },
  {
   "cell_type": "code",
   "execution_count": null,
   "metadata": {
    "collapsed": true
   },
   "outputs": [],
   "source": []
  },
  {
   "cell_type": "code",
   "execution_count": null,
   "metadata": {
    "collapsed": true
   },
   "outputs": [],
   "source": []
  },
  {
   "cell_type": "code",
   "execution_count": null,
   "metadata": {
    "collapsed": true
   },
   "outputs": [],
   "source": []
  },
  {
   "cell_type": "code",
   "execution_count": null,
   "metadata": {
    "collapsed": true
   },
   "outputs": [],
   "source": []
  },
  {
   "cell_type": "markdown",
   "metadata": {},
   "source": [
    "## Met en base ces résultats\n",
    "\n",
    "* Créer la table :\n",
    "```\n",
    "create table texte (cid varchar(21), categorie_unique boolean, categorie varchar(21), correspondance_struct_version boolean, struct_version_non_vide boolean, etat varchar(21));\n",
    "```\n",
    "\n",
    "* Créer un index :\n",
    "```\n",
    "create index on texte (cid);\n",
    "```\n",
    "\n",
    "NB : struct_version_non_vide n'est pas forcément un bon motif d'invalidité, car la base JORF contient des fichiers struct et version qui peuvent correspondre."
   ]
  },
  {
   "cell_type": "code",
   "execution_count": null,
   "metadata": {
    "collapsed": true
   },
   "outputs": [],
   "source": [
    "connection = psycopg2.connect(dbname='loi', user='loi', password='baba')\n",
    "curseur = connection.cursor()"
   ]
  },
  {
   "cell_type": "code",
   "execution_count": null,
   "metadata": {
    "collapsed": false
   },
   "outputs": [],
   "source": [
    "for cid in liste_cid_unique:\n",
    "    nb_categorie = nb_categorie_par_cid[cid]\n",
    "    \n",
    "    if nb_categorie > 1:\n",
    "        curseur.execute(\"insert into texte (cid, categorie_unique, etat) values (%s, %s, %s)\",\n",
    "                        (cid, False, 'anomalie'))\n",
    "        connection.commit()\n",
    "        \n",
    "    else:\n",
    "        categorie = categorie_par_cid[cid][0]\n",
    "        \n",
    "        liste_struct = sorted(list(os.listdir(os.path.join(racine_legi, categorie, cid, 'struct'))))\n",
    "        liste_version = sorted(list(os.listdir(os.path.join(racine_legi, categorie, cid, 'version'))))\n",
    "        correspondance_struct_version = (liste_struct == liste_version)\n",
    "        struct_version_non_vide = (len(liste_struct) > 0) if correspondance_struct_version else None\n",
    "\n",
    "        curseur.execute(\"\"\"\n",
    "            insert into texte (\n",
    "                cid,\n",
    "                categorie_unique,\n",
    "                categorie,\n",
    "                correspondance_struct_version,\n",
    "                struct_version_non_vide,\n",
    "                etat\n",
    "                ) values (%s, %s, %s, %s, %s, %s)\n",
    "            \"\"\", (\n",
    "                cid,\n",
    "                True,\n",
    "                categorie,\n",
    "                correspondance_struct_version,\n",
    "                struct_version_non_vide,\n",
    "                'valide' if (correspondance_struct_version and struct_version_non_vide) else 'anomalie',\n",
    "            ))\n",
    "        connection.commit()\n"
   ]
  },
  {
   "cell_type": "code",
   "execution_count": null,
   "metadata": {
    "collapsed": true
   },
   "outputs": [],
   "source": [
    "curseur.close()\n",
    "connection.close()"
   ]
  },
  {
   "cell_type": "markdown",
   "metadata": {
    "collapsed": true
   },
   "source": [
    "## Unicité des articles et des section_ta (lorsque categorie_unique)"
   ]
  },
  {
   "cell_type": "code",
   "execution_count": null,
   "metadata": {
    "collapsed": true
   },
   "outputs": [],
   "source": [
    "liste_fichier = []\n",
    "liste_fichier_par_cid = {}\n",
    "for cid in liste_cid_unique:\n",
    "    if nb_categorie_par_cid[cid] > 1:\n",
    "        continue\n",
    "        \n",
    "    categorie = categorie_par_cid[cid][0]        \n",
    "    enfants_fichier, enfants_dossier = trouve_enfants(os.path.join(racine_legi, categorie, cid))\n",
    "    \n",
    "    liste_fichier_par_cid[cid] = enfants_fichier\n",
    "    liste_fichier += enfants_fichier"
   ]
  },
  {
   "cell_type": "code",
   "execution_count": null,
   "metadata": {
    "collapsed": false
   },
   "outputs": [],
   "source": [
    "len(liste_fichier), len(set(liste_fichier))"
   ]
  },
  {
   "cell_type": "code",
   "execution_count": null,
   "metadata": {
    "collapsed": false
   },
   "outputs": [],
   "source": [
    "Counter(Counter(liste_fichier).values())"
   ]
  },
  {
   "cell_type": "code",
   "execution_count": null,
   "metadata": {
    "collapsed": false
   },
   "outputs": [],
   "source": [
    "liste_duplication = [article for article, compte in Counter(liste_fichier).items() if compte > 1]"
   ]
  },
  {
   "cell_type": "code",
   "execution_count": null,
   "metadata": {
    "collapsed": false
   },
   "outputs": [],
   "source": [
    "len(liste_duplication)"
   ]
  },
  {
   "cell_type": "code",
   "execution_count": null,
   "metadata": {
    "collapsed": false
   },
   "outputs": [],
   "source": [
    "', '.join(liste_duplication)"
   ]
  },
  {
   "cell_type": "code",
   "execution_count": null,
   "metadata": {
    "collapsed": true
   },
   "outputs": [],
   "source": [
    "set_duplication = set(liste_duplication)"
   ]
  },
  {
   "cell_type": "markdown",
   "metadata": {},
   "source": [
    "Ajout de la colonne `non_duplication_article_section_ta` :\n",
    "```\n",
    "alter table texte add non_duplication_article_section_ta boolean;\n",
    "```"
   ]
  },
  {
   "cell_type": "code",
   "execution_count": null,
   "metadata": {
    "collapsed": true
   },
   "outputs": [],
   "source": [
    "connection = psycopg2.connect(dbname='loi', user='loi', password='baba')\n",
    "curseur = connection.cursor()"
   ]
  },
  {
   "cell_type": "code",
   "execution_count": null,
   "metadata": {
    "collapsed": false
   },
   "outputs": [],
   "source": [
    "liste_cid_duplication = []\n",
    "for cid in liste_cid_unique:\n",
    "    if (nb_categorie_par_cid[cid] > 1):\n",
    "        continue\n",
    "        \n",
    "    if set(liste_fichier_par_cid[cid]) & set_duplication:\n",
    "        liste_cid_duplication.append(cid)\n",
    "        non_duplication_article_section_ta = False\n",
    "    else:\n",
    "        non_duplication_article_section_ta = True\n",
    "        \n",
    "    curseur.execute(\"select etat from texte where cid = %s;\", (cid,))\n",
    "    resultats_requete = curseur.fetchall()\n",
    "    assert len(resultats_requete) == 1\n",
    "    etat_vieux = resultats_requete[0][0]\n",
    "    \n",
    "    etat = 'valide' if ((etat_vieux == 'valide') and non_duplication_article_section_ta) else 'anomalie'\n",
    "    \n",
    "    curseur.execute(\"update texte set non_duplication_article_section_ta = %s, etat = %s where cid = %s;\",\n",
    "                    (non_duplication_article_section_ta, etat, cid))\n",
    "    connection.commit()"
   ]
  },
  {
   "cell_type": "code",
   "execution_count": null,
   "metadata": {
    "collapsed": false
   },
   "outputs": [],
   "source": [
    "len(liste_cid_duplication), ', '.join(liste_cid_duplication)"
   ]
  },
  {
   "cell_type": "code",
   "execution_count": null,
   "metadata": {
    "collapsed": true
   },
   "outputs": [],
   "source": [
    "curseur.close()\n",
    "connection.close()"
   ]
  },
  {
   "cell_type": "markdown",
   "metadata": {},
   "source": [
    "95663 cid valides"
   ]
  }
 ],
 "metadata": {
  "kernelspec": {
   "display_name": "Python 3",
   "language": "python",
   "name": "python3"
  },
  "language_info": {
   "codemirror_mode": {
    "name": "ipython",
    "version": 3
   },
   "file_extension": ".py",
   "mimetype": "text/x-python",
   "name": "python",
   "nbconvert_exporter": "python",
   "pygments_lexer": "ipython3",
   "version": "3.5.2"
  }
 },
 "nbformat": 4,
 "nbformat_minor": 2
}
