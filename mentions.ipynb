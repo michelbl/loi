{
 "cells": [
  {
   "cell_type": "code",
   "execution_count": 1,
   "metadata": {
    "collapsed": true
   },
   "outputs": [],
   "source": [
    "from collections import Counter\n",
    "import pickle\n",
    "import re\n",
    "import datetime"
   ]
  },
  {
   "cell_type": "markdown",
   "metadata": {},
   "source": [
    "https://www.legifrance.gouv.fr/Droit-francais/Guide-de-legistique/III.-Redaction-des-textes/3.2.-Organisation-du-texte/3.2.2.-Division-du-texte"
   ]
  },
  {
   "cell_type": "code",
   "execution_count": 2,
   "metadata": {
    "collapsed": true
   },
   "outputs": [],
   "source": [
    "liste_categorie_mention = [\n",
    "    'loi',\n",
    "    'lois',\n",
    "    'décret',\n",
    "    'décrets',\n",
    "    'code',\n",
    "    'codes',\n",
    "    'avenant',\n",
    "    'avenants',\n",
    "    'circulaire',\n",
    "    'circulaires',\n",
    "    'arrêté',\n",
    "    'arrêtés',\n",
    "\n",
    "    'partie',\n",
    "    'parties',\n",
    "    'livre',\n",
    "    'livres',\n",
    "    'titre',\n",
    "    'titres',\n",
    "    'chapitre',\n",
    "    'chapitres',\n",
    "    'section',\n",
    "    'sections',\n",
    "    'article',\n",
    "    'articles',\n",
    "    'alinea',\n",
    "    'alineas',\n",
    "    'alinéa',\n",
    "    'alinéas',\n",
    "\n",
    "    'susvisé',\n",
    "    'susvisés',\n",
    "    'susvisée',\n",
    "    'susvisées',\n",
    "    'modifié',\n",
    "    'modifiés',\n",
    "    'modifiée',\n",
    "    'modifiées',\n",
    "    'relatif',\n",
    "    'relatifs',\n",
    "    'relative',\n",
    "    'relatives',\n",
    "    'modificatif',\n",
    "    'modificatifs',\n",
    "    'modificative',\n",
    "    'modificatives',\n",
    "\n",
    "    'présent',\n",
    "    'présents',\n",
    "    'présente',\n",
    "    'présentes',\n",
    "    'précédent',\n",
    "    'précédents',\n",
    "    'précédente',\n",
    "    'précédentes',\n",
    "    'suivant',\n",
    "    'suivants',\n",
    "    'suivante',\n",
    "    'suivantes',\n",
    "   \n",
    "    'en',\n",
    "    'date',\n",
    "    'du',\n",
    "]"
   ]
  },
  {
   "cell_type": "code",
   "execution_count": 3,
   "metadata": {
    "collapsed": false
   },
   "outputs": [],
   "source": [
    "repertoire_racine = '/home/michel/jorf_plat/'\n",
    "with open(repertoire_racine + 'liste_paragraphe.txt', 'rb') as f:\n",
    "    liste_paragraphe = pickle.load(f)"
   ]
  },
  {
   "cell_type": "code",
   "execution_count": null,
   "metadata": {
    "collapsed": false
   },
   "outputs": [
    {
     "name": "stdout",
     "output_type": "stream",
     "text": [
      "loi\n",
      "lois\n",
      "décret\n",
      "décrets\n",
      "code\n",
      "codes\n",
      "avenant\n",
      "avenants\n",
      "circulaire\n",
      "circulaires\n",
      "arrêté\n",
      "arrêtés\n",
      "partie\n",
      "parties\n",
      "livre\n",
      "livres\n",
      "titre\n",
      "titres\n",
      "chapitre\n",
      "chapitres\n",
      "section\n",
      "sections\n",
      "article\n",
      "articles\n",
      "alinea\n",
      "alineas\n",
      "alinéa\n",
      "alinéas\n",
      "susvisé\n",
      "susvisés\n",
      "susvisée\n",
      "susvisées\n",
      "modifié\n",
      "modifiés\n",
      "modifiée\n",
      "modifiées\n",
      "relatif\n",
      "relatifs\n",
      "relative\n",
      "relatives\n",
      "modificatif\n",
      "modificatifs\n",
      "modificative\n",
      "modificatives\n",
      "présent\n",
      "présents\n"
     ]
    }
   ],
   "source": [
    "for categorie_mention in liste_categorie_mention:\n",
    "    print(categorie_mention)\n",
    "    regex = re.compile('(?:^|\\W)(' + categorie_mention + ')(?:\\W|$)', re.IGNORECASE)\n",
    "    \n",
    "    mentions = {}\n",
    "    for i, paragraphe in enumerate(liste_paragraphe):\n",
    "        l = []\n",
    "        for m in re.finditer(regex, paragraphe):\n",
    "            l.append((m.start(1), m.end(1)))\n",
    "        if l:\n",
    "            mentions[i] = l\n",
    "\n",
    "    with open(repertoire_racine + 'categorie_mention_i_{}.txt'.format(categorie_mention), 'wb') as f:\n",
    "        pickle.dump(mentions, f)"
   ]
  },
  {
   "cell_type": "code",
   "execution_count": null,
   "metadata": {
    "collapsed": true
   },
   "outputs": [],
   "source": []
  },
  {
   "cell_type": "code",
   "execution_count": null,
   "metadata": {
    "collapsed": true
   },
   "outputs": [],
   "source": []
  },
  {
   "cell_type": "code",
   "execution_count": null,
   "metadata": {
    "collapsed": true
   },
   "outputs": [],
   "source": [
    "    'bis',\n",
    "    'ter',\n",
    "    'quater',\n",
    "    'quinquies',\n",
    "    'sexies',\n",
    "    'septies',\n",
    "    'octies',\n",
    "    'nonies',\n",
    "    'decies',\n",
    "    'undecies',\n",
    "    'duodecies',\n",
    "    'terdecies',\n",
    "    'quaterdecies',\n",
    "    'quindecies',\n",
    "    'sedecies',\n",
    "    'sexdecies',\n",
    "    'septdecies',\n",
    "    'duodevicies',\n",
    "    'octodecies',\n",
    "    'undevicies',\n",
    "    'novodecies',\n",
    "    'vicies',"
   ]
  },
  {
   "cell_type": "code",
   "execution_count": null,
   "metadata": {
    "collapsed": true
   },
   "outputs": [],
   "source": [
    "r'M{0,4}(CM|CD|D?C{0,3})(XC|XL|L?X{0,3})(IX|IV|V?I{0,4})'"
   ]
  }
 ],
 "metadata": {
  "kernelspec": {
   "display_name": "Python 3",
   "language": "python",
   "name": "python3"
  },
  "language_info": {
   "codemirror_mode": {
    "name": "ipython",
    "version": 3
   },
   "file_extension": ".py",
   "mimetype": "text/x-python",
   "name": "python",
   "nbconvert_exporter": "python",
   "pygments_lexer": "ipython3",
   "version": "3.5.2"
  }
 },
 "nbformat": 4,
 "nbformat_minor": 2
}
