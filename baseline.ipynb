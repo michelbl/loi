{
 "cells": [
  {
   "cell_type": "code",
   "execution_count": 1,
   "metadata": {
    "collapsed": true
   },
   "outputs": [],
   "source": [
    "import pickle\n",
    "import re\n",
    "from collections import Counter"
   ]
  },
  {
   "cell_type": "code",
   "execution_count": 2,
   "metadata": {
    "collapsed": true
   },
   "outputs": [],
   "source": [
    "repertoire_racine = '/home/michel/jorf_plat/'\n",
    "with open(repertoire_racine + 'liste_paragraphe.pickle', 'rb') as f:\n",
    "    liste_paragraphe = pickle.load(f)"
   ]
  },
  {
   "cell_type": "code",
   "execution_count": 3,
   "metadata": {
    "collapsed": true
   },
   "outputs": [],
   "source": [
    "with open(repertoire_racine + 'mots_pp_9.pickle', 'rb') as f:\n",
    "    mots_pp = pickle.load(f)"
   ]
  },
  {
   "cell_type": "code",
   "execution_count": 11,
   "metadata": {
    "collapsed": true
   },
   "outputs": [],
   "source": [
    "mots_importants = [\n",
    "    '__date',\n",
    "    '__arabe',\n",
    "    '__romain_min',\n",
    "    '__romain_maj',\n",
    "    '__arabe_comp',\n",
    "    '__num_article',\n",
    "    '__latin',\n",
    "    '__ordinal_o',\n",
    "    \n",
    "    'loi',\n",
    "    'lois',\n",
    "    'décret',\n",
    "    'décrets',\n",
    "    'code',\n",
    "    'codes',\n",
    "    'avenant',\n",
    "    'avenants',\n",
    "    'circulaire',\n",
    "    'circulaires',\n",
    "    'arrêté',\n",
    "    'arrêtés',\n",
    "\n",
    "    'partie',\n",
    "    'parties',\n",
    "    'livre',\n",
    "    'livres',\n",
    "    'titre',\n",
    "    'titres',\n",
    "    'chapitre',\n",
    "    'chapitres',\n",
    "    'section',\n",
    "    'sections',\n",
    "    'article',\n",
    "    'articles',\n",
    "    'alinea',\n",
    "    'alineas',\n",
    "    'alinéa',\n",
    "    'alinéas',\n",
    "\n",
    "    'susvisé',\n",
    "    'susvisés',\n",
    "    'susvisée',\n",
    "    'susvisées',\n",
    "    'modifié',\n",
    "    'modifiés',\n",
    "    'modifiée',\n",
    "    'modifiées',\n",
    "    'relatif',\n",
    "    'relatifs',\n",
    "    'relative',\n",
    "    'relatives',\n",
    "    'modificatif',\n",
    "    'modificatifs',\n",
    "    'modificative',\n",
    "    'modificatives',\n",
    "\n",
    "    'présent',\n",
    "    'présents',\n",
    "    'présente',\n",
    "    'présentes',\n",
    "    'précédent',\n",
    "    'précédents',\n",
    "    'précédente',\n",
    "    'précédentes',\n",
    "    'suivant',\n",
    "    'suivants',\n",
    "    'suivante',\n",
    "    'suivantes',\n",
    "    \n",
    "    'no',\n",
    "    'n°',\n",
    "]\n",
    "ensemble_mots_importants = set(mots_importants)"
   ]
  },
  {
   "cell_type": "code",
   "execution_count": 33,
   "metadata": {
    "collapsed": false
   },
   "outputs": [
    {
     "name": "stdout",
     "output_type": "stream",
     "text": [
      "0\n",
      "1000000\n",
      "2000000\n",
      "3000000\n",
      "4000000\n",
      "5000000\n",
      "6000000\n",
      "7000000\n",
      "8000000\n",
      "9000000\n",
      "10000000\n",
      "11000000\n",
      "12000000\n",
      "13000000\n",
      "14000000\n",
      "15000000\n",
      "16000000\n",
      "17000000\n",
      "18000000\n",
      "19000000\n",
      "20000000\n"
     ]
    }
   ],
   "source": [
    "liens_pp = []\n",
    "for i_mots, mots in enumerate(mots_pp):\n",
    "    liens = []\n",
    "    i = 0\n",
    "    while i < len(mots):\n",
    "        if mots[i] in mots_importants:\n",
    "            lien = [mots[i]]\n",
    "            i += 1\n",
    "            while set(mots[min(i, len(mots)):min(i+3, len(mots))]) & ensemble_mots_importants:\n",
    "                lien.append(mots[i])\n",
    "                i += 1\n",
    "            if len(lien) > 1:\n",
    "                liens.append(lien)\n",
    "        i += 1\n",
    "    liens_pp.append(liens)\n",
    "        \n",
    "    if i_mots % 1000000 == 0:\n",
    "        print(i_mots)"
   ]
  },
  {
   "cell_type": "code",
   "execution_count": 40,
   "metadata": {
    "collapsed": false
   },
   "outputs": [],
   "source": [
    "with open(repertoire_racine + 'liens.pickle', 'wb') as f:\n",
    "    pickle.dump(liens_pp, f)"
   ]
  },
  {
   "cell_type": "code",
   "execution_count": 42,
   "metadata": {
    "collapsed": false
   },
   "outputs": [
    {
     "data": {
      "text/plain": [
       "3945245"
      ]
     },
     "execution_count": 42,
     "metadata": {},
     "output_type": "execute_result"
    }
   ],
   "source": [
    "sum([len(l) for l in liens_pp])"
   ]
  },
  {
   "cell_type": "code",
   "execution_count": null,
   "metadata": {
    "collapsed": true
   },
   "outputs": [],
   "source": []
  }
 ],
 "metadata": {
  "kernelspec": {
   "display_name": "Python 3",
   "language": "python",
   "name": "python3"
  },
  "language_info": {
   "codemirror_mode": {
    "name": "ipython",
    "version": 3
   },
   "file_extension": ".py",
   "mimetype": "text/x-python",
   "name": "python",
   "nbconvert_exporter": "python",
   "pygments_lexer": "ipython3",
   "version": "3.5.2"
  }
 },
 "nbformat": 4,
 "nbformat_minor": 2
}
